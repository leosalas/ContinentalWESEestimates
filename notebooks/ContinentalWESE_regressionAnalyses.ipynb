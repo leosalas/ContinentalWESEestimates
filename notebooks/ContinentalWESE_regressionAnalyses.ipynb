{
 "cells": [
  {
   "cell_type": "markdown",
   "metadata": {},
   "source": [
    "# This notebook contains the final regression analysis code"
   ]
  },
  {
   "cell_type": "markdown",
   "metadata": {},
   "source": [
    "It follows from the data generated in the notebook called \"Prepare_WESE_analysisData\""
   ]
  },
  {
   "cell_type": "code",
   "execution_count": 8,
   "metadata": {
    "scrolled": false
   },
   "outputs": [
    {
     "name": "stderr",
     "output_type": "stream",
     "text": [
      "Loading required package: plot3D\n",
      "Warning message:\n",
      "\"package 'plot3D' was built under R version 3.6.3\"Loading required package: plotROC\n",
      "Warning message:\n",
      "\"package 'plotROC' was built under R version 3.6.3\"Loading required package: lmtest\n",
      "Warning message:\n",
      "\"package 'lmtest' was built under R version 3.6.3\"Loading required package: zoo\n",
      "\n",
      "Attaching package: 'zoo'\n",
      "\n",
      "The following objects are masked from 'package:base':\n",
      "\n",
      "    as.Date, as.Date.numeric\n",
      "\n"
     ]
    },
    {
     "data": {
      "text/html": [
       "<ol>\n",
       "\t<li>TRUE</li>\n",
       "\t<li>TRUE</li>\n",
       "\t<li>TRUE</li>\n",
       "\t<li>TRUE</li>\n",
       "\t<li>TRUE</li>\n",
       "\t<li>TRUE</li>\n",
       "\t<li>TRUE</li>\n",
       "\t<li>TRUE</li>\n",
       "</ol>\n"
      ],
      "text/latex": [
       "\\begin{enumerate}\n",
       "\\item TRUE\n",
       "\\item TRUE\n",
       "\\item TRUE\n",
       "\\item TRUE\n",
       "\\item TRUE\n",
       "\\item TRUE\n",
       "\\item TRUE\n",
       "\\item TRUE\n",
       "\\end{enumerate}\n"
      ],
      "text/markdown": [
       "1. TRUE\n",
       "2. TRUE\n",
       "3. TRUE\n",
       "4. TRUE\n",
       "5. TRUE\n",
       "6. TRUE\n",
       "7. TRUE\n",
       "8. TRUE\n",
       "\n",
       "\n"
      ],
      "text/plain": [
       "[[1]]\n",
       "[1] TRUE\n",
       "\n",
       "[[2]]\n",
       "[1] TRUE\n",
       "\n",
       "[[3]]\n",
       "[1] TRUE\n",
       "\n",
       "[[4]]\n",
       "[1] TRUE\n",
       "\n",
       "[[5]]\n",
       "[1] TRUE\n",
       "\n",
       "[[6]]\n",
       "[1] TRUE\n",
       "\n",
       "[[7]]\n",
       "[1] TRUE\n",
       "\n",
       "[[8]]\n",
       "[1] TRUE\n"
      ]
     },
     "metadata": {},
     "output_type": "display_data"
    }
   ],
   "source": [
    "## Load libraries\n",
    "libs<-c(\"ggplot2\",\"plyr\",\"dplyr\",\"jsonlite\",\"plot3D\",\"caret\",\"plotROC\",\"lmtest\")\n",
    "lapply(libs, require, character.only = TRUE)\n",
    "pathToLocalGit<-\"C:/Users/lsalas/git/ContinentalWESEestimates/\"\n",
    "\n",
    "## Load the source utility functions file\n",
    "source(file=paste0(pathToLocalGit,\"scripts/fitRegressionModels_functions.R\"))\n",
    "\n",
    "#load the data\n",
    "load(file=paste0(pathToLocalGit,\"data/WESEdata_forContinentalAnalyses.RData\"))"
   ]
  },
  {
   "cell_type": "markdown",
   "metadata": {},
   "source": [
    "### Here are the covariates to use in the models.\n",
    "Use linear and quadratic forms for the numerics, and combinations between numerics and factors. Quadratics must be added to the equation as so: I(distToShore^2). Combining numerics and factors means a slope of the numeric for each level of the factor.   \n",
    "   \n",
    "Numeric:   \n",
    "  * scaledmeanslope   \n",
    "  * logmeanbathy  \n",
    "  * logglacierdist  \n",
    "  * logdistToShore  \n",
    "  * logcont300dist  \n",
    "  * logcont800dist  \n",
    "  * logdistNearestIceEdge  \n",
    "  * logfastIceWidth  \n",
    "  * logempedist  \n",
    "  * logadpedist  \n",
    "  * logADPEabund  \n",
    "  * logEMPEabund  \n",
    "  * fastIceRatio  \n",
    "  * Persistence2Years (3 levels: 0, 1, 2)  \n",
    "  * PredictabilityDec5Years (6 levels: 0, 1,...,5)\n",
    "  * Persistence3Years (4 levels: 0, 1, 2, 3)  \n",
    "  * PredictabilityOct5Years (6 levels: 0, 1,...,5)\n",
    "  \n",
    "Factors:  \n",
    "  * DecemberIcePresence (0/1)    \n",
    "  * InCanyon (0/1)  \n",
    "  * InTrough (0/1)  \n",
    "  * Region - reference: Ross Sea\n",
    "  * adpepresent (0/1)"
   ]
  },
  {
   "cell_type": "code",
   "execution_count": 9,
   "metadata": {},
   "outputs": [],
   "source": [
    "#THIS IS THE \"FULL\" MODEL as per convo July 6 US-time\n",
    "fml<-paste0(\"presence~scaledmeanslope+I(scaledmeanslope^2)+logmeanbathy+adpepresent*logadpedist+empepresent*logempedist+\",\n",
    "            \"I(logempedist^2)+I(logadpedist^2)+logEMPEabund+logADPEabund*Region+Region*PredictabilityOct5Years+\",\n",
    "            \"logdistToShore+I(logdistToShore^2)+Region*logcont300dist+InCanyon+\",\n",
    "            \"Region*fastIceRatio+Region*logglacierdist\")\n",
    "reslst<-fitModelToBootstrap(fml=fml,datalist=bootsamp,fam=\"binomial\")\n",
    "## Note: not indicating the family so it defaults to \"gaussian\" and fits a simple regression"
   ]
  },
  {
   "cell_type": "code",
   "execution_count": 10,
   "metadata": {},
   "outputs": [
    {
     "name": "stdout",
     "output_type": "stream",
     "text": [
      "                  Parameter     Value Nboot\n",
      "Df                       Df  2885.000   100\n",
      "AIC                     AIC  2956.328   100\n",
      "LogLik               LogLik -1439.164   100\n",
      "ResidDeviance ResidDeviance  2878.328   100\n"
     ]
    }
   ],
   "source": [
    "gofres<-summarizeResults(fitobj=reslst,what=\"gof\")\n",
    "print(gofres)"
   ]
  },
  {
   "cell_type": "markdown",
   "metadata": {},
   "source": [
    "Let's examine the results, starting with a summary of the coefficients. For this we use the function \"summarizeResults\". The function has two arguments: the fitobj is the object resulting from using the fitModelToBootstrap function above (in our example, fitobj is reslst), and the \"what\" parameter. This parameter has three possible values: \"coefs\", \"gof\", or \"resids\". The latter is the vector of average residuals. Let's look at the coefficients and the goodness-of-fit results."
   ]
  },
  {
   "cell_type": "code",
   "execution_count": 11,
   "metadata": {},
   "outputs": [
    {
     "name": "stdout",
     "output_type": "stream",
     "text": [
      "                                Parameter Coefficient StError z_value Prob_t\n",
      "1                             (Intercept)      91.625  14.321   6.386  0.000\n",
      "2                         scaledmeanslope       0.337   0.154   2.199  0.071\n",
      "3                    I(scaledmeanslope^2)      -0.079   0.035  -2.278  0.068\n",
      "4                            logmeanbathy       0.261   0.083   3.119  0.013\n",
      "5                           adpepresentno     -17.469   4.071  -4.291  0.001\n",
      "6                             logadpedist       2.721   0.973   2.806  0.020\n",
      "7                           empepresentno      11.751   3.637   3.174  0.016\n",
      "8                             logempedist     -12.317   1.571  -7.804  0.000\n",
      "9                        I(logempedist^2)       0.559   0.075   7.463  0.000\n",
      "10                       I(logadpedist^2)      -0.166   0.053  -3.156  0.009\n",
      "11                           logEMPEabund      -0.140   0.047  -2.956  0.013\n",
      "12                           logADPEabund      -0.024   0.047  -0.503  0.522\n",
      "13                          RegionA-B-WAP     -44.960  10.770  -4.176  0.000\n",
      "14                             RegionEAnt     -38.456  10.593  -3.629  0.001\n",
      "15                         RegionWedd_Sea     -44.122  10.695  -4.130  0.000\n",
      "16                PredictabilityOct5Years      -0.289   0.081  -3.562  0.003\n",
      "17                         logdistToShore       3.447   0.510   6.773  0.000\n",
      "18                    I(logdistToShore^2)      -0.257   0.032  -7.909  0.000\n",
      "19                         logcont300dist      -2.338   0.726  -3.218  0.002\n",
      "20                               InCanyon      -2.068   0.674  -3.069  0.006\n",
      "21                           fastIceRatio       0.890   0.635   1.397  0.229\n",
      "22                         logglacierdist      -1.145   0.245  -4.645  0.000\n",
      "23              adpepresentno:logadpedist       1.654   0.371   4.453  0.000\n",
      "24              empepresentno:logempedist      -1.071   0.305  -3.453  0.008\n",
      "25             logADPEabund:RegionA-B-WAP      -0.162   0.089  -1.817  0.106\n",
      "26                logADPEabund:RegionEAnt       0.095   0.040   2.416  0.052\n",
      "27            logADPEabund:RegionWedd_Sea      -0.021   0.068  -0.328  0.541\n",
      "28  RegionA-B-WAP:PredictabilityOct5Years      -0.208   0.132  -1.581  0.180\n",
      "29     RegionEAnt:PredictabilityOct5Years       0.206   0.086   2.404  0.045\n",
      "30 RegionWedd_Sea:PredictabilityOct5Years      -0.105   0.111  -0.952  0.394\n",
      "31           RegionA-B-WAP:logcont300dist       2.256   0.728   3.094  0.002\n",
      "32              RegionEAnt:logcont300dist       2.176   0.728   2.987  0.003\n",
      "33          RegionWedd_Sea:logcont300dist       2.326   0.731   3.181  0.002\n",
      "34             RegionA-B-WAP:fastIceRatio      -2.029   0.787  -2.581  0.040\n",
      "35                RegionEAnt:fastIceRatio      -0.526   0.688  -0.758  0.440\n",
      "36            RegionWedd_Sea:fastIceRatio      -1.442   0.738  -1.951  0.107\n",
      "37           RegionA-B-WAP:logglacierdist       1.492   0.317   4.696  0.000\n",
      "38              RegionEAnt:logglacierdist       0.854   0.254   3.342  0.013\n",
      "39          RegionWedd_Sea:logglacierdist       1.244   0.286   4.340  0.001\n",
      "   Nboot\n",
      "1    100\n",
      "2    100\n",
      "3    100\n",
      "4    100\n",
      "5    100\n",
      "6    100\n",
      "7    100\n",
      "8    100\n",
      "9    100\n",
      "10   100\n",
      "11   100\n",
      "12   100\n",
      "13   100\n",
      "14   100\n",
      "15   100\n",
      "16   100\n",
      "17   100\n",
      "18   100\n",
      "19   100\n",
      "20   100\n",
      "21   100\n",
      "22   100\n",
      "23   100\n",
      "24   100\n",
      "25   100\n",
      "26   100\n",
      "27   100\n",
      "28   100\n",
      "29   100\n",
      "30   100\n",
      "31   100\n",
      "32   100\n",
      "33   100\n",
      "34   100\n",
      "35   100\n",
      "36   100\n",
      "37   100\n",
      "38   100\n",
      "39   100\n"
     ]
    }
   ],
   "source": [
    "coefres<-summarizeResults(fitobj=reslst,what=\"coefs\")\n",
    "row.names(coefres)<-NULL\n",
    "print(coefres)"
   ]
  },
  {
   "cell_type": "markdown",
   "metadata": {},
   "source": [
    "## Evaluating goodness of fit\n",
    "Here we calculate the confusion matrix statistics from all the bootstrap results combined, and plot the ROC curve with all the bootstrap results combined"
   ]
  },
  {
   "cell_type": "code",
   "execution_count": 12,
   "metadata": {},
   "outputs": [
    {
     "data": {
      "text/html": [
       "<table>\n",
       "<thead><tr><th scope=col>bootstrap</th><th scope=col>predicted</th><th scope=col>residual</th><th scope=col>observed</th></tr></thead>\n",
       "<tbody>\n",
       "\t<tr><td>1        </td><td>0.1213897</td><td>-1.138161</td><td>0        </td></tr>\n",
       "\t<tr><td>1        </td><td>0.2304915</td><td>-1.299531</td><td>0        </td></tr>\n",
       "\t<tr><td>1        </td><td>0.2461203</td><td>-1.326472</td><td>0        </td></tr>\n",
       "\t<tr><td>1        </td><td>0.4522252</td><td>-1.825568</td><td>0        </td></tr>\n",
       "\t<tr><td>1        </td><td>0.2934868</td><td>-1.415402</td><td>0        </td></tr>\n",
       "\t<tr><td>1        </td><td>0.1025082</td><td>-1.114216</td><td>0        </td></tr>\n",
       "</tbody>\n",
       "</table>\n"
      ],
      "text/latex": [
       "\\begin{tabular}{r|llll}\n",
       " bootstrap & predicted & residual & observed\\\\\n",
       "\\hline\n",
       "\t 1         & 0.1213897 & -1.138161 & 0        \\\\\n",
       "\t 1         & 0.2304915 & -1.299531 & 0        \\\\\n",
       "\t 1         & 0.2461203 & -1.326472 & 0        \\\\\n",
       "\t 1         & 0.4522252 & -1.825568 & 0        \\\\\n",
       "\t 1         & 0.2934868 & -1.415402 & 0        \\\\\n",
       "\t 1         & 0.1025082 & -1.114216 & 0        \\\\\n",
       "\\end{tabular}\n"
      ],
      "text/markdown": [
       "\n",
       "| bootstrap | predicted | residual | observed |\n",
       "|---|---|---|---|\n",
       "| 1         | 0.1213897 | -1.138161 | 0         |\n",
       "| 1         | 0.2304915 | -1.299531 | 0         |\n",
       "| 1         | 0.2461203 | -1.326472 | 0         |\n",
       "| 1         | 0.4522252 | -1.825568 | 0         |\n",
       "| 1         | 0.2934868 | -1.415402 | 0         |\n",
       "| 1         | 0.1025082 | -1.114216 | 0         |\n",
       "\n"
      ],
      "text/plain": [
       "  bootstrap predicted residual  observed\n",
       "1 1         0.1213897 -1.138161 0       \n",
       "2 1         0.2304915 -1.299531 0       \n",
       "3 1         0.2461203 -1.326472 0       \n",
       "4 1         0.4522252 -1.825568 0       \n",
       "5 1         0.2934868 -1.415402 0       \n",
       "6 1         0.1025082 -1.114216 0       "
      ]
     },
     "metadata": {},
     "output_type": "display_data"
    },
    {
     "data": {
      "text/plain": [
       "Confusion Matrix and Statistics\n",
       "\n",
       "          Reference\n",
       "Prediction      A      P\n",
       "         A 111745  36666\n",
       "         P  34455 109534\n",
       "                                          \n",
       "               Accuracy : 0.7568          \n",
       "                 95% CI : (0.7552, 0.7583)\n",
       "    No Information Rate : 0.5             \n",
       "    P-Value [Acc > NIR] : < 2.2e-16       \n",
       "                                          \n",
       "                  Kappa : 0.5135          \n",
       "                                          \n",
       " Mcnemar's Test P-Value : < 2.2e-16       \n",
       "                                          \n",
       "            Sensitivity : 0.7492          \n",
       "            Specificity : 0.7643          \n",
       "         Pos Pred Value : 0.7607          \n",
       "         Neg Pred Value : 0.7529          \n",
       "             Prevalence : 0.5000          \n",
       "         Detection Rate : 0.3746          \n",
       "   Detection Prevalence : 0.4924          \n",
       "      Balanced Accuracy : 0.7568          \n",
       "                                          \n",
       "       'Positive' Class : P               \n",
       "                                          "
      ]
     },
     "metadata": {},
     "output_type": "display_data"
    },
    {
     "data": {
      "image/png": "iVBORw0KGgoAAAANSUhEUgAAA0gAAANICAMAAADKOT/pAAAAZlBMVEUAAAAzMzNDQ0NHR0dN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\nQmCC",
      "text/plain": [
       "plot without title"
      ]
     },
     "metadata": {},
     "output_type": "display_data"
    }
   ],
   "source": [
    "rdf<-summarizeResults(fitobj=reslst,what=\"residplot\")\n",
    "head(rdf)\n",
    "cmdf<-rdf[,c(\"predicted\",\"observed\")]\n",
    "cmdf$Predicted<-ifelse(cmdf$predicted>=0.5,\"P\",\"A\")\n",
    "cmdf$Observed<-ifelse(cmdf$observed==1,\"P\",\"A\")\n",
    "confusionMatrix(data=as.factor(cmdf$Predicted),reference=as.factor(cmdf$Observed),positive=\"P\")\n",
    "ggplot(rdf, aes(m = predicted, d = observed)) + geom_roc() + geom_rocci()"
   ]
  },
  {
   "cell_type": "markdown",
   "metadata": {},
   "source": [
    "The curve looks good, and accuracy is 76%."
   ]
  },
  {
   "cell_type": "code",
   "execution_count": 15,
   "metadata": {},
   "outputs": [],
   "source": [
    "#THIS IS THE SECOND MODEL reslst2 WITH NO OCT5YRS AT ALL\n",
    "fml<-paste0(\"presence~scaledmeanslope+I(scaledmeanslope^2)+logmeanbathy+adpepresent*logadpedist+empepresent*logempedist+\",\n",
    "            \"I(logempedist^2)+I(logadpedist^2)+logEMPEabund+logADPEabund*Region+\",\n",
    "            \"logdistToShore+I(logdistToShore^2)+Region*logcont300dist+InCanyon+\",\n",
    "            \"Region*fastIceRatio+Region*logglacierdist\")\n",
    "reslst2<-fitModelToBootstrap(fml=fml,datalist=bootsamp,fam=\"binomial\")\n",
    "gofres2<-summarizeResults(fitobj=reslst2,what=\"gof\")"
   ]
  },
  {
   "cell_type": "code",
   "execution_count": 16,
   "metadata": {
    "scrolled": true
   },
   "outputs": [
    {
     "name": "stdout",
     "output_type": "stream",
     "text": [
      "                       Parameter Coefficient StError z_value Prob_t Nboot\n",
      "1                    (Intercept)      89.842  13.179   6.802  0.000   100\n",
      "2                scaledmeanslope       0.469   0.149   3.157  0.010   100\n",
      "3           I(scaledmeanslope^2)      -0.092   0.034  -2.719  0.028   100\n",
      "4                   logmeanbathy       0.306   0.081   3.767  0.002   100\n",
      "5                  adpepresentno     -14.616   3.959  -3.693  0.004   100\n",
      "6                    logadpedist       2.256   0.953   2.377  0.049   100\n",
      "7                  empepresentno      12.411   3.540   3.454  0.009   100\n",
      "8                    logempedist     -12.471   1.535  -8.089  0.000   100\n",
      "9               I(logempedist^2)       0.570   0.073   7.796  0.000   100\n",
      "10              I(logadpedist^2)      -0.140   0.052  -2.715  0.026   100\n",
      "11                  logEMPEabund      -0.097   0.045  -2.130  0.075   100\n",
      "12                  logADPEabund       0.001   0.046   0.021  0.562   100\n",
      "13                 RegionA-B-WAP     -41.942   9.473  -4.426  0.000   100\n",
      "14                    RegionEAnt     -35.072   9.302  -3.765  0.000   100\n",
      "15                RegionWedd_Sea     -42.921   9.409  -4.563  0.000   100\n",
      "16                logdistToShore       3.629   0.498   7.295  0.000   100\n",
      "17           I(logdistToShore^2)      -0.271   0.032  -8.572  0.000   100\n",
      "18                logcont300dist      -2.086   0.627  -3.321  0.001   100\n",
      "19                      InCanyon      -2.128   0.678  -3.141  0.005   100\n",
      "20                  fastIceRatio       0.193   0.604   0.317  0.570   100\n",
      "21                logglacierdist      -1.136   0.242  -4.680  0.001   100\n",
      "22     adpepresentno:logadpedist       1.400   0.361   3.875  0.002   100\n",
      "23     empepresentno:logempedist      -1.107   0.297  -3.672  0.005   100\n",
      "24    logADPEabund:RegionA-B-WAP      -0.113   0.086  -1.325  0.243   100\n",
      "25       logADPEabund:RegionEAnt       0.085   0.038   2.230  0.075   100\n",
      "26   logADPEabund:RegionWedd_Sea      -0.015   0.066  -0.246  0.530   100\n",
      "27  RegionA-B-WAP:logcont300dist       1.914   0.630   3.035  0.003   100\n",
      "28     RegionEAnt:logcont300dist       1.918   0.629   3.044  0.003   100\n",
      "29 RegionWedd_Sea:logcont300dist       2.193   0.632   3.466  0.001   100\n",
      "30    RegionA-B-WAP:fastIceRatio      -2.157   0.736  -2.930  0.018   100\n",
      "31       RegionEAnt:fastIceRatio      -0.345   0.647  -0.529  0.530   100\n",
      "32   RegionWedd_Sea:fastIceRatio      -1.128   0.707  -1.595  0.190   100\n",
      "33  RegionA-B-WAP:logglacierdist       1.606   0.305   5.258  0.000   100\n",
      "34     RegionEAnt:logglacierdist       0.870   0.251   3.448  0.014   100\n",
      "35 RegionWedd_Sea:logglacierdist       1.313   0.280   4.669  0.000   100\n"
     ]
    }
   ],
   "source": [
    "#Example printing coefficients - do where needed\n",
    "coefres<-summarizeResults(fitobj=reslst2,what=\"coefs\")\n",
    "row.names(coefres)<-NULL\n",
    "print(coefres)"
   ]
  },
  {
   "cell_type": "code",
   "execution_count": 17,
   "metadata": {},
   "outputs": [],
   "source": [
    "#THIS IS THE THIRD MODEL restlst3 WITH NO REGION-OCTOBER5YRS INTERACTION\n",
    "fml<-paste0(\"presence~scaledmeanslope+I(scaledmeanslope^2)+logmeanbathy+adpepresent*logadpedist+empepresent*logempedist+\",\n",
    "            \"I(logempedist^2)+I(logadpedist^2)+logEMPEabund+logADPEabund*Region+PredictabilityOct5Years+\",\n",
    "            \"logdistToShore+I(logdistToShore^2)+Region*logcont300dist+InCanyon+\",\n",
    "            \"Region*fastIceRatio+Region*logglacierdist\")\n",
    "reslst3<-fitModelToBootstrap(fml=fml,datalist=bootsamp,fam=\"binomial\")\n",
    "gofres3<-summarizeResults(fitobj=reslst3,what=\"gof\")"
   ]
  },
  {
   "cell_type": "code",
   "execution_count": 18,
   "metadata": {},
   "outputs": [],
   "source": [
    "#THIS IS THE FOURTH MODEL restlst4 NO 300CONTDIST AT ALL\n",
    "fml<-paste0(\"presence~scaledmeanslope+I(scaledmeanslope^2)+logmeanbathy+adpepresent*logadpedist+empepresent*logempedist+\",\n",
    "            \"I(logempedist^2)+I(logadpedist^2)+logEMPEabund+logADPEabund*Region+Region*PredictabilityOct5Years+\",\n",
    "            \"logdistToShore+I(logdistToShore^2)+InCanyon+\",\n",
    "            \"Region*fastIceRatio+Region*logglacierdist\")\n",
    "reslst4<-fitModelToBootstrap(fml=fml,datalist=bootsamp,fam=\"binomial\")\n",
    "gofres4<-summarizeResults(fitobj=reslst4,what=\"gof\")"
   ]
  },
  {
   "cell_type": "code",
   "execution_count": 19,
   "metadata": {},
   "outputs": [],
   "source": [
    "#THIS IS THE FIFTH MODEL restlst5 NO 300CONTDIST-REGION INTERACTION\n",
    "fml<-paste0(\"presence~scaledmeanslope+I(scaledmeanslope^2)+logmeanbathy+adpepresent*logadpedist+empepresent*logempedist+\",\n",
    "            \"I(logempedist^2)+I(logadpedist^2)+logEMPEabund+logADPEabund*Region+Region*PredictabilityOct5Years+\",\n",
    "            \"logdistToShore+I(logdistToShore^2)+logcont300dist+InCanyon+\",\n",
    "            \"Region*fastIceRatio+Region*logglacierdist\")\n",
    "reslst5<-fitModelToBootstrap(fml=fml,datalist=bootsamp,fam=\"binomial\")\n",
    "gofres5<-summarizeResults(fitobj=reslst5,what=\"gof\")\n",
    "## Note: not indicating the family so it defaults to \"gaussian\" and fits a simple regression"
   ]
  },
  {
   "cell_type": "code",
   "execution_count": 20,
   "metadata": {},
   "outputs": [],
   "source": [
    "#THIS IS THE SIXTH MODEL restlst6 FAST ICE RATIO AT ALL\n",
    "fml<-paste0(\"presence~scaledmeanslope+I(scaledmeanslope^2)+logmeanbathy+adpepresent*logadpedist+empepresent*logempedist+\",\n",
    "            \"I(logempedist^2)+I(logadpedist^2)+logEMPEabund+logADPEabund*Region+Region*PredictabilityOct5Years+\",\n",
    "            \"logdistToShore+I(logdistToShore^2)+Region*logcont300dist+InCanyon+\",\n",
    "            \"Region*logglacierdist\")\n",
    "reslst6<-fitModelToBootstrap(fml=fml,datalist=bootsamp,fam=\"binomial\")\n",
    "gofres6<-summarizeResults(fitobj=reslst6,what=\"gof\")"
   ]
  },
  {
   "cell_type": "code",
   "execution_count": 21,
   "metadata": {},
   "outputs": [
    {
     "name": "stdout",
     "output_type": "stream",
     "text": [
      "                  Parameter     Value Nboot\n",
      "Df                       Df  2889.000   100\n",
      "AIC                     AIC  2960.992   100\n",
      "LogLik               LogLik -1445.496   100\n",
      "ResidDeviance ResidDeviance  2890.992   100\n"
     ]
    }
   ],
   "source": [
    "#THIS IS SIXTH MODEL\n",
    "gofres<-summarizeResults(fitobj=reslst6,what=\"gof\")\n",
    "print(gofres)"
   ]
  },
  {
   "cell_type": "code",
   "execution_count": 22,
   "metadata": {
    "scrolled": true
   },
   "outputs": [
    {
     "name": "stdout",
     "output_type": "stream",
     "text": [
      "                                Parameter Coefficient StError z_value Prob_t\n",
      "1                             (Intercept)      92.214  13.950   6.598  0.000\n",
      "2                         scaledmeanslope       0.311   0.152   2.051  0.094\n",
      "3                    I(scaledmeanslope^2)      -0.075   0.035  -2.182  0.078\n",
      "4                            logmeanbathy       0.276   0.083   3.298  0.008\n",
      "5                           adpepresentno     -16.850   4.040  -4.171  0.001\n",
      "6                             logadpedist       2.487   0.970   2.572  0.032\n",
      "7                           empepresentno      11.273   3.613   3.065  0.021\n",
      "8                             logempedist     -12.107   1.556  -7.745  0.000\n",
      "9                        I(logempedist^2)       0.549   0.074   7.404  0.000\n",
      "10                       I(logadpedist^2)      -0.154   0.053  -2.938  0.015\n",
      "11                           logEMPEabund      -0.138   0.047  -2.931  0.014\n",
      "12                           logADPEabund      -0.033   0.046  -0.701  0.467\n",
      "13                          RegionA-B-WAP     -46.810  10.321  -4.538  0.000\n",
      "14                             RegionEAnt     -38.969  10.111  -3.853  0.000\n",
      "15                         RegionWedd_Sea     -45.453  10.232  -4.447  0.000\n",
      "16                PredictabilityOct5Years      -0.258   0.078  -3.329  0.006\n",
      "17                         logdistToShore       3.580   0.495   7.243  0.000\n",
      "18                    I(logdistToShore^2)      -0.265   0.031  -8.545  0.000\n",
      "19                         logcont300dist      -2.289   0.692  -3.305  0.001\n",
      "20                               InCanyon      -2.050   0.672  -3.054  0.006\n",
      "21                         logglacierdist      -1.251   0.234  -5.331  0.000\n",
      "22              adpepresentno:logadpedist       1.597   0.369   4.329  0.000\n",
      "23              empepresentno:logempedist      -1.029   0.303  -3.340  0.010\n",
      "24             logADPEabund:RegionA-B-WAP      -0.176   0.089  -1.992  0.080\n",
      "25                logADPEabund:RegionEAnt       0.102   0.038   2.656  0.032\n",
      "26            logADPEabund:RegionWedd_Sea      -0.020   0.068  -0.310  0.544\n",
      "27  RegionA-B-WAP:PredictabilityOct5Years      -0.312   0.127  -2.457  0.037\n",
      "28     RegionEAnt:PredictabilityOct5Years       0.188   0.081   2.322  0.053\n",
      "29 RegionWedd_Sea:PredictabilityOct5Years      -0.148   0.108  -1.366  0.221\n",
      "30           RegionA-B-WAP:logcont300dist       2.216   0.694   3.189  0.002\n",
      "31              RegionEAnt:logcont300dist       2.126   0.693   3.063  0.003\n",
      "32          RegionWedd_Sea:logcont300dist       2.268   0.697   3.251  0.001\n",
      "33           RegionA-B-WAP:logglacierdist       1.617   0.310   5.200  0.000\n",
      "34              RegionEAnt:logglacierdist       0.936   0.240   3.874  0.003\n",
      "35          RegionWedd_Sea:logglacierdist       1.357   0.275   4.916  0.000\n",
      "   Nboot\n",
      "1    100\n",
      "2    100\n",
      "3    100\n",
      "4    100\n",
      "5    100\n",
      "6    100\n",
      "7    100\n",
      "8    100\n",
      "9    100\n",
      "10   100\n",
      "11   100\n",
      "12   100\n",
      "13   100\n",
      "14   100\n",
      "15   100\n",
      "16   100\n",
      "17   100\n",
      "18   100\n",
      "19   100\n",
      "20   100\n",
      "21   100\n",
      "22   100\n",
      "23   100\n",
      "24   100\n",
      "25   100\n",
      "26   100\n",
      "27   100\n",
      "28   100\n",
      "29   100\n",
      "30   100\n",
      "31   100\n",
      "32   100\n",
      "33   100\n",
      "34   100\n",
      "35   100\n"
     ]
    }
   ],
   "source": [
    "#NO FAST ICE RATIO AT ALL\n",
    "coefres<-summarizeResults(fitobj=reslst6,what=\"coefs\")\n",
    "row.names(coefres)<-NULL\n",
    "print(coefres)"
   ]
  },
  {
   "cell_type": "code",
   "execution_count": 23,
   "metadata": {},
   "outputs": [],
   "source": [
    "#THIS IS THE SEVENTH MODEL restlst7 NO REGION-FAST ICE RATIO INTERACTION\n",
    "fml<-paste0(\"presence~scaledmeanslope+I(scaledmeanslope^2)+logmeanbathy+adpepresent*logadpedist+empepresent*logempedist+\",\n",
    "            \"I(logempedist^2)+I(logadpedist^2)+logEMPEabund+logADPEabund*Region+Region*PredictabilityOct5Years+\",\n",
    "            \"logdistToShore+I(logdistToShore^2)+Region*logcont300dist+InCanyon+\",\n",
    "            \"fastIceRatio+Region*logglacierdist\")\n",
    "reslst7<-fitModelToBootstrap(fml=fml,datalist=bootsamp,fam=\"binomial\")\n",
    "gofres7<-summarizeResults(fitobj=reslst7,what=\"gof\")"
   ]
  },
  {
   "cell_type": "code",
   "execution_count": 24,
   "metadata": {},
   "outputs": [],
   "source": [
    "#THIS IS THE EIGHTH MODEL restlst8 NO GLACIERDIST AT ALL\n",
    "fml<-paste0(\"presence~scaledmeanslope+I(scaledmeanslope^2)+logmeanbathy+adpepresent*logadpedist+empepresent*logempedist+\",\n",
    "            \"I(logempedist^2)+I(logadpedist^2)+logEMPEabund+logADPEabund*Region+Region*PredictabilityOct5Years+\",\n",
    "            \"logdistToShore+I(logdistToShore^2)+Region*logcont300dist+InCanyon+\",\n",
    "            \"Region*fastIceRatio\")\n",
    "reslst8<-fitModelToBootstrap(fml=fml,datalist=bootsamp,fam=\"binomial\")\n",
    "gofres8<-summarizeResults(fitobj=reslst8,what=\"gof\")"
   ]
  },
  {
   "cell_type": "code",
   "execution_count": 25,
   "metadata": {},
   "outputs": [],
   "source": [
    "#THIS IS THE NINTH MODEL restlst9, NO GLACIERDIST-REGION INTERACTION\n",
    "fml<-paste0(\"presence~scaledmeanslope+I(scaledmeanslope^2)+logmeanbathy+adpepresent*logadpedist+empepresent*logempedist+\",\n",
    "            \"I(logempedist^2)+I(logadpedist^2)+logEMPEabund+logADPEabund*Region+Region*PredictabilityOct5Years+\",\n",
    "            \"logdistToShore+I(logdistToShore^2)+Region*logcont300dist+InCanyon+\",\n",
    "            \"Region*fastIceRatio+logglacierdist\")\n",
    "reslst9<-fitModelToBootstrap(fml=fml,datalist=bootsamp,fam=\"binomial\")\n",
    "gofres9<-summarizeResults(fitobj=reslst9,what=\"gof\")"
   ]
  },
  {
   "cell_type": "code",
   "execution_count": 26,
   "metadata": {},
   "outputs": [],
   "source": [
    "#THIS IS THE TENTH MODEL restlst10, NO ADPEABUNDANCE AT ALL\n",
    "fml<-paste0(\"presence~scaledmeanslope+I(scaledmeanslope^2)+logmeanbathy+adpepresent*logadpedist+empepresent*logempedist+\",\n",
    "            \"I(logempedist^2)+I(logadpedist^2)+logEMPEabund+Region*PredictabilityOct5Years+\",\n",
    "            \"logdistToShore+I(logdistToShore^2)+Region*logcont300dist+InCanyon+\",\n",
    "            \"Region*fastIceRatio+Region*logglacierdist\")\n",
    "reslst10<-fitModelToBootstrap(fml=fml,datalist=bootsamp,fam=\"binomial\")\n",
    "gofres10<-summarizeResults(fitobj=reslst10,what=\"gof\")"
   ]
  },
  {
   "cell_type": "code",
   "execution_count": 27,
   "metadata": {},
   "outputs": [],
   "source": [
    "#THIS IS THE ELEVENTH MODEL restlst11, NO ADPEABUNDANCE-REGION\n",
    "fml<-paste0(\"presence~scaledmeanslope+I(scaledmeanslope^2)+logmeanbathy+adpepresent*logadpedist+empepresent*logempedist+\",\n",
    "            \"I(logempedist^2)+I(logadpedist^2)+logEMPEabund+logADPEabund+Region*PredictabilityOct5Years+\",\n",
    "            \"logdistToShore+I(logdistToShore^2)+Region*logcont300dist+InCanyon+\",\n",
    "            \"Region*fastIceRatio+Region*logglacierdist\")\n",
    "reslst11<-fitModelToBootstrap(fml=fml,datalist=bootsamp,fam=\"binomial\")\n",
    "gofres11<-summarizeResults(fitobj=reslst11,what=\"gof\")"
   ]
  },
  {
   "cell_type": "code",
   "execution_count": 28,
   "metadata": {},
   "outputs": [
    {
     "data": {
      "text/html": [
       "<table>\n",
       "<thead><tr><th scope=col>Df</th><th scope=col>AIC</th><th scope=col>LogLik</th><th scope=col>ResidDeviance</th><th scope=col>model</th><th scope=col>modelName</th></tr></thead>\n",
       "<tbody>\n",
       "\t<tr><td> 2889.000          </td><td> 2960.992          </td><td>-1445.496          </td><td> 2890.992          </td><td>Model 1            </td><td>Full               </td></tr>\n",
       "\t<tr><td> 2889.000          </td><td> 3029.542          </td><td>-1479.771          </td><td> 2959.542          </td><td>Model 2            </td><td>No_Oct5Yrs         </td></tr>\n",
       "\t<tr><td> 2888.00           </td><td> 2983.52           </td><td>-1455.76           </td><td> 2911.52           </td><td>Model 3            </td><td>Region_Oct5Yrs     </td></tr>\n",
       "\t<tr><td> 2889.000          </td><td> 2986.496          </td><td>-1458.248          </td><td> 2916.496          </td><td>Model 4            </td><td>No_Dist300m        </td></tr>\n",
       "\t<tr><td> 2888.000          </td><td> 2972.087          </td><td>-1450.044          </td><td> 2900.087          </td><td>Model 5            </td><td>Region_Dist300     </td></tr>\n",
       "\t<tr><td> 2889.000          </td><td> 2960.992          </td><td>-1445.496          </td><td> 2890.992          </td><td>Model 6            </td><td>No_FastIceRatio    </td></tr>\n",
       "\t<tr><td> 2888.000          </td><td> 2962.372          </td><td>-1445.186          </td><td> 2890.372          </td><td>Model 7            </td><td>Region_FastIceRatio</td></tr>\n",
       "\t<tr><td> 2889.000          </td><td> 2992.411          </td><td>-1461.205          </td><td> 2922.411          </td><td>Model 8            </td><td>No_GlacierDist     </td></tr>\n",
       "\t<tr><td> 2888.000          </td><td> 2981.979          </td><td>-1454.990          </td><td> 2909.979          </td><td>Model 9            </td><td>Region_GlacierDist </td></tr>\n",
       "\t<tr><td> 2889.000          </td><td> 2970.238          </td><td>-1450.119          </td><td> 2900.238          </td><td>Model 10           </td><td>NoADPEabund        </td></tr>\n",
       "\t<tr><td> 2888.000          </td><td> 2970.191          </td><td>-1449.096          </td><td> 2898.191          </td><td>Model 11           </td><td>Region_ADPEabund   </td></tr>\n",
       "</tbody>\n",
       "</table>\n"
      ],
      "text/latex": [
       "\\begin{tabular}{r|llllll}\n",
       " Df & AIC & LogLik & ResidDeviance & model & modelName\\\\\n",
       "\\hline\n",
       "\t  2889.000           &  2960.992           & -1445.496           &  2890.992           & Model 1             & Full               \\\\\n",
       "\t  2889.000             &  3029.542             & -1479.771             &  2959.542             & Model 2               & No\\_Oct5Yrs         \\\\\n",
       "\t  2888.00              &  2983.52              & -1455.76              &  2911.52              & Model 3               & Region\\_Oct5Yrs     \\\\\n",
       "\t  2889.000             &  2986.496             & -1458.248             &  2916.496             & Model 4               & No\\_Dist300m        \\\\\n",
       "\t  2888.000             &  2972.087             & -1450.044             &  2900.087             & Model 5               & Region\\_Dist300     \\\\\n",
       "\t  2889.000             &  2960.992             & -1445.496             &  2890.992             & Model 6               & No\\_FastIceRatio    \\\\\n",
       "\t  2888.000             &  2962.372             & -1445.186             &  2890.372             & Model 7               & Region\\_FastIceRatio\\\\\n",
       "\t  2889.000             &  2992.411             & -1461.205             &  2922.411             & Model 8               & No\\_GlacierDist     \\\\\n",
       "\t  2888.000             &  2981.979             & -1454.990             &  2909.979             & Model 9               & Region\\_GlacierDist \\\\\n",
       "\t  2889.000           &  2970.238           & -1450.119           &  2900.238           & Model 10            & NoADPEabund        \\\\\n",
       "\t  2888.000             &  2970.191             & -1449.096             &  2898.191             & Model 11              & Region\\_ADPEabund   \\\\\n",
       "\\end{tabular}\n"
      ],
      "text/markdown": [
       "\n",
       "| Df | AIC | LogLik | ResidDeviance | model | modelName |\n",
       "|---|---|---|---|---|---|\n",
       "|  2889.000           |  2960.992           | -1445.496           |  2890.992           | Model 1             | Full                |\n",
       "|  2889.000           |  3029.542           | -1479.771           |  2959.542           | Model 2             | No_Oct5Yrs          |\n",
       "|  2888.00            |  2983.52            | -1455.76            |  2911.52            | Model 3             | Region_Oct5Yrs      |\n",
       "|  2889.000           |  2986.496           | -1458.248           |  2916.496           | Model 4             | No_Dist300m         |\n",
       "|  2888.000           |  2972.087           | -1450.044           |  2900.087           | Model 5             | Region_Dist300      |\n",
       "|  2889.000           |  2960.992           | -1445.496           |  2890.992           | Model 6             | No_FastIceRatio     |\n",
       "|  2888.000           |  2962.372           | -1445.186           |  2890.372           | Model 7             | Region_FastIceRatio |\n",
       "|  2889.000           |  2992.411           | -1461.205           |  2922.411           | Model 8             | No_GlacierDist      |\n",
       "|  2888.000           |  2981.979           | -1454.990           |  2909.979           | Model 9             | Region_GlacierDist  |\n",
       "|  2889.000           |  2970.238           | -1450.119           |  2900.238           | Model 10            | NoADPEabund         |\n",
       "|  2888.000           |  2970.191           | -1449.096           |  2898.191           | Model 11            | Region_ADPEabund    |\n",
       "\n"
      ],
      "text/plain": [
       "   Df        AIC       LogLik    ResidDeviance model    modelName          \n",
       "1   2889.000  2960.992 -1445.496  2890.992     Model 1  Full               \n",
       "2   2889.000  3029.542 -1479.771  2959.542     Model 2  No_Oct5Yrs         \n",
       "3   2888.00   2983.52  -1455.76   2911.52      Model 3  Region_Oct5Yrs     \n",
       "4   2889.000  2986.496 -1458.248  2916.496     Model 4  No_Dist300m        \n",
       "5   2888.000  2972.087 -1450.044  2900.087     Model 5  Region_Dist300     \n",
       "6   2889.000  2960.992 -1445.496  2890.992     Model 6  No_FastIceRatio    \n",
       "7   2888.000  2962.372 -1445.186  2890.372     Model 7  Region_FastIceRatio\n",
       "8   2889.000  2992.411 -1461.205  2922.411     Model 8  No_GlacierDist     \n",
       "9   2888.000  2981.979 -1454.990  2909.979     Model 9  Region_GlacierDist \n",
       "10  2889.000  2970.238 -1450.119  2900.238     Model 10 NoADPEabund        \n",
       "11  2888.000  2970.191 -1449.096  2898.191     Model 11 Region_ADPEabund   "
      ]
     },
     "metadata": {},
     "output_type": "display_data"
    }
   ],
   "source": [
    "#View the GOF results\n",
    "goflst<-list(Full=gofres,No_Oct5Yrs=gofres2,Region_Oct5Yrs=gofres3,No_Dist300m=gofres4,\n",
    "             Region_Dist300=gofres5,No_FastIceRatio=gofres6,Region_FastIceRatio=gofres7,No_GlacierDist=gofres8,\n",
    "             Region_GlacierDist=gofres9,NoADPEabund=gofres10,Region_ADPEabund=gofres11)\n",
    "modnames<-names(goflst)\n",
    "ldply(1:NROW(goflst),function(gg,goflst,modnames){\n",
    "    gofv<-goflst[[gg]]\n",
    "    mnm<-modnames[gg]\n",
    "    tdf<-as.data.frame(t(gofv));tdf<-tdf[2,]\n",
    "    tdf$model<-paste(\"Model\",gg)\n",
    "    tdf$modelName<-mnm\n",
    "    return(tdf)\n",
    "},goflst=goflst,modnames=modnames)"
   ]
  },
  {
   "cell_type": "code",
   "execution_count": 29,
   "metadata": {},
   "outputs": [
    {
     "data": {
      "text/html": [
       "<table>\n",
       "<thead><tr><th scope=col>Model</th><th scope=col>Mean_prChisq</th><th scope=col>Median_prChisq</th><th scope=col>Max_prChisq</th><th scope=col>PctSig</th></tr></thead>\n",
       "<tbody>\n",
       "\t<tr><td>No_Oct5Yrs         </td><td>0.0000             </td><td>0.0000             </td><td>0.0000             </td><td>100                </td></tr>\n",
       "\t<tr><td>Region_Oct5Yrs     </td><td>0.0000             </td><td>0.0000             </td><td>0.0004             </td><td>100                </td></tr>\n",
       "\t<tr><td>No_Dist300m        </td><td>0.0000             </td><td>0.0000             </td><td>0.0001             </td><td>100                </td></tr>\n",
       "\t<tr><td>Region_Dist300     </td><td>0.0003             </td><td>0.0001             </td><td>0.0060             </td><td>100                </td></tr>\n",
       "\t<tr><td>No_FastIceRatio    </td><td>0.0645             </td><td>0.0168             </td><td>0.6805             </td><td> 73                </td></tr>\n",
       "\t<tr><td>Region_FastIceRatio</td><td>0.0442             </td><td>0.0081             </td><td>0.5159             </td><td> 80                </td></tr>\n",
       "\t<tr><td>No_GlacierDist     </td><td>0.0000             </td><td>0.0000             </td><td>0.0004             </td><td>100                </td></tr>\n",
       "\t<tr><td>Region_GlacierDist </td><td>0.0001             </td><td>0.0000             </td><td>0.0020             </td><td>100                </td></tr>\n",
       "\t<tr><td>NoADPEabund        </td><td>0.0041             </td><td>0.0003             </td><td>0.1676             </td><td> 98                </td></tr>\n",
       "\t<tr><td>Region_ADPEabund   </td><td>0.0042             </td><td>0.0003             </td><td>0.2325             </td><td> 99                </td></tr>\n",
       "</tbody>\n",
       "</table>\n"
      ],
      "text/latex": [
       "\\begin{tabular}{r|lllll}\n",
       " Model & Mean\\_prChisq & Median\\_prChisq & Max\\_prChisq & PctSig\\\\\n",
       "\\hline\n",
       "\t No\\_Oct5Yrs          & 0.0000                & 0.0000                & 0.0000                & 100                  \\\\\n",
       "\t Region\\_Oct5Yrs      & 0.0000                & 0.0000                & 0.0004                & 100                  \\\\\n",
       "\t No\\_Dist300m         & 0.0000                & 0.0000                & 0.0001                & 100                  \\\\\n",
       "\t Region\\_Dist300      & 0.0003                & 0.0001                & 0.0060                & 100                  \\\\\n",
       "\t No\\_FastIceRatio     & 0.0645                & 0.0168                & 0.6805                &  73                  \\\\\n",
       "\t Region\\_FastIceRatio & 0.0442                & 0.0081                & 0.5159                &  80                  \\\\\n",
       "\t No\\_GlacierDist      & 0.0000                & 0.0000                & 0.0004                & 100                  \\\\\n",
       "\t Region\\_GlacierDist  & 0.0001                & 0.0000                & 0.0020                & 100                  \\\\\n",
       "\t NoADPEabund         & 0.0041              & 0.0003              & 0.1676              &  98                \\\\\n",
       "\t Region\\_ADPEabund    & 0.0042                & 0.0003                & 0.2325                &  99                  \\\\\n",
       "\\end{tabular}\n"
      ],
      "text/markdown": [
       "\n",
       "| Model | Mean_prChisq | Median_prChisq | Max_prChisq | PctSig |\n",
       "|---|---|---|---|---|\n",
       "| No_Oct5Yrs          | 0.0000              | 0.0000              | 0.0000              | 100                 |\n",
       "| Region_Oct5Yrs      | 0.0000              | 0.0000              | 0.0004              | 100                 |\n",
       "| No_Dist300m         | 0.0000              | 0.0000              | 0.0001              | 100                 |\n",
       "| Region_Dist300      | 0.0003              | 0.0001              | 0.0060              | 100                 |\n",
       "| No_FastIceRatio     | 0.0645              | 0.0168              | 0.6805              |  73                 |\n",
       "| Region_FastIceRatio | 0.0442              | 0.0081              | 0.5159              |  80                 |\n",
       "| No_GlacierDist      | 0.0000              | 0.0000              | 0.0004              | 100                 |\n",
       "| Region_GlacierDist  | 0.0001              | 0.0000              | 0.0020              | 100                 |\n",
       "| NoADPEabund         | 0.0041              | 0.0003              | 0.1676              |  98                 |\n",
       "| Region_ADPEabund    | 0.0042              | 0.0003              | 0.2325              |  99                 |\n",
       "\n"
      ],
      "text/plain": [
       "   Model               Mean_prChisq Median_prChisq Max_prChisq PctSig\n",
       "1  No_Oct5Yrs          0.0000       0.0000         0.0000      100   \n",
       "2  Region_Oct5Yrs      0.0000       0.0000         0.0004      100   \n",
       "3  No_Dist300m         0.0000       0.0000         0.0001      100   \n",
       "4  Region_Dist300      0.0003       0.0001         0.0060      100   \n",
       "5  No_FastIceRatio     0.0645       0.0168         0.6805       73   \n",
       "6  Region_FastIceRatio 0.0442       0.0081         0.5159       80   \n",
       "7  No_GlacierDist      0.0000       0.0000         0.0004      100   \n",
       "8  Region_GlacierDist  0.0001       0.0000         0.0020      100   \n",
       "9  NoADPEabund         0.0041       0.0003         0.1676       98   \n",
       "10 Region_ADPEabund    0.0042       0.0003         0.2325       99   "
      ]
     },
     "metadata": {},
     "output_type": "display_data"
    }
   ],
   "source": [
    "#Using the above example models 2-6 for now - but Michelle will change/add more to these...\n",
    "lrtdf_12<-getLRtest(reslst=reslst,contr=reslst2)\n",
    "lrtdf_13<-getLRtest(reslst=reslst,contr=reslst3)\n",
    "lrtdf_14<-getLRtest(reslst=reslst,contr=reslst4)\n",
    "lrtdf_15<-getLRtest(reslst=reslst,contr=reslst5)\n",
    "lrtdf_16<-getLRtest(reslst=reslst,contr=reslst6)\n",
    "lrtdf_17<-getLRtest(reslst=reslst,contr=reslst7)\n",
    "lrtdf_18<-getLRtest(reslst=reslst,contr=reslst8)\n",
    "lrtdf_19<-getLRtest(reslst=reslst,contr=reslst9)\n",
    "lrtdf_20<-getLRtest(reslst=reslst,contr=reslst10)\n",
    "lrtdf_21<-getLRtest(reslst=reslst,contr=reslst11)\n",
    "#... add the rest of the model contrasts above - should total 10 models (+ full), so 10 lrtdf_1#\n",
    "#then...\n",
    "lrtlst<-list(No_Oct5Yrs=lrtdf_12,Region_Oct5Yrs=lrtdf_13,No_Dist300m=lrtdf_14,\n",
    "             Region_Dist300=lrtdf_15,No_FastIceRatio=lrtdf_16,Region_FastIceRatio=lrtdf_17,No_GlacierDist=lrtdf_18,\n",
    "             Region_GlacierDist=lrtdf_19,NoADPEabund=lrtdf_20,Region_ADPEabund=lrtdf_21)\n",
    "nlrtm<-names(lrtlst)\n",
    "\n",
    "ldply(1:NROW(lrtlst),function(tt,lrtlst,nlrtm){\n",
    "    lrtm<-lrtlst[[tt]];lrtn<-nlrtm[tt]\n",
    "    lrtt<-round(as.numeric(summary(lrtm$PrChisq)),4)\n",
    "    pctsig<-sum(lrtm$PrChisq<0.05)\n",
    "    tdf<-data.frame(Model=lrtn,Mean_prChisq=lrtt[4],Median_prChisq=lrtt[3],Max_prChisq=lrtt[6],PctSig=pctsig)\n",
    "    return(tdf)\n",
    "},lrtlst=lrtlst,nlrtm=nlrtm)\n"
   ]
  },
  {
   "cell_type": "markdown",
   "metadata": {},
   "source": [
    "Above we report the mean and maximum value of the prb. Chisq of the effect. The probabilities are indeed a distribution of values, as shown below."
   ]
  },
  {
   "cell_type": "code",
   "execution_count": 30,
   "metadata": {},
   "outputs": [
    {
     "name": "stderr",
     "output_type": "stream",
     "text": [
      "`stat_bin()` using `bins = 30`. Pick better value with `binwidth`.\n"
     ]
    },
    {
     "data": {
      "image/png": "iVBORw0KGgoAAAANSUhEUgAAA0gAAANICAMAAADKOT/pAAAAOVBMVEUAAAAzMzNNTU1ZWVlo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\nryID8wAAAABJRU5ErkJggg==",
      "text/plain": [
       "plot without title"
      ]
     },
     "metadata": {},
     "output_type": "display_data"
    }
   ],
   "source": [
    "## Example to show the distribution of values\n",
    "ggplot(data=lrtdf_16,aes(x=PrChisq)) + geom_histogram() "
   ]
  },
  {
   "cell_type": "code",
   "execution_count": 31,
   "metadata": {},
   "outputs": [
    {
     "data": {
      "text/html": [
       "80"
      ],
      "text/latex": [
       "80"
      ],
      "text/markdown": [
       "80"
      ],
      "text/plain": [
       "[1] 80"
      ]
     },
     "metadata": {},
     "output_type": "display_data"
    }
   ],
   "source": [
    "sum(lrtdf_17$PrChisq<0.05)"
   ]
  },
  {
   "cell_type": "markdown",
   "metadata": {},
   "source": [
    "## Partial dependence plots"
   ]
  },
  {
   "cell_type": "code",
   "execution_count": 32,
   "metadata": {},
   "outputs": [
    {
     "data": {
      "text/html": [
       "<table>\n",
       "<thead><tr><th scope=col>var</th><th scope=col>minv</th><th scope=col>maxv</th><th scope=col>meanv</th><th scope=col>medv</th><th scope=col>modv</th></tr></thead>\n",
       "<tbody>\n",
       "\t<tr><td>scaledmeanslope</td><td> 8.312824e-07  </td><td>10.67303       </td><td> 0.6429639     </td><td> 0.3885376     </td><td>NA             </td></tr>\n",
       "\t<tr><td>logmeanbathy   </td><td>-7.938042e+00  </td><td>-2.06480       </td><td>-5.6711849     </td><td>-5.7729198     </td><td>NA             </td></tr>\n",
       "\t<tr><td>adpepresent    </td><td>           NA  </td><td>      NA       </td><td>        NA     </td><td>        NA     </td><td>[\"no\",\"yes\"]   </td></tr>\n",
       "\t<tr><td>logadpedist    </td><td> 5.316402e+00  </td><td>14.30962       </td><td>11.5453116     </td><td>11.6770628     </td><td>NA             </td></tr>\n",
       "\t<tr><td>empepresent    </td><td>           NA  </td><td>      NA       </td><td>        NA     </td><td>        NA     </td><td>[\"yes\",\"no\"]   </td></tr>\n",
       "\t<tr><td>logempedist    </td><td> 4.984499e+00  </td><td>13.24255       </td><td>11.3936267     </td><td>11.5049717     </td><td>NA             </td></tr>\n",
       "</tbody>\n",
       "</table>\n"
      ],
      "text/latex": [
       "\\begin{tabular}{r|llllll}\n",
       " var & minv & maxv & meanv & medv & modv\\\\\n",
       "\\hline\n",
       "\t scaledmeanslope &  8.312824e-07   & 10.67303        &  0.6429639      &  0.3885376      & NA             \\\\\n",
       "\t logmeanbathy    & -7.938042e+00   & -2.06480        & -5.6711849      & -5.7729198      & NA             \\\\\n",
       "\t adpepresent      &            NA    &       NA         &         NA       &         NA       & {[}\"no\",\"yes\"{]}\\\\\n",
       "\t logadpedist     &  5.316402e+00   & 14.30962        & 11.5453116      & 11.6770628      & NA             \\\\\n",
       "\t empepresent      &            NA    &       NA         &         NA       &         NA       & {[}\"yes\",\"no\"{]}\\\\\n",
       "\t logempedist     &  4.984499e+00   & 13.24255        & 11.3936267      & 11.5049717      & NA             \\\\\n",
       "\\end{tabular}\n"
      ],
      "text/markdown": [
       "\n",
       "| var | minv | maxv | meanv | medv | modv |\n",
       "|---|---|---|---|---|---|\n",
       "| scaledmeanslope |  8.312824e-07   | 10.67303        |  0.6429639      |  0.3885376      | NA              |\n",
       "| logmeanbathy    | -7.938042e+00   | -2.06480        | -5.6711849      | -5.7729198      | NA              |\n",
       "| adpepresent     |            NA   |       NA        |         NA      |         NA      | [\"no\",\"yes\"]    |\n",
       "| logadpedist     |  5.316402e+00   | 14.30962        | 11.5453116      | 11.6770628      | NA              |\n",
       "| empepresent     |            NA   |       NA        |         NA      |         NA      | [\"yes\",\"no\"]    |\n",
       "| logempedist     |  4.984499e+00   | 13.24255        | 11.3936267      | 11.5049717      | NA              |\n",
       "\n"
      ],
      "text/plain": [
       "  var             minv          maxv     meanv      medv       modv        \n",
       "1 scaledmeanslope  8.312824e-07 10.67303  0.6429639  0.3885376 NA          \n",
       "2 logmeanbathy    -7.938042e+00 -2.06480 -5.6711849 -5.7729198 NA          \n",
       "3 adpepresent                NA       NA         NA         NA [\"no\",\"yes\"]\n",
       "4 logadpedist      5.316402e+00 14.30962 11.5453116 11.6770628 NA          \n",
       "5 empepresent                NA       NA         NA         NA [\"yes\",\"no\"]\n",
       "6 logempedist      4.984499e+00 13.24255 11.3936267 11.5049717 NA          "
      ]
     },
     "metadata": {},
     "output_type": "display_data"
    }
   ],
   "source": [
    "#This is the full model, with all interactions\n",
    "fml<-paste0(\"presence~scaledmeanslope+I(scaledmeanslope^2)+logmeanbathy+adpepresent*logadpedist+empepresent*logempedist+\",\n",
    "            \"I(logempedist^2)+I(logadpedist^2)+logEMPEabund+logADPEabund*Region+Region*PredictabilityOct5Years+\",\n",
    "            \"logdistToShore+I(logdistToShore^2)+Region*logcont300dist+InCanyon+\",\n",
    "            \"Region*fastIceRatio+Region*logglacierdist\")\n",
    "#Need this description of the data\n",
    "varDesc<-getVarDesc(data=wesedf2,fml=fml)\n",
    "head(varDesc)"
   ]
  },
  {
   "cell_type": "code",
   "execution_count": 36,
   "metadata": {},
   "outputs": [
    {
     "data": {
      "text/html": [
       "<table>\n",
       "<thead><tr><th scope=col>logempedist</th><th scope=col>predicted</th><th scope=col>lcl</th><th scope=col>ucl</th><th scope=col>empedist</th><th scope=col>probWESEpresent</th></tr></thead>\n",
       "<tbody>\n",
       "\t<tr><td>4.984499 </td><td>18.70322 </td><td>9.409562 </td><td>30.58588 </td><td>0.1461303</td><td>1.0000000</td></tr>\n",
       "\t<tr><td>5.067914 </td><td>18.14458 </td><td>9.127728 </td><td>29.68887 </td><td>0.1588426</td><td>1.0000000</td></tr>\n",
       "\t<tr><td>5.151328 </td><td>17.59372 </td><td>8.849379 </td><td>28.80467 </td><td>0.1726607</td><td>1.0000000</td></tr>\n",
       "\t<tr><td>5.234743 </td><td>17.05063 </td><td>8.574512 </td><td>27.93329 </td><td>0.1876809</td><td>1.0000000</td></tr>\n",
       "\t<tr><td>5.318158 </td><td>16.51533 </td><td>8.303119 </td><td>27.07473 </td><td>0.2040077</td><td>0.9999999</td></tr>\n",
       "\t<tr><td>5.401572 </td><td>15.98781 </td><td>8.019495 </td><td>26.22900 </td><td>0.2217548</td><td>0.9999999</td></tr>\n",
       "</tbody>\n",
       "</table>\n"
      ],
      "text/latex": [
       "\\begin{tabular}{r|llllll}\n",
       " logempedist & predicted & lcl & ucl & empedist & probWESEpresent\\\\\n",
       "\\hline\n",
       "\t 4.984499  & 18.70322  & 9.409562  & 30.58588  & 0.1461303 & 1.0000000\\\\\n",
       "\t 5.067914  & 18.14458  & 9.127728  & 29.68887  & 0.1588426 & 1.0000000\\\\\n",
       "\t 5.151328  & 17.59372  & 8.849379  & 28.80467  & 0.1726607 & 1.0000000\\\\\n",
       "\t 5.234743  & 17.05063  & 8.574512  & 27.93329  & 0.1876809 & 1.0000000\\\\\n",
       "\t 5.318158  & 16.51533  & 8.303119  & 27.07473  & 0.2040077 & 0.9999999\\\\\n",
       "\t 5.401572  & 15.98781  & 8.019495  & 26.22900  & 0.2217548 & 0.9999999\\\\\n",
       "\\end{tabular}\n"
      ],
      "text/markdown": [
       "\n",
       "| logempedist | predicted | lcl | ucl | empedist | probWESEpresent |\n",
       "|---|---|---|---|---|---|\n",
       "| 4.984499  | 18.70322  | 9.409562  | 30.58588  | 0.1461303 | 1.0000000 |\n",
       "| 5.067914  | 18.14458  | 9.127728  | 29.68887  | 0.1588426 | 1.0000000 |\n",
       "| 5.151328  | 17.59372  | 8.849379  | 28.80467  | 0.1726607 | 1.0000000 |\n",
       "| 5.234743  | 17.05063  | 8.574512  | 27.93329  | 0.1876809 | 1.0000000 |\n",
       "| 5.318158  | 16.51533  | 8.303119  | 27.07473  | 0.2040077 | 0.9999999 |\n",
       "| 5.401572  | 15.98781  | 8.019495  | 26.22900  | 0.2217548 | 0.9999999 |\n",
       "\n"
      ],
      "text/plain": [
       "  logempedist predicted lcl      ucl      empedist  probWESEpresent\n",
       "1 4.984499    18.70322  9.409562 30.58588 0.1461303 1.0000000      \n",
       "2 5.067914    18.14458  9.127728 29.68887 0.1588426 1.0000000      \n",
       "3 5.151328    17.59372  8.849379 28.80467 0.1726607 1.0000000      \n",
       "4 5.234743    17.05063  8.574512 27.93329 0.1876809 1.0000000      \n",
       "5 5.318158    16.51533  8.303119 27.07473 0.2040077 0.9999999      \n",
       "6 5.401572    15.98781  8.019495 26.22900 0.2217548 0.9999999      "
      ]
     },
     "metadata": {},
     "output_type": "display_data"
    },
    {
     "data": {
      "image/png": "iVBORw0KGgoAAAANSUhEUgAAA0gAAANICAMAAADKOT/pAAAAYFBMVEUAAAAzMzNNTU1oaGh8\nfHyDg4OMjIyVlZWampqjo6Onp6evr6+ysrK5ubm9vb3BwcHHx8fJycnQ0NDR0dHY2NjZ2dne\n3t7h4eHk5OTp6enq6urr6+vv7+/w8PD19fX///8hImNwAAAACXBIWXMAABJ0AAASdAHeZh94\nAAAgAElEQVR4nO3dbUOi3BqGYfZSy6zJxqZp6sn4//9yC/iCCijIZQuv8/4wldXRyjpHQaQk\nZRjm4kl+egEMcwtDSAzTwxASw/QwhMQwPQwhMUwPQ0gM08MQEsP0MITEMD2MIKT/MYzLSEM6\n8f7/evtKvUkRLglpCBIhiSAkL4mQRBCSl0RIIgjJSyIkEYTkJRGSCELykghJBCF5SYQkgpC8\nJEISQUheEiGJICQviZBEEJKXREgiCMlLIiQRhOQlEZIIQvKSCEkEIXlJhCSCkLwkQhJBSF4S\nIYkgJC+JkEQQkpdESCIIyUsiJBGE5CURkghC8pIISQQheUmEJIKQvCRCEkFIXhIhiSAkL4mQ\nRBCSl0RIIgjJS+oQ0mvYe3M+CZP59+GrB3j1RHgdRrgkpCFI7UP6DHshPYRs7g9ePcSrJ8Lr\nMMIlIQ1Bah3S52QvpH9h8pld9m/v1SO8eiK8DiNcEtIQpLYhvYaHvZDm4e/q3z/h996rR3j1\nRHgdRrgkpCFIbUMK83QvpMfwlWZ39x73Xj3Cq+e/5GjOXviB1PHzdBCSl9Q2pM90P6T1G9mL\n0qtHePUcd9S1JUJCGlZI6ZkhFX8O8L/mqQ4pmxOfyDCRjSqkfLrdInW5WeIWCek2b5EO8Opp\nuElqWRIhIQ07pMmunkn7kI4u6ZoSISENO6RiV93Xbq/dV5u9dlUXdiqJkJCGHdLv/MGjv2G+\n9+oRXj11622fEiEhDTskzZENrUsiJKTBhlS8vM8PsHs4ePUQr56G9RIS0qCki0P6zg/5Tg9e\nPcSrp3G9rVIiJKTBhdQFr57m9bYpiZCQCKl2CAlpKBIhiSAkLynqkM4viZCQCKlhzi2JkJAI\nqWEICWkYEiGJICQvKfKQspLSM1oiJCRCOjHn3CoREhIhnRhCQopfIiQRhOQlDSAktpGQ4peG\nENIZQ0hIhHTGnLpRIiQkQjo9JzeTCAmJkE4PISFFLhGSCELykoYREttISJFLAwnp1BASEiH1\nMISEREg9DCEhEdKZ07SdREhIhHTeNO65IyQkQjpvCAkpYomQRBCSlzSckNhGQopYGlBIV5Ei\nXBLSECRCEkFIXhIhiSAkL4mQRBCSl0RIIgjJSxpYSHV77ggJiZDOn9rHkggJiZDOH0JCilQi\nJBGE5CUNKyS2kZAilQYWklyKcElIQ5AISQQheUmEJIKQvCRCEkFIXhIhiSAkL4mQRBCSlzTE\nkCr2gRMSEiG1nKpHZQkJiZBaDiEhxScRkghC8pIGGBLbSEjxSUMMSSlFuCSkIUiEJIKQvCRC\nEkFIXhIhiSAkL4mQRBCSl0RIIgjJSyIkEYTkJRGSCELykghJBCF5SYQkgpC8pKGGdHCYECEh\nEVKHOTxwlZCQCKnDEBJSXBIh7c+N/FiRri0NNCS2kZDikoYakkqKcElIQ5AISQQheUmEJIKQ\nvCRCEkFIXhIhiSAkL4mQRBCSl0RIIgjJSyIkEYTkJRGSCELykghJBCF5SYQkgpC8JEISQUhe\n0rBD2h66SkhIhNR5dk+mICQkQuo8hIQUi0RI+3MjP1aka0uDDoltJKRYpGGH1L8U4ZKQhiAR\nkghC8pIISQQheUmEJIKQvCRCEkFIXhIhiSAkL4mQRBCSl0RIIgjJSyIkEYTkJRGSCELykghJ\nBCF5SYQkgpC8JEISQUheEiGJICQviZBEEJKXdAMhZU9KIiQkQrps8qfJEhLSLYf03xWmCIlh\nfnS4RdqfG/n/Eena0vBDYhsJKQLpBkLqVYpwSUhDkAhJBCF5SYQkgpC8JEISQUheEiGJICQv\niZBEEJKXREgiCMlLIiQRhOQlEZIIQvKSCEkEIXlJhCSCkLwkQhJBSF4SIYkgJC+JkEQQkpdE\nSCIIyUsiJBGE5CURkghC8pIISQQheUmEJIKQvKTbCSk7dUMvUE+DZCXdTEj5yYT6gPoaJCuJ\nkA6hvgbJSiKkQ6ivQbKSbiYktpGQflK6nZAig5C8JEISQUheEiGJICQviZBEEJKXREgiCMlL\nIiQRhOQlEZIIQvKSCEkEIXlJhCSCkLwkQhJBSF4SIYkgJC+JkEQQkpdESCIIyUsiJBGE5CUR\nkghC8pIISQQheUmEJIKQvCRCEkFIXhIhiSAkL4mQRBCSl0RIIgjJS7q1kC49l9CN/FiRri3d\nWEgXn93uRn6sSNeWCKkaunyQrCRCqoYuHyQr6cZCYhsJ6WekWwspGgjJSyIkEYTkJRGSCELy\nkghJBCF5SYQkgpC8JEISQUheEiGJICQviZBEEJKXREgiCMlLIiQRhOQlEZIIQvKSCEkEIXlJ\nhCSCkLwkQhJBSF4SIYkgJC+JkEQQkpdESCIIyUsiJBGE5CURkghC8pIISQQheUmEJIKQvCRC\nEkFIXhIhiSAkL4mQRBCSl3SrIXU9UeSN/FiRri3daEidT118Iz9WpGtLhNQMdR8kK4mQmqHu\ng2Ql3WhIbCMhXVe61ZB+HELykghJBCF5SYQkgpC8JEISQUheEiGJICQviZBEEJKXREgiCMlL\nIiQRhOQlEZIIQvKSCEkEIXlJhCSCkLwkQhJBSF4SIYkgJC+JkEQQkpdESCIIyUsiJBGE5CUR\nkghC8pJahzSfhMn8e/tm2Mzu9Sq8eiK8DiNcEtIQpLYhPeSt3G/f3nQ0SdNPQkKylVqG9C9M\nPtPPSfi3f/Hf7ILP8FiLV0+E12GES0IagtQypHn4u/r3T/i9d+n3JEvo9eBSQkLykVqG9Bi+\n0uPbnseQbTS9htdavHoivA4jXBLSEKSWIa23gMobQllX8+zFY/j7K0zmlXj1RHgdRrgkpCFI\nfYRU3CCtXuTzULj5/McwHtNDSJ/h1/rCP6vNpXnpDh63SEguUg8hFTsgNvNd2jdOSEguUsuQ\nJhUhTfbu55XfR0hILlKnvXZf5b12h7vw4gqp7TnAb+THinRtqWVIv/O7cX9Dad/cdq/3JN/n\nUI7s50Nq/VcpbuTHinRt6fIjGx7DZ/HKPMvru7zFREhILlLbY+3ud7u41/fh7sP6ENbvSf6+\n0o0VISG5SG1D+s6P/s5fPdqDl73vvnx0w8+HxDYS0nUkno8kgpC8JEISQUheEiGJICQviZBE\nEJKXREgiCMlLIiQRhOQlEZIIQvKSCEkEIXlJhCSCkLwkQhJBSF4SIYkgJC+JkEQQkpdESCII\nyUsiJBGE5CURkghC8pIISQQheUmEJIKQvCRCEkFIXhIhiSAkL4mQRBCSl0RIIgjJSyIkEYTk\nJRGSCELykghJBCF5SfUhlc6smIS00xASkot0TkgfLc9WWoFXT4TXYYRLQhqCVB3SKNmfUbf1\nEBKSi1Qd0vt+R+OPbushJCQX6axtpK5DSEgukk1IZ/5Zihv5sSJdW3LZ/X3uH0q6kR8r0rUl\nQmoJnT1IVlJDSO/T3e6GbushJCQXqT6kvT133dYTUUhsIyFJpfqQpsn4/bLlRBXStSEkL6lp\nr92lHRESko1ks/v72hCSl1Qf0jhZXrYaQkLykepDektml62GkJB8pIbd34vkueMxdsd49UR4\nHUa4JKQhSE3bSDe1+/vaEJKXREgiCMlLcjlE6OoQkpdESCIIyUtqCmn5NM7u1I3fuq6HkJBc\npKa9dqHYOko67wcnJCQXqT6kjyR5yQ9veAtJx9skQkJykZoOWn1eHye0SO66rYeQkFyk+pBC\ndkGx45vd30hIzXPioFVCQkI6Z5pukZbrhD440yoSUvPUhzTbbiPddd1tR0hILlJ9SMuwKmkV\n0ttd0vUJFYSE5CI1PI70EdYH2oVFx/UQEpKL1HiI0PNddr7ip85P8CMkJBeJY+1EEJKXREgi\nCMlLagjpLftjLh/TJJl2vW9HSEguUuMJItP1X0rq+DASISHZSCceR3pLko90mjx1Ww8hIblI\n9SGNskePZtkf61vyF/uQkJrnxLF2o/ygBo61Q0JqnuaQlkmySAkJCenUNN+1W+RHB70l427r\nISQkF6lpZ8MsvcsSWo6z3Q5dJsqQmk8udiM/VqRrS40Hra7mLfvN63iDFGVIJ07TdyM/VqRr\nS00HrY6TUbaFNOp4e0RISD6S3SFChISkkOxCYhsJSSFxgkgRhOQlcYJIEYTkJXGCSBGE5CVx\ngkgRhOQlcYJIEYTkJXGCSBGE5CVxgkgRhOQlcYJIEYTkJXGCSBGE5CVxgkgRhOQlcYJIEYTk\nJfkda3clCMlLatjZ0PHUQZV49UR4HUa4JKQhSCceR7psCAnJRSIkEYTkJTU9jvR+2WoICclH\natjZMA3PHxcth5CQbKSmu3al6bYeQkJykQhJBCF5STyOJIKQvCRCEkFIXhIhiSAkL+nkWYQ4\n1g4J6fQ0hPS83dXA0d9ISM1TH9Jbksyyh2Tfp9lf7es0hITkItWHtPsbFM/JtNt6CAnJRTrr\nWDseR0JCap6Gk5/sznjSOaT/GMZj6kN63m4ZvXDyEySk5mnYa/cUisO/30PHE60SEpKNdOJY\nu3EyHnU/4I6QkFykMw9avcmQqr6lG/mxIl1bMj5EqPI/hxv5sSJdWyKky6HqQbKSCOlyqHqQ\nrCTjkNhGQupPcg5JCiF5SYQkgpC8JEISQUheEiGJICQvqTqkg61wjv5GQmqexpA2ARESElLz\nEJIIQvKSCEkEIXlJhCSCkLwkQhJBSF4SIYkgJC+JkEQQkpdESCIIyUsiJBGE5CXVhXTps8wP\n8OqJ8DqMcElIQ5AISQQheUkctCqCkLwkQhJBSF4SIYkgJC+pLqT3abJ+kdy9d10PISG5SDUh\nLYodDG/8oTEkpHOmOqRlUvxxpJC9eEmSjn/8kpCQXKTqkGZFR29JKN7ir1EgITVOdUij4k+6\nrAv6SEbd1kNISC5S4yFCo/XWEQ/IIiE1z4lj7ZblNy/AqyfC6zDCJSENQaoOKeQFva3v0i2T\nkHYaQkJykapDmub36TY7GV6Sjn+yj5CQXKTqkN6T8J49llQ8FBu6PpBESEguUs0DsrP8gdj8\nBmkxSsYd10NISC5S3SFCz6NklD+WlP0h2Y+02xASkot08qDVZPzScTWDCmnznKuIloQ0JImj\nv/PZPnsxniUhDUoipHwICekyib9GkQ8hIV0mcRahYthGQrpIIiQRhOQlEZIIQvKSCEkEIXlJ\nhCSCkLwkQhJBSF4SIYkgJC+JkEQQkpdESCIIyUviJPoiCMlLIiQRhOQlcdCqCELykmrOazd7\n6fpkvmq8eiK8DiNcEtIQpPq7dmH63Pns+Ud49UR4HUa4JKQhSNUhfSxmo3zb6O6imAgJyUWq\n30Zavj2N85jGT2+cRB8JqXFO7Gx4f75jrx0S0sk5Y6/dIhASElLznArpI79/xymLkZAapzGk\nj6dsl8PoifPaISE1T31Ib7OQ72m44AElQkJyker+hmxR0UvH3XVHePVEeB1GuCSkIUj1D8hO\nF5dVlBISko9UF9LdxRWlhITkIzXcIl14vy4lJCQfqW4baZqwjYSEdPac2mvXfd93SkhIPlLj\n40jv68eRuh64SkhILhJHNoggJC+JY+1EEJKXdCKkN47+RkI6Yxqej7TYPh+p60OzAw2p838c\nR1I/gzQAqeYZsi/bZ8i+XbCeYYZ0wU3wgdTTIA1A4pwNRxAhIbX/FM4idAQRElL7T+G8dscQ\n20hIrYeQRBCSl0RIIgjJSyIkEYTkJRGSCELykghJBCF5SYQkgpC8JEISQUhe0lkhcdAqElLz\nEJIIQvKSuGsngpC8JEISQUheEiGJICQviZBEEJKX1BTSMn+K7N1T55PbERKSi9QQ0nOSjO+S\nu3ESFh3XQ0hILlLDCSKTUDxD9j1JOj5VlpCQXKT6kMbJy/q1l+Su23oICclFqg+p9CgsD8gi\nITVPfUihFBJnWkVCapz6kJ62d+0WydPu4vkkTObfu7dDMZXvIyQkF6lhr91ss49hVOroIc/m\nfvv2Zymkw/cREpKNVH9eu/wkq9kJi0els+r8C5PP9HMS/m0u+AyPte8jJCQbqTmk7WzeMQ9/\nV//+Cb83F7zuXj16HyEh2UgtDxF6DF/p3s3Qa3itfR8hIdlILUNa71UI2914j+HvrzCZV76P\nkJBspNPH2o3Lx9pVhJTPw+H7/pfPfwzjMQ0hZX9gLJ/SsXZHIYXwJ02/59kdPG6RkHyl+pA+\nQnKX/U2Xt7sk2d4mHceSz3e205uQkHyl+pBmyXT92jSZbS6cVIeUX3D8PkJCcpGaDhHa3A4t\nk9ImUbZn7qu0Z279waHqfbcQUuc/TRHhN4ekk1oetPo7f6zob5hvLpiE7JCgvJ6j991CSN3/\nWFKE3xySTmp5i3R09MI86+Y7fyz2Jo9sICSks6blNlJ6v93bXWwMfU/yC+YH7zvEe1uvWiIk\npL732iW7vXa7v4P5nR/hnb9a7FXILrh/PXzfId7betUS20hIfT8gW/U4Ule8eiK8DiNcEtIQ\npJZHNnTFqyfC6zDCJSENQeK8diIIyUtq2NnwlF46hITkIp31OFLXISQkF4mQRBCSl9T0OFLH\n00JW4dUT4XUY4ZKQhiA17GyYhuePw8u64tUT4XUY4ZKQhiA13bWrOGdDV7x6IrwOI1wS0hAk\nQhJBSF4SjyOJICQviZBEEJKXVBfS8zhJxl2PsTvGqyfC6zDCJSENQaoJaVxsGs2OPr4jXj0R\nXocRLglpCFJ1SM9JeMsP/77sNomQkFyk6pDGSfZMpHTR9S+MHeHVE+F1GOGSkIYg1Z37e/2y\n4x9GOsKrJ8LrMMIlIQ1BOhHSZbvyCAnJRSIkEYTkJRGSCELykghJBCF5SYQkgpC8pJZ/sa8r\nXj0RXocRLglpCBIhiSAkL4mDVkUQkpdESCIIyUsiJBGE5CURUiuoxeZihN8ckk4ipDZQmx0v\nEX5zSDqJkNpAhIRUM4TUBiIkpJohpFYQ20hI1UNIIgjJSyIkEYTkJRGSCELykghJBCF5SYQk\ngpC8JEISQUheEiGJICQviZBEEJKXREgiCMlLIiQRhOQlEZIIQvKSCEkEIXlJhCSCkLwkQhJB\nSF4SIYkgJC+JkEQQkpdESCIIyUsiJBGE5CURkghC8pIISQQheUmEJIKQvCRCEkFIXhIhiSAk\nL4mQRBCSl0RIIgjJSyIkEYTkJRHSRVDDKYwj/OaQdBIhXQI1nVQ/wm8OSScR0iUQISGth5Au\ngQgJaT2EdBHENhJSMYQkgpC8JEISQUheEiGJICQviZBEEJKXREgiCMlLIiQRhOQlEZIIQvKS\nCEkEIXlJhCSCkLwkQhJBSF4SIYkgJC+JkEQQkpdESCIIyUsiJBGE5CURkghC8pIISQQheUmE\nJIKQvCRCEkFIXhIhiSAkL4mQRBCSl0RIIgjJSyIkEYTkJRGSCELykgipX2h3orsIvzkknURI\nvUKlU69G+M0h6SRC6hUiJFeJkHqFCMlVIqR+IbaRTCVCEkFIXhIhiSAkL4mQRBCSl0RIIgjJ\nSyIkEYTkJWlD+o9hPIZbJBGE5CURkghC8pIISQQheUmEJIKQvCRCEkFIXhIhiSAkL4mQRBCS\nl0RIIgjJSyIkEYTkJRGSCELykghJBCF5SYQkgpC8JEISQUheEiGJICQviZBE0FbanQ7lUuny\nQZJJhCSCNlLpBF0XSj0MkkwiJBFESF4SIYkgQvKSCEkEsY3kJRGSCELykghJBCF5SYQkgpC8\nJEISQUheEiGJICQviZBEEJKXREgiCMlLIiQRhOQlEZIIQvKSCEkEIXlJhCSCkLwkQhJBSF4S\nIYkgJC+JkEQQkpdESCIIyUsiJBGE5CURkghC8pIISQQheUmEJIKapVbPP4/wakI6HEISQY1S\nuzOiRHg1IR0OIYkgQvKSCEkEEZKXREgiiG0kL4mQRBCSl0RIIgjJSyIkEYTkJRGSCELykghJ\nBCF5SYQkgpC8JEISQUheEiGJICQviZBEEJKXREgiCMlLIiQRhOQlEZIIQvKSCEkEIXlJhCSC\nkLwkQhJBSF4SIYkgJC+JkERQB6nu2X4RXk1Ih0NIIqi9VPv88wivJqTDISQRREheEiGJIELy\nkghJBLGN5CURkghC8pIISQQheUmEJIKQvCRCEkFIXhIhiSAkL4mQRBCSl0RIIgjJSyIkEYTk\nJRGSCELykghJBCF5SYQkgpC8JEISQUheEiGJICQviZBEEJKXREgiqEep1R+cbZwYv7sbkQhJ\nBPUntfsT6I0T4Xd3KxIhiSBC8pIISQQRkpdESCKIbSQviZBEEJKXREgiCMlLIiQRhOQlEZII\nQvKSCEkEIXlJhCSCkLwkQhJBSF4SIYkgJC+JkEQQkpdESCIIyUsiJBGE5CURkgi6itT2KLxh\nfXeDkghJBF1Dan1c+KC+u2FJhCSCCMlLIiQRREheEiGJILaRvKTWIc0nYTL/Ll3wer+5IBRT\nhVdPhNdhhEtCGoLUNqSHvJX73QXz/ILJqqRPQkKylVqG9C9MPtPPSfi3ueAz/Fo19Bp+Za8+\n1uLVE+F1GOGSkIYgtQxpHv6u/v0Tfm8ueCxugLLbodfdpUd49UR4HUa4JKQhSC1DegxfadVt\nTxHSay1ePRFehxEuCWkIUsuQQii/2M53eMgi+/srTOaVePVEeB1GuCSkIUj9hPSa3eN7LPY1\nPBRuPv8xjMf0EtLX5DG/8M/qtmleuoPHLRKSi9RHSN+Th9IbpX3jhITkIrUMaVIV0sN9+a3S\n+wgJyUXqtNfuq7zX7uv+4av8IYQUh1R1+NBPr+mGpZYh/c4fR/obdvvm/obN/bpJyA4UKkdG\nSD8nVR7QejPfXXzSpUc2fG07SudZXt/FQ7aHePVEeB1GuCRCGoLU9li7+90u7vw+3K+wPcLu\ne5K/UnogiZB+TiKk60ptQ/rOj/7OX81DCruQ8vfdl49uIKQflNhGuqrE85FEEJKXREgiCMlL\nIiQRhOQlEZIIQvKSCEkEIXlJhCSCkLwkQhJBSF4SIYkgJC+JkERQ5FLbM+LVS5fOjUiEJILi\nllqfo7VWunhuRCIkERS3REh9S4QkguKWCKlviZBEUOQS20g9S4QkgpC8JEISQUheEiGJICQv\niZBEEJKXREgiCMlLIiQRhOQlEZIIGrzUvIN86N9d7xIhiaChSycesh34d9e/REgiaOgSIbUb\nQhJBQ5cIqd0QkggavMQ2UqshJBGE5CURkghC8pIISQQheUmEJIKQvCRCEkEW0qXPatpJfQwh\nXT6E9BPSxc+z3Uq9DCFdPoT0ExIh7YaQRJCDREi7ISQRZCGxjbQdQhJBSF4SIYkgJC+JkEQQ\nkpdESCIIaTcOx5ETkghC2k7zzr2hf3frISQRhLQdQrp0CAkpJaTLh5CQsmEb6cIhJCQXiZBE\nEJKXREgiCKmLdNExR4R0+RDSTUiXHQVLSJcPId2EREin8OqJ8Oca4ZKMJEI6hVdPhD/XCJfk\nJLGNdAKvngh/rhEuCWkIEiGJICS9dHD7RUiXDyEZSodbVIR0+RCSoURIm4nhp6GCkOQSIW0m\nhp+GCkLSSx22kc7bLUhI8UBIMUpnPlBFSPFASDFKhHQtKcIlIfUnEdK1pAiXhNSj1G0b6YzP\nIiQRhHQ70jm3Y4QkgpBuRyKkH4SQbkcipB+EkG5IYhvp5yAkL4mQRBCSl0RIIgjJSyIkEYTk\nJRGSCELykghJBCF5SYQkgpC8JEISQUheEiGJICQviZBEEJKXREgiCMlLIiQRhOQlEZIIQvKS\nCEkEIXlJhCSCkLwkQhJBSF4SIYkgJC+JkEQQkpdESCIIyUsiJBGE5CURkghC8pIISQQheUmE\nJIKQvCRCEkFIXhIhiSAkL4mQRBCSl0RIIgjJSyIkEYTkJRGSCELykghJBCF5SYQkgpC8JEIS\nQUhekjYkhnEZZUgnQ7v+lzw1ES6JNZ05kayJkLKJcEms6cyJZE2ElE2ES2JNZ04ka/qBkBjm\n9oaQGKaHISSG6WEIiWF6GEJimB6GkBimh7l2SPNJmMy/r/xFG+Y1rF+JZmGv99uFxLKm718h\n/PosXo9lTdn8W//wYljTlUN6CNncX/eLNsxnWP8solnYPF/IJPu1iGZNk3wheUnRrGk135Pi\nhxfFmq4b0r8w+Uw/J+HfVb9q/ayWUvwsolnYZ/j1nd1O/opoTfNsNfPwmEa0pmweix9eHGu6\nbkjz8Hf175/w+6pftXZew8M6pGgW9lisJ1tWNGuahO/1kuJZU5qtovjhxbGm64b0GL7S7H/d\nx6t+1doJ83QdUmQLy5cV2ZrCJI1qTV+b/wXjWNN1Qwqh/OLH5/NwRbEs7Ds8xLameXhNo1rT\nQ/gqlhHHmqxDSmMN6TW7txLTmlZ3o+bZy3jW9Dv8SQnp538Om4kypK9JdjclpjW9Pk7ybZBo\n1pTfkyOkH/85bCfGkL4nD9mLqNaUpr+y+3bRrOk+e4DAN6RJFN9zedZLiWphD8VDIlGtKdtu\nm8Szpl/5nrpiGXGs6Sf22n3FsNNnPXt77aJY2Nf9w1f+SkRryme3J/Hn1xS2E8uarhvS7/w/\nkr/FhmsUsw4pnoX9DQ/r16JZU/E40ld27EAsayqHFMeavI9s2IYUzcK+th3Fs6b8yIbvx2wb\nKZo15eN7ZEN6n/8v8nD6A681m3vWsSzs1+5/2mjWtD7WLl9INGvKZv3Di2JNVw7pOz9Q97pf\ns3E2IcWysNJdlmjWlB9eff+avxbPmtLtDy+KNfF8JIbpYQiJYXoYQmKYHoaQGKaHISSG6WEI\niWF6GEJimB6GkBimhyEkhulhCKmHSdYzflqu3z78iPfR6UsOsGxWb4a754/1ez6e78Lel3uu\n+oRTSz3nGyrN293+p42TWdWH3b21dG9tCKmHKf0mL4q3jz/i9CXHWFK8ufnNna1L2b1/XPEJ\np5Z63re0nfC+92k1HaXvP/0MpZ8eQuphNr9m79Mkqf6fuVVIB2+ONr+jYbQJqXj7LSTPTdJ5\nC2me2V350z5CTUerm6S6d5gMIfUwu9/Op6T6f+ZLQnpax/m2em0vpNUl4ybpvINpYNoAAAQ4\nSURBVIU0zrK4iV1/WkNH6SJZtpJvbQiphyn9dt5lv3nF28vZ6hZkNHvf3Pna/4z1JR+zkITZ\nRzVWvPm2/u2drV7bDyld3/mrWtP7NCSjYiOq/EXWRexd8DZOkun7Kpr1fwLL3f8Gs6T0hbYd\nrd76GCej1Xf6MkpGL+sP8b5JIqQepvSrvEimu1+7Yt4aQloUr4RFJbZ+MxT7JUZJen5Ii9JG\nVPmL5B+8f8H6rfd0ur75edk1kX03my+0uz1afU/5N/f+sv4Gs5l6/yp5f/c9TelXeZmM1m+v\nNstXd3aWz9kFdXftliGZLtPlNAnLKmz95jTJbjs+Vr/UByEtau/aLVf3CJfp+zjbiNr7ItkH\nH1yQrXP1kdP0vehutfK37Rd43q5isdvrUewAmSZ3yVP2ovis52SRGg8h9TDlX+Xs9eMbipqQ\nnpJiWz7/jdy+Y28fXP4r/JR/7MtBSIuQLI4/IZ+n4qbkPat474tkH3NwwXPxkUlWULGLrnTP\n7n2zqMVml2T+VqavYr0rXqSFYH3fjpB6mMqQRsndYln1EaVLxtv9COPSOw5DWubvHa+25g93\nf88qPiGf8aaAwy9S9LJ3wcd2Pfn90tW/2yLu1u9cf42wfWu9eVXeNf6xztN0CKmHqQwp3/QY\nzd6OPqL0OduLS+8/vmuXN7S7z7gpJ9wtqj6hckV7Szu6YPtRo2zX23R3H630kclstY002rt4\n/0X7h6huaqy/+b6m9Cv0sflvP813hmUtfaSXhpTdq3vZ3DGr/IiGFbUJ6Tm7MQoVa8lv/BZJ\nsveoEiGVxvqb72tKv0L5Hq/N28tFtgd8ml4aUnav6S5514eUnU7kbbOn7nh9q5KeShcTUmms\nv/m+pvQrNMq2P8q/Uh81u6gbtpGOPy4kxWM7Z4fUZhuprMySxay09+0w9OckWaSEVDXW33xf\ns/sVKu3sHiWlI1hb7bU7/rhZMivdsJ0R0lOxwyDP79Reu7KyTMale3blnQ3Fy1m+w6EyJHY2\nMJfO5tfsbVrsyFpvb4xX//Evp+sCPo4+5+Pcx5GKHRe7m4IzQlrme7XzR4dOPo60p0yT0o1j\neff39pJQExK7v5lLZ7f/OZSO/h6vL1quX9//lR+Xj2xIFlVY6bZs9foyrQ2pYv/3Bv5I97/I\ntsu9C9JSDslLWlKe996br3tcHRIPyDKXzubX+G7/+UjPq1hGxX22j1Hpf/LSJeuj3pYV2F5I\n480zJkp8zSesJzsSfXMQX+mLFB9ydMHu5Xjv4NNwt//e/ANmlSHdeT+RgpCY8izL9+x2B62e\nMd737AiJ2ZuX0m6PdPc0itPD0ygYZjvL0UEPs3HNRx7O2PsGiZCY0iRJ6dHYYsJ75UceDk81\n/+kFMBHN6HhDZ3Heo0N31rvsUkJimF6GkBimhyEkhulhCIlhehhCYpgehpAYpochJIbpYf4P\nTHF/Ux9Sp3EAAAAASUVORK5CYII=",
      "text/plain": [
       "plot without title"
      ]
     },
     "metadata": {},
     "output_type": "display_data"
    }
   ],
   "source": [
    "#1D partial dependence plot\n",
    "newdata<-getNewData(varDesc=varDesc,pdvars=\"logempedist\",useMedian=FALSE)\n",
    "pddata<-getpdData(reslst=reslst,newdata=newdata,pdvars=\"logempedist\",type=\"glm\")\n",
    "pddata$empedist<-exp(pddata$logempedist)/1000\n",
    "pddata$probWESEpresent<-exp(pddata$predicted)/(1+exp(pddata$predicted))\n",
    "head(pddata)\n",
    "ggplot(subset(pddata,empedist<50),aes(x=empedist,y=probWESEpresent)) + \n",
    "    #geom_bar(stat=\"freq\")\n",
    "    #geom_ribbon(aes(ymin=lcl,ymax=ucl),fill=\"light gray\",alpha=0.5) + \n",
    "    geom_point(size=1,color=\"black\") + labs(x=\"Dist. to EMPE colony (Km)\",y=\"Prob. WESE present\") +\n",
    "    theme_bw() + theme(axis.text=element_text(size=12), axis.title=element_text(size=14))"
   ]
  },
  {
   "cell_type": "markdown",
   "metadata": {},
   "source": [
    "### 2D plot\n",
    "Need to generate the data first..."
   ]
  },
  {
   "cell_type": "code",
   "execution_count": 34,
   "metadata": {},
   "outputs": [
    {
     "data": {
      "image/png": "iVBORw0KGgoAAAANSUhEUgAAA0gAAANICAMAAADKOT/pAAABXFBMVEUAAAAAAI8AAJgAAKEA\nAKoAALMAALwAAMUAAM4AANcAAOAAAOkAAPIAAPsABv8AEP8AG/8AJf8AL/8AOf8ARP8ATv8A\nWP8AY/8Abf8Ad/8Agv8AjP8Alv8AoP8Aq/8Atf8Av/8Ayv8A1P8A3v8A6f8A8/8A/f8J//UT\n/+sd/+En/9cy/8w8/8JG/7hNTU1R/61b/6Nl/5loaGhw/456/4R8fHyAAACE/3qKAACMjIyO\n/3CUAACZ/2WampqeAACj/1unp6epAACt/1GysrKzAAC4/0a9AAC9vb3C/zzHAADHx8fM/zLQ\n0NDSAADX/yfZ2dncAADh4eHh/x3mAADp6enr/xPwAADw8PD1/wn7AAD/BgD/EAD/GwD/JQD/\nLwD/OQD/RAD/TgD/WAD/YwD/bQD/dwD/ggD/jAD/lgD/oAD/qwD/tQD/vwD/ygD/1AD/3gD/\n6QD/8wD//QD///8j4GGwAAAACXBIWXMAABJ0AAASdAHeZh94AAAgAElEQVR4nO2diZvbtrmv\n0TaJHTdN0nRvz2lz295zz2lixpZH9dHUqhXLjuwZ2bJsjeUl3vd90f//PJcASIobSAL8SILk\n732exuN6RsTCdz7gIwiwDQCgNKzpAgDQBSASAARAJAAIgEgAEACRACAAIgFAAEQCgACIBAAB\nEAkAAiASAARAJAAIgEgAEACRACAAIgFAAEQCgACIBAABEAkAAiASAARAJAAIgEgAEACRACAA\nIgFAAEQCgACIBAABEAkAAiASAARAJAAIgEgAEACRACAAIgFAAEQCgACIBAABEAkAAiASAARA\nJAAIgEgAEACRACAAIgFAAEQCgACIBAABEAkAAiASAARAJAAIgEgAEACRACAAIgFAAEQCgACI\nBAABEAkAAiASAARAJAAIgEgAEACRACAAIgFAAEQCgACIBAABEAkAAiASAARAJAAIgEgAEACR\nACAAIgFAAEQCgACIBAABEAkAAiASAARAJAAIgEgAEACRACAAIgFAAEQCgACIBAABEAkAAiAS\nAARAJAAIgEgAEACRACAAIgFAAEQCgACIBAABEAkAAiASAARAJAAIgEgAEACRACAAIgFAAEQC\ngACIBAABEAkAAiASAARAJAAIgEgAEACRACAAIgFAAEQCgACIBAABEAkAAiASAARAJAAIgEgA\nEACRACAAIgFAAEQCnYYpIb4O7ccBYBfsnwogEgDFgUgAEACRACAAIgFAAEQCgAD2vwogEgDF\ngUgAEACRACAAIgFAAEQCgACIBAAB7F8KIBIAxYFIABAAkQAgACIBQABEAoAAiAQAAezfCiAS\nAMWBSAAQAJEAIAAi9RTy7W16DkTqJa5FbEO/V1SPgUj9Q/rDQl+D0rDvFUCkjuKbw7b/B2Qq\nD0TqFSFnmOL/B0ZApP4QtSXeIwhMpYBIfSGuSVqPwCVjIFIvSDFE0SMITGZApB6QqkZGj8Al\nfdhZBRCpI6isyO4RBCZNIFK3UeuQ3yNwSQOI1GEyTSjUIwhMRYFInSVHgcI9ApeKAJG6Sf7d\nr9MjCEy5QKQuUuS21+0RuJQJ+0EBRGorBe94gx5BYFIDkbpF8VvdsEfgUjoQqUvo3OTmPYLA\nlAJE6gyat3e5HoFLMSBSR9C+sUv3CAJTGIjUBUxuaZIegUs+7IICiNQazG5mqh6BSwKI1HKM\n72PCHsEgDyK1nBI3MHUH99wliNReSt675F3S68AEkVpK+Zu2ki7prUsQqZVQ3K5VdUk/AxO7\nqAAiWQvRjVpll/TPJYjUNshu0Yq7pGeBCSK1Csqbs4Yu6ZFLEKlF0N6W9XRJXwITRGoL5Ddk\nfV3SB5cgUjuo4FastUs6H5ggUguo5iasvUs67RK7rAAiWUJlt18TXdLdwASR7KbC+66pLumm\nSxDJYqq95Rrskg4GJohkLVXfaw13Scdcgkh2UsNt1nyXdCkwQSQbqeX+sqNLuuISu6oAIjVF\nXbeWNV3SicAEkSyjvnvKqi5pvUsQySZqvZ1s65J2ByaIZA8130c2dkl7XYJIllD/LWRpl7Q0\nMEEkG2jk3rG4S1roErumACLVRkN3jd1d0rbABJEaprn7xf4uaZNLEKlRmrxTWtElrQlMEKk5\nGr5HWtMlrXAJIjVF43dH09fXwf7ABJEawYb7ovkS6GFDm6lhNxRApOqw446wohB6WByYIFLd\nWHMvWFIMXaxpvygQqVZsugvsKYkuNgYmiFQjdnW/VYXRxjaXIFJd2Nbz7e8SqwITRKoHi7rc\nx74SGWCNS+ymAohEhzW9HcHGMplgR2CCSJVjQzenYWmxjGjeJYhULc33sBJrC2ZGw4EJIlWJ\nvRZtOtklDboEkSrD4mAksLt0pjQVmCBSNdhu0abLXdJE47NbCjKKMhswZ7IWX06c4Muc69AU\ntyXYb9Gm411Su0sGIk149GQO12covhwUuQ5Zia2nBcFI0I5SmlPvIE9fpCUbuw7N2HizWTBn\nuVk6bFHgOpSFtpmWWLTpR5fU55K+SCPmFZHHprn71R6bFrgOVYGtpi3BSNCiopahpsBkMkfy\nysedWm14iBoVuA5FYS2nTRZt+tElHnWc7WEo0poNgzunSCk732utCkaCtpW3HFUHJvajAhYm\n+XMzPqqDSD6ts4jTxjKXokqX1CJl/tjKGW0gkkf7gpGknaUuR2WByUyktTOUpdqE/si+DkFZ\n7aSlFm263CfZVOKSmUhD+ejI6b1IbQ1GghYXvSz0gclEpNVguBJfyKzdqq9Zu1ZbtOlmn2hA\n230GIs3Z0PtqKp4jzdmkwHVISmsTLbdo08U+0YUwMLHbCpQXWAUe9XhlQ9uDkaADVSCAqCv1\nRRqHcuID8cVQ9a3h61AU1ha6YNGmY31SBorApC9S+OHSWqz+LnSdsgW1hk4EI0FX6kFC2W7V\nF8nwOrQf1xidsWjTnT6holRggkgadCcYCTpVGSKMuxgiFaZbFm060SdVYBaY2B0FEClCx4KR\noHs1IkO/uyFSAbpo0ablfVI5moEJIuXSTYs2re6TmtDoeoiUTUeDkaC7NSMDItHQYYs2be2T\nOtFoIYikpMvBSNDx6hGgI9JdBX0XqesWbVrYJ7UDkUrS+WAk6EMdS6GVtYNICXph0aZdfdII\nEKkE/QhGgt5U1BSIZEqPLNq0pU8aBCKZ0SuLNu3okybRah92T0HfROpXMBL0rsKaQCR9+mfR\nxvo+aRyIpEkPg5Ggn7UujF7zQKSeWrSxuU+sACJp0NdgJOhx1YsAkQrTZ4s2lvaJNWi2Druv\noPMi9ToYCfpe/2wgUiF6b9HGvj6xC4iUD4KRAI2QBUTKARb5oB0y0N78pGciwaItaIoMIFIG\nCEYR0BgZQCR1ESwog1WgPdRotw17oKBrIkGjBGgRNRBJWYB/Nl0C62i8TywGIqlL8M//bboI\nltF8n1iLftP0SKQNTIrSfJ9YC0TKLME//xcqhWi+T6wFImUXASaFsaBPLMWgZdhDBZ0UCSaF\nsaBPLAUi5RbBNQkueVjQJ5YCkTIRZfg3TPKxoU/sBCJlIssAk3xs6BMrMWmY/okkTYJLGzs6\nxUYgUg6+Sf9GVBJY0SkWYiTSIwUdFgkmeVjRKfZh1Cy9FMk3qe8qWdEp9gGRcgmbBJUs6RTr\ngEi5bEvx739jfGdJp9iGWav0VaTN2bMISnZ0im1ApALETeq3SpZ0imUYivRYQedFgkm2dIpl\nQKQCRIpxdju866dKlnSKXRg2Ss9EioWks/2OSrZ0ilVApEJEynGh5ybZ0ilWAZEKES3HBV+l\nfppkS6fYhGmb9E0klUnCpYaK1BjWdIpFGIv0REE/RHJNuhAyqWcuWdMpFgGRChIviDSpn+M7\nazrFHoybpHciZZnUt/GdPZ1iDRCpMImSXL7Q1/GdPZ1iDRCpMMmSXL7c0/GdPZ1iDRCpODkm\n9Wh8Z1GnWIJ5i7CnCvokkmuSr1KvXq+wqFMsASJpkFYUadJF16QfemSSRZ1iCRBJhxyTuErf\nuyb961+1l6xmbOoUKyjRIBDJ5/Llq1cvXLzYJ5Ns6hQrgEhaKMpyQ5p00TPp++6bZFOnWAFE\n0qOgSd+7JnVaJas6xQLKtAd7pqCHIm1u3Lh69apr0sUfXHpgklWdYgEQSRNlYYRJV2Mmddcl\nqzrFAiCSLsVMckX6/l9dNsmuTmmcUs0BkaLcCFSKuFRj2WrErk5pHIikTUZpbt2IzJS+77JK\ndnVK40AkfWASx7JOaZpyIj1X0FuRhEn9mCpZ1ikNU641IFKCWy4KkzqmkmWd0jAQyYSs8twO\nmxQd33XLJNs6pVkgkgmZ5bl9+1ba+K5zUyXbOqVRSjYGRErjtgxKXTfJtk5pFIhkRp5JyfHd\nD50b3lnXKU1SVqQXCvotUmBSPBXeKZOs65QGKdsWEEmFMEn1UKkbLlnXKQ0CkUwpYFJyptQt\nlezrlOaASKbkl+ju7Wj6rnMm2dcpzQGR4swGzJmsxZcTJ/jSqER376rGd914PAuRAko3RedE\nmjCOw/UZii8HJYp09258fHexSyZBpIDyIr1U0FKRlmzsOjRj481mwZzlZumwRYkihUxKXTRE\nWfT6gUgBECnGSF6IMR6b5u5Xe2xapkh3Xfzh3Y1o0qH9JkEkn/It0TWR/Msx7tRqw0PUKPmP\nHkU+6f7d6Pgukb4jL3t9QCQfiJTOmg2lTJvgjxR/ipXp/v2ESdGHSuSlrw+Y5AGR0pnxUV1c\npAQFy3RfqrTNOSSW37XWJYgkIWiHToq0cvhwLlekooV6eF+O7+REKXV811KVIJKEQqRXClos\n0toZiktSicRNShnf/dD+/B1EkkCkVIby0ZFDJpJn0l3VmqHWPlSCSAKKZuieSKvBcCW+kFm7\nVTJrt6W4Sf7w7nZkSXhkTXgLTYJIAoiUwpwNva+m4jnSnE3U31y8VA+lSrfTXlRq70wJIgma\nE2nm/Wvx5zF1ddkq8Ch3ZcNGq1SPHybHd9c8ky609aESRBI0JtLSc2dpn0jj0MOigfhimPXt\nOiY9jo3vbkqTLkdMapdKEIlD0grstYKMT3d/y/siZcw/YtcpXdKC1wmJtBarv7O/XeOjH/tB\n6ba3JpybdM0zSah0tm0mQSROUyLN2NATaaZcx5a8TvmiVoFWsZIm3ZQmXb7smnTBN+nfVRWW\nHkt7pWaaEsmdvQcizQpfp3xRK0GvXE8fR3MON2/evHbt2uXL8gRabtLZVplka6/UCk0jGIi0\nDJ7NjNh8nDd4Ii0tPZrlehqKSq5JP0qTrnkmXfBNaotKtvZKrVQtUpjET/ki5U/nSUtLj265\nwibdSTfpbHtMsrVXaqWxiLQJrb7Z41P6IgM8a7tM26Snj4Px3Z07t378UZp0zTPpgm9SK1yy\ntldqhKgNSokkWavf5g79RMlyVoZ2wbYm3XVN+vHHH3/czpS4SWc5wiT7VbK2V2qESqQ3CoqL\nlLWabfs95YpZHfoFC5l0745Q6aZQyTdJqPTvVphkba/UCERKZa79EwYlkypxl7hJd8ImbYNS\nG1SCSHaI5DC+WU/mstDgJygKm8d8zJi2SSYlex5EpXv3QiZtZ0otMQkikTVBKZEmfEHoelLk\n5q2+yxYTh7HBnmobOyVGJQubdM+fKV0L5e/ObqOSyefXBESyQ6S1I9LfRR4kVdxlqym3aLoy\n+VkzkwKVQiYFmfDoAM/k8+sBItkhkljNNii0uqHKLltPB4w5k6Xhj5sV7aWrkpwpPbi3nSmF\ng1JogGdYssqBSGQtwN4qaM/7SHMeFDPelcjDsGgpJvlTpYhJNqsEkSDSltVYzNFWs9lMe4Ik\nKGGSq5Lr0oMH/vgubpLlWQeIBJFiLOTLR/rZ74152V6+9GdKDx488NJ3XtLhcjuCUu9FomuA\njoi0x9h4vlwMs16HVWJctleuSc9TTIpkwm0OShCJ7pM6IdKSOTJhNyywWilJSZOehoZ3saSD\n5UEJItF9UidEmjIv8T1nJtMk88K9eflSJh0eh01qTVDqu0iE9WfvFLRKpJH/JseCmSTBSxTu\nzZtXrkrCpEeh8V1LghJEovuoTog08Ud0E6OIVNKk165JfHz36JEflSL5O4uDEkSi+6hOiLTw\nkgyz4ruxRChTujdv3rz20ndpJl1LrmQtcTFiIBLdR3VCpM2IzZZLfnqs0SKhkqV755okZ0qP\nHonxXSJ9t1XJrqDUc5Eoq98RkbzzYpUnL+dRsnhvXnOV3KD0JGJS/EV0616vgEh0n9URkTbz\n2WxuqlH54r3xgtJTz6RY0sHWN5UgEt1nvVfQNpE4fJVQE2O7jTe840HpSapKUZOsmSr1WyTS\n2ndIpKVcJVR4z8oI5U169/q1TN+5KilMsi7pAJHoPqwzIs3FKqHluN71diHe8ZnS83BQSiYd\nokGp/DVLApHoPqwTIi3nm7XjZexG9a4SCvFBzpS4SU/S0nfJpAPBRUvRa5FoK98Jkfhm/jN/\nTcPM7FIkJr3z0nfPniTHd4ktuyxQCSLRfVoXROJL7QJ/po7RZ5AU8ODdu7dbk+Tj2QyVGp8p\nQSS6T/ugoE0i8dFcsFzVGRbe2T8MTQEPPkiTnj17xk16lGNS0ypBJLpP64JIIho5Y/7lfFDs\n4LMkNCW88kGk754/d1168ig/6dCsSX0WifoG74JIK74H+WrgjEYOYyOZtatlf7sUrojhHU/f\nPXumSDrYE5QgEt3HdUEksdSO7w7Jhv6+dvpZcKoSXjn48OFteHwXDUq3XJNuuCZdtSHpAJHo\nPq4TIsmldoOpsGg1daabhf4ed2RFvPLhgxeUXvjju2yTGlOpxyJRV70jIm3msz1hjtzjzmh1\nA10R992Z0luh0oto0sE16fbNW65KN1yVrnKVLjY6voNIdJ93XUHLRBKs94Z8p0jDPe4Ii7h/\n5eBAmPQyMOlBAZPqV6m/JkEkNXynSLHH3cpZLQw2XqUs4/7Bwbv3fPXdi2ehZ0p37ty9K0y6\n5Zp0wzXJVenixQZN6q1I5BXvkkjroZdgWIoZU3OTJM7+vmuSCErPnvkLHfhUiZ9PJo5Ed7nq\nmXRxa1LNKkEksg/skEiSFZ8lsXiuwV/4oDgUV/4baTlckw7ei/Tdixfh9N1d7yDnrUoXpUo/\nNKASRCL7wG6J5M2S9uIbRS49d5ZZIlEX0jXpgwhKEZPuJ0y66Jv0Q+0m9VUk+np3S6QZnyVx\nh0bRGdLSCUTK2h2FupBn9i99eO+q9PLVNufwwDNJuBRT6QdPJeJiZACRyD7xQEErRVJs/j1j\nQ0+kWeZ7f+SFPHPukgxKr168ePHETzrcl2eic5V8k642ZBJEIvvETok0SH8XiU02gUipK1oZ\nyxzymcNNOnj/3jXpVWh8FzIpptIPUqXvv6cuiAKIRPaJnRJp5g3cVsvFcrndCmW58UUasfnY\nnUMFpYr5U0EpT7kqucO7t69e8fGdt9BBmJQWlH4ITKpHpZ6KVEG1uyWSYDmRJ3IyZ7ydKQUi\nCYaKH62klOf2L4n03etQUHqoDEqeSt/XotLhw9Vfw0YgUj6rETdotnSZz7bjOE8kxteJryfp\nA7xNhSbJmdKrrUkPY0Fpm3QQKn1fh0mHOVVfxEYgUi4zxkZpS4Qi0581U+3rUE0xT53bP/gg\nx3duUOJJB2nSNijdakKlwx6VXsRGquhldkVBO0WasGH60qBoHkGZVaiomCfdmdKl63x8x9N3\nMio99ILS3a1KKSZVqNLhw301CSLlMVFmtwuKVFk5T56+JJIOofTdYy8opT6frUGlw701CSLl\nMNs+RlqPR5PwP3nqOGJnh5X6sWxl5Tx5el+a5Occnjx6rAhK26RDleO7w4f7alIlfdwlkZae\nR2tXlgEbRnJznkgTNhHJBuXrs9WV8+Sp0+cuHVx3TXojE+GuSaqgdLXyoHTI5fBh8Z/eqQSR\nclh6HjkTsRRoFc7NeSKtZWZ8kvbj3jdWV76d0+fOH/CZ0hs/6RAxKRGULlZo0qEtvVMJIhVj\nzPZckVyJxqGQ5M+K1hOHDbL266q0oIFJb7zxnWdSVlCqxKRDh1JM6otK1Yh0SUF7ReIToCUb\nG+65Wm1B3eHdeZ6+e/PGG989lRMl/6FS6kyJXqVDMXqlUjU93EGRBnzgxm0aGV202pIeO+ma\n5I3vRFDiR2bGglJYpUpyDnGP+jW+g0gFESczuyItzA6UrbqkO1uTRFB6Ko5Ef5gdlEhV+uST\nT/qsEkQqyNKdI4kEd0MnJeVx/BSfKfHxnVzIKk5ED2XCq07ffSLorUoV9W8HRdpM2IApV9Pl\nU31RT546J02SM6WnKUFJtfyuvEqf+Bw6lOZT51WCSMWZDQazzXo+MzpyrI6iipmSb9KLwKRE\nULoRMYlkfPdJnL6pVJVI+wraLJLLUrww4ZioVEtRd06fu3Tl+vt3796I1XfPA5Pyg1Kp6yY8\nUpnUVZWq6t2OijR3JXKW82F8E5RC1FLW47u+SSLp8Py5nCipgxLJQ6UUj3qmEkTSYc1ci/iy\nuqHJOZg1lZUP77hKwqQXz/OD0sXAJEOV0jVKzTx01iSIpIM4B5O/wzdn2ttE1lfWE+7wzleJ\nm/T86VNlUIqvGTJRSemRMCmu02G+FI+8zo0DkXQY8eMvxwOeCtffubjGwh7f9U1yVRImPU0N\nSmkqaV/s448/zlBJEZm6plJlXdtNkab8cjwaTdg695uT1FjYk2fc8d17GZTiJtFmwj/mfJJn\nU9dVqk6k8wpaLdJCBCJnMrNzcUOYE6fPcJNclcRMyXs6ez+8z1DK41n9/N3HW/oclSCSHkNn\nvnTDkXK7oBxqLe2ua9L1655JL58H6xwy367QNOnjJL1UqbqO7ahIK4ex9cLswLFN3aUVwzv5\nTOmVMEnk7/KCksbwLkUjbZsqboOagEja7I1N0gwedZf29JnzvkmvXj6XmfDHxV75K6CS2iMd\nlapvhRqASKYsZ0Y+1V3c3d3z++747gNXiZv0PCMoxR/P5qiUqZFUSaVT50yqsFs7LNJ6vnAD\nU+Z75UpqL+5Jd3x35Yprkq+SIiilqpTxuZ9wTQpQKCrV1hpVUaVI5xS0XqSF3Jp4OTVZJtSA\n9ydOx0xSBKXomqGcpIOwoZBJ6qAU9qnG9qgCiGSAw6ZTkf0eWbxMKMx3u+fP74vh3ZtXL1/K\n9F08KP2YfKaUoZKGRtKkAqGp5kYhpcpO7a5IfK/IPf48yeplQhFOnjkTMullIijdcU3iKt0s\npFIgQWGVckJT61WCSEZX5K/2DUbb7e70fpq8PEU4evr0vju+E8O71/GgdM816Y5r0o+eSddi\nJsVUClsAkwQQyQSxdcPCnSBlbAeZQUNpRpm+kya9fhmdKQmT7nCTbt686ZukeKhkrtHHMo+X\nolPrVYJIJqzFeWJjZ8Ackx9vKl+/s8OfKYmkQ8gkGZTu3YuYdO1aXCX5EfJmL6WSIjK1W6VK\nu5SdUdB6kTYrZzAa8m1VxbpV3ajUlEibzYlTZ9yg9IFPlfjwzlvI6pr0wDXpXppJlyMq+ff6\nJxWo1OpcOEQyZMrPOBcCzceKY5ozaNCk3VPn96MmSZUe3LsnVHJNuslJM+n7VI9MTUpVyROq\nsfYxBSIZ4gz2eDBa8KMw5Zc6NCeSO77bPX/+yoE3vAsFpQcPApOESteuSZUuh036ni4ifaxe\n99A+k6rt0C6LxGPQasotmrYlAe7z3Y5r0pWISUKlBwqVLkuVvs8ISsYqpQamFgYliGTMejpg\nzJkYrl5t2KQzZ664QelDNCg9fCBVkiaFVLp8OW14R5BxUKvUtpkSRDJlzjMNJtsISRoVyR3e\nnTqzv39wEDHJVemRb1IQlIRKly9DpWwq7s4ui7Qam+0Q6dGwSDx9d+7cQWimJJeEP5JB6c6d\n2PguUOmCanxXzqO2q1S1SKcVdECksjRf5t0z59yZkquSbxJX6dGjwKSISpd9lS6Ep0p0Eenj\n1MyDuETT7VQEiFQRwelJE8edR6Xl9CwoMx/fCZPevt0+nn0UC0o/Zpp0SMukjz4yCUxtUAki\nGbLOztQt/TP8huIwzLQV4haItPlu99S5K2J899afKj1+/OTRdqZ0J2RSMLy7cMHApI88xFfa\nKjXdUHlU3ZndFSl6qnmcpeOJtGDOkv8tLSlhhUknds/tuyqlmJSh0gVPpbPFh3cfxdBVqemG\nygEimTLPWmI3Y8PgnHOekdhjafuk2CASX+hw7ty+MGmr0pNIULqTSDpcuOCpdLagSnGNvMik\nFZSsdgkimV8yI2fHJv7xzCPxttIyugEe86iyeMU5sXvmzLlLEZOePEkEpWgm/LJn0tmzUqW8\niJQiUk5w+iRtjXjTTaWk8q5kpxS0X6TJWP1vfGtwWaTIH3GBLDFpc+zUKdekDx+2Kj0LqZSe\nCY+ZlK1SpkfZ47x2qASRzFlkXzNNpMT3EBfJmGM7rklcpa1Jz6JBKfl41hveBSZlqpRnUttV\ngkglyD5mrFUibTbHT57Z378UCkrPApXuJdcMbYd3F86elSpFbnZtjzJtsn+uVH1HdlmkSeaG\nxUVEssmko25Q2t8PBaWoSfeiz5RCQSlVJf2QlKWS9SZBpDIsQ0dRLCfx/Ys9dZy2iMRPnj0j\nTHr/XhGUFDMlz6SzGYO7ghplqhQWqummigORSjHYk3+u+Crw+JOiSNZupTi2wiqRNt8eP3ma\nr2ONm/QoMCmSvrumYZKGSpkPbO1UqYZuZLsKuiDSlI/t1nuuRYPRiA2jSx08kaYiSz5X7cdq\nl0mboyd5+u7ANUmq9CKiUtikmxGTksO7EiZlRSY7VYJI5Vg5mz2+AmgsFBpGg06BlQ0b60Ta\nbFyTwkEpZNKD6NPZm3kzpbIm5acemm6rAIhUjvWYb1ssNrjbcGUiIcmfFQ3EkyNVXsI6kTbf\nuiZduhQEpReaKqnS4NoafaRc+2Bf1gEilb3qcG899y8dO0/WF2ktVn+rP6Kqspmzc3p/nz9T\n4iolTMp4PBuYRKeSIjBZZlIdfdhtkTjB6xJTk62LbRRpc/ykWH3nZ8JTVIpkwhNJB1UevAqV\nmm4rDkSiYOFNf2Zm52DaKBJ/T+n0uURQepJiUix9F1ep9DxJaZJMiNvhUi0inVTQGZE2Q2e2\nXEwHbGASkGw16djJ0+fOeyapg1JKJjxTJdOQ9JH8YWVkarataulBM5Hy3y5NXKd8UY2Rr+5l\nvp6UgZ0iueO7U+fOXxJPZ2VQehEx6V5aJjyiEq1J6tDUvEr2ilTg7dLEdSgKa8pyNmvtZkJq\njp46ff7SwcF1GZRecZViJinervBUqsukxlWyVqRCb5fGr0NU3jIsEsuECmFD0dPhEyX/8axv\nUjR9p3jlr8KglGZSs1OlevrPQKRib5fGr0NUXmPEMqGBSWBqvOhK2Al3ohQEpVdcpTST0pIO\n0aBEkrvLDUpNtVI9V9EXKeftUsUPEZXXjPWMP3YdjRzHYNdVW0USnXDy3DYovUoNSopMuPdQ\nKalSWY88lz5KMakZlWoSaUeB+vKKt0tzrkNSWu3VfEIAACAASURBVEPm/rEUq0LzuTh2muSV\n6vgpEZW2QWmbc1BmwpMPlUjnSVub4i65/22soaq+ilKkMImfapdI2y1XhyblsFKkoFDfntw9\nff68MOmtZ1KaSmlJB0OVfiYwUEnSVENVfBn9iLRpnUhbliYb6ltS9jCRJv9ulwel69ffekHJ\nfzr7KLk5Snom/KyWST8LY+JSzU1V02V6JNJ6PjPbDNyGwkeIF+iEN7x7Hw5K6heVLseTDhom\n/SyOgUqNtlVVlykjUvbbpdGfKF/UkixHfJCavY+DguYLHyGlvY+KpMN1rtLrN9GgdC9lIWvi\nmVLh4V3Co3ydmg1KdfVdKZGy3y6N/gRFYcswdyVylvNhkYdecRovfIT00vAlQ5euiKD0JhqU\n7qVlwvNmSkXjURGbPk57p7bZ1qrgOicUFBEp5+3SyE9QFLYEa+ZaxPdwGLY9b6cqy8mTwiSu\n0pucoJQxU8pWKdujvHFeI2GpFSK1aGXDjL+MxPa49m07BjNCxjD6uxP85NkgKL1KLgnfmpSx\n/C57cJerks4gr472quEa8kJlRMp5uzTyEwRlLcOI7wQ+HiRe7ytG06UPyC7Iid3T4aD0KuOV\nv4zxXZZJ+R5xk7IGeTWb1BKRct4uDf9E+aKWYsoLwKPRhOkeb85puvgeecU4uhsLSkKlR2ln\nV4RMuhwJSjkJhyIqZQSmulWyXCSD69B+nDYLEYicyaxIZiRJ08UXFMmOnjh5+kx4phR7PHvf\nNemua9LtrDXhWSoV9ShjjPdx9NWlapus0k+PXKknIm2GznzphiOz12SbL/6mcBmESaH0nb9m\n6FG6ScmHSlkZBw2PhEnqGVM9UalGkY4r6JpIK4ex9cLoPQpO4+UvfsbM8dOnL22DkmeSp9JD\nbtJd16TbW5NSkw40KmXEpXqCEkSqgL0xH92tx9lH+Slouvxa13eDkjdTevcmWBL+xDfpvmvS\nXdckrtItfZO0VSoSlaxotnJX6o9IrkRrnmgcmgzvGi6/5uW/O336/Hmx0OFdKCgJlR7ev3/f\nFenu7dtCpVu3VGuGVCZpeyRVSvWp6vFdjb3WJ5HWzkS8PLXyt4zUockKGBwdeGL3zPlLl7hJ\n77YzJWlSWCVXJKHSjcykQ3mTVJGp4gQeRKqEMdtzRXIlGrcrJBldmpsUCUp+0uGhMOl+3KQb\n8Uy4epmDsUmpg7wqVYJIlcAz30s2Dm2CpPPD9OWp9sonTpxxg9L+lWhQck16HKjETboVMyn8\nUEmZB69KJdqGq7XP2DEFHRRpwLMM3KZRi17vK3Ei9DEelPavXJFBaft0lpv0cBuUPJVuJIPS\nVqXEzU9qUlUqQaRqmPD1qq5Ii/SHsjknmTdTg1JXPXbMDUr7XlB6s10y9NhT6W5YpRs3fJXC\nJqWrZB6RpEkJn0Lrw6labgORqmLpzpHEOx+pD5OWFopUIhx57JyWQendOzlVEio9fvz48cNI\n0iGq0tXcoFTGpIzQRKtSrT3WJ5E2EzZgyoxd7mZI9VeB4oo7p08lg9LTwKT7aSZdvXohbaZU\ng0kfUZoEkSpjNhgoM9+zvO35aq8CzQV3dk75QcmfKQUmxWdK6Salq0TgUsVBCSJVi2Lrhpky\nVqn2UqoWuuudOCWD0od3b/wl4U+ePg2bFFfp6lWFSh+1SaV6RfpOQVdFUm7dMGLzceydkJhA\n9XYM4WedOCGD0geRCBeZ8KdPt0HpblilrUm5M6XyHlWqUr23XN9EUm/dMGJ5bynWmgSi/bhj\nMih92Aal58KkUM7BV0mYdDVhUlIlEo+85UPJLF55kyBShWRs3cD4i+jrScbyoRpXQJJf6hh/\n5W//yvUgKD17Hqh0Pza+u7F1KTG+0x/a/fSnRX2KmeT+t1SVIVKF5G7dsM7a1Li2jTSq+NDd\nXf5M6boXlIRJz59mpe9ubE2K5O+Kq/RTj0I6pY3xyqhU95S2XyLlb92QFQzqqURlWY3dM2dc\nk0RQ4io9FyZlJR1ubE26GFKpcFT6aQTdoFRSJYhUJflbNzQuUoUXcYPSvh+U+NPZ56GgFE86\n3IoGpYsX9cd3P42Tq1KqS4aVrVukowq6KVLG1g2OUCt7t8saalHpJb6JBaUXKUHpbsKkqwmT\niqiU0KjQQI8sKNV9w/VMpIytGyZ8n8u1PDtNReW1qPph1TfboCRVeumZFJoppQSlq1ykixdT\nZ0qF41Gx6PRRWhLPwCWIVC3qrRvWTv6ZzVXXooZWOrYTBCWRv3v5/HkkE+4nHW7fiqXCL/oq\nJZ4omXiUN9ArbRJEqhq5dcNmmThQlm/Sp15BJKm2GrU00rGdnUhQehkEpVgmPPZQ6aLapCpU\nKmsSRKoD4wNlq6xGbWuQjsugdOCp9FKqlP54Nk2l7dtDGSbla+RPlwrPl3TqWP/CyP6JtN7z\nDpQ12CqywmrU2ELHZVByTfoQmBR/ppSWdLjoqfRJoSWshVTKjkzmYal+kb5V0FmRggNl1zaZ\nVPOSWBmUDmRQCkx6GgzvkkmHsEnBbg7ZKhGYZByVIFLlrId+Xm7P4GCKiupRe/McP37yzDmh\nksg5+CY9DYJScqVDSKVUk4w1ynTpo1gWr1j1Gnh3rHcibeFvzOpSTT2aaJ1vT55xVTo4OIjk\nHJKZ8FspM6Xt+S80YztpUlZo0oxKEKlOxpnPjBRUUJG633TyOcqD0hVuEg9Kr1+GnymlrhkK\nm0SXcSgcmTRMgki1wVMOdhze11zTHOVB6YoflF6/DFR6mPJMKTK+ixxJRjJNyjVJZ3zXQJP2\nVKQ5f/toYsVJSU22zD+OuUHpiheU3rx+nZq+u53yekUxkww08kxS+FQ0KjUh0jcKOizSesxf\n4DM53pxDW5OmhnUe3CShknik5KkUnimlLGQVKn2iOHCWwqSsyFRMJYhUD85wzyQYSUhr0nyz\nfHtcBKUr8uls2KTHqoWswqRDh1RnN1OZlBuUlCo1snNaH0XyLFrM5gY+Edak4XAkESad4yZJ\nlV5GVt/Fkw4qk9R5cHKX8k2CSDWyGos1qk3m7axpk+MnuUmXApPi6bvkQtYbXKSCJtEP8PJU\ngkj1MWdsMEvdBCUXqqpY1CTcpHNXLh2IJUOvYyqlb+lwg5t06JOUJ0qJ+75sTErq9FHoKW1K\ndSBSbfBNUMQXyU1QcqGpihXDuoCjXKVLl/hChzdv3gbpu2jSIbIk/MaNQzGTVMm7Uh5lBSZP\npURlGmnZnoo09VcHzVWvnGdAURfL2kOadO6SWH0XmBRfEx57ppQwqYrkXbZLqUGpGZH+oaDb\nIo38N2QXqk1QMiCoi2XNwREq8SVDH969ffs2blJ8c2Ou0uHDh7YuZa9yqFUliFQfU39ENzQo\nWOm62DWs83FNOi1U+vCOqxRdEp7csutWJCTVEpQyVArVo5nG7alICy9dl7tzfiolK2NZW2z5\nB1dJBqV3IijFZ0qx5XdeSIo+nK1wplQsKEGkOhmxyYxPkwyOZS5ZGTvDkYcwSQald29fv375\nMr6lQ2Slw+GUwZ3iFXQaj7JV8lyCSLUyYW4wUhxMkUeZyljXEFG+O3Hy9P7+JRmUXgeZ8Mfp\nWzp8mmpSalAiM0nxvoW4Gq9BQw3cW5E2m6XyYIpczGtjYTtEkSbti2dKnkopJvlB6XB6UPrY\naGz3k5/w//2ksE9xk9z/bJoT6X8UdF8k9cEUuZjWxuphnY8flPiaobdvM1bfuSp9ejhQqfQT\npZ8EFPQpdZT3M4hUMxkHUwgmDnNUL1oY1sa+RkiFm3TOC0pBJjyhUqZJiuRdQZF8nYxMgkg1\nk3MwxVAsxVOtezCpTivCkUSqJEx6n0zfhbcJPyJNKvpEScMjYVKeTtZ41GORsg+mWPA1REtH\nNexr4ulTnXgmuSpxk96+ju7YFTXp00/TZ0p6KiU9CgWmDJ9iHjXWzP0VKftgCrkH+J7qMZN+\ndexrgGy+4Sqdv3Rw8P79+7dvI+m76NPZAiYVSN4pPcod6P0sksWDSLWTcTDFhj9n4uO9ZfLf\nzE5mbtGwLuD4yVPCJKHS65Skg1TpyJEjn4bHd2kLwnNNyvUof84kB3aNtTP7bwWdFynjYIpN\ncOeHOiYqkF59LKx9AY4eP7krVPrgB6XnsW3CH3CVhEmfps+UUsZ3piEpVyUej5pr6R6LFD+Y\nIjJTSooURas+Fla+EP/tmnRamPQhMlMKdmR9wE36+ZFtUCo2UzIVKS/90GRL91ik4GAKyTAy\nHcoTSaNCbRzW+YiFrOcv+SZFkw6PApM+FeSM7zJNKuRRXmBq8i7rtUhhYk+T6ESyvubZiCXh\n5/nT2fdv46vvHj164HL35z+Xo7utSSbLHHRUUrgEkZpn6EQfJjlEIrU5HEmOHucmiaAU5Bz8\n4d0joVKuSYVU0hIp1aRGbzKIxFk4MY+8rF3WibKFamR3tQtyfJcP7y7xnINUKXjl75E06eec\n8PhOYVJW8k7Po7THS802Nvt/Cnok0nLE4h5tpuI50jzjJMwiNbK51hoc9Uw6uC7Td55KrklP\nwiYFUSnlLaVEUCo5tktGpoYbu7cirWSeYb3gh/eNE/+cs7JhU6RG7R/WBcig5Jp03U86eCo9\nkSp9lmKSfhq8lEoQqRmWjv9olY3Ttm0YiH9KfcbkkVcl66pchu88k6RK26TDkydSpc+8oOSN\n7wyXORiZ9BMbPOqvSK5Ke7PxaDJTxJy1WP2d9fM5VbKwxmX4LhKUtkmHZ9KkX/zis5zxXb5J\nZhp5JjXd3D0WqSyZVerQsM7jm+9OSpWuByqJ4d3WpLzxXYpKJBGJ03hzQyRzMurUxepuvjvm\nqnRGqBTOhD8Tw7vPYyalje+qC0rNtzf7LwUQKRf1M6Yu1nbjBSXfpPf+TOnZMxGUfvELqdKR\n0Nq7IsscKIKSBbcXRDKHZB1eu+BB6cz5bVB6yVV6IUz6XJr0WYpJyaiU9Wy2lQEJIpUhvVKd\nrKoPD0rCpINgeOea9EKY5KkkTDqS8+os3RoHOzyCSGVIq1RXh3UB3504KU06CILSixdCJWmS\nSN8dib9bkdgaRWlSK+MRRCpFSqU6Wc8o35wIByXxcgVX6dmzL77QMYksd2dHk0OkMiRq1c1q\nxuE7OpzxTPJUipqUN77LebGilSL9XwUQqQCxWnV+WBdw4oRM31257r88K4Z3X7oqfe6ZVNf4\nzpI2h0hlYBl/6zjCpPOXrgRPZ195JiXHd59WOb6zpdEhUilC1epPOJJ8I4PSlSAovXJV+uUv\nvxQmffbZZ/4zpSOqdytIns1a0+gQqRQs5avecGxrEk/fvXLhJn2pGt4dPqTxbLZlAQkilYMl\nvugTx3b43ijSJE+lqEl+UDqS+u5stkrt8ggilSTvjfSOs7O7Gw5Krkpf/VIO71yXgvHd9t3Z\nHJO0x3ZN138L+7sCiFQIFvynn7hByc85CJNeh03ygpKvUoG1d5oZh6ZrHwIilYNtulu3Yuzs\nnI6oJE3y0nfpJmWsGNIyqemqh4FIJdHevbhzHHNNcsd3l6576btffcVFEiYF71ZsVVK9W2GQ\nu7Oq4SFSSTpbseJ8e2znFA9K172FDr/66itu0jbpkLM1imlQsqrtIVI5WGdrpsOxE6dOBcO7\nsEnqoJRyLJnmgiG7biqIVA7W3arp8O2JXWGSXOjwm1//Srr0RZB0iG59pzG+yxzXWdT07G8K\nIFIRZHd2tHJafMsT4ef35UKH3/yaqySyd0HSIbqJpCJ9V/yBkryqPS0PkUrBIn/0GjconTlz\nft9VKWnS54FJeZsMpS1jzUg02NPwEKkM/V7YEOeor9L797/9DVfpK1+liElHEstYwzOl9AXh\nioBkUcNDpDL0eqldCif441nXpOtxk8SS8MjOd5+mmJSRv1N4ZE/DQ6QSMMXX/eXYzu6pM9yk\n67/7na+SzIN/7r9b8fOsE/4iAzxl7i7S1pY0PEQqQbRDO1lFXY6JZ0pcpd+HTRIqfe4HpZ8n\n9+tK3/dO8UTJSpH+qgAi5RKvUxfrqA8PSjx955r029/+RuYcfumZ9LniLXTlMtZUkeLvJTdT\nzxgQyZye7tiQx/8c3+ULHfb/8HuukmeSt47VSzocieccDhUwSeGRJUAkY/q5h1AB/uf4cZG+\n+9PvZVAKMuGfB09njxw5ktwjPHVf44RJlrYxRCKlJ9XM49vj4vHsH/8QqCQXOnyu3Bql0IKh\ndI9m/v81GzBnsq63pgEQiZa+1DOHb4+L95T+449Jkz5P2/ou9S30tDR4soGXfpZnIk60choy\nyUAk73guzeuULGdrQPJO8u3Ozqnz5//TDUq/i6j0RbCzsT++U7+FnjQpxSPHa/ElG695eEqe\nvlgL7P8oUN4PS4iUTY+qmsnRnVOnXJP+GDfpi8Ck+M53uatYk207Y0PvVhw1+9a/iUjqk74z\nrlOijJYhjvLLGkB0qK6lOLqze+rUf3pB6TehJeHp+7Hmvzqb0rJsElOnPSLN2NTkOiXKaBdD\nEY8HWd/SncqW5Nju7qm/eEFpa9KXQVBKZsKz1t6ltesyps4689jfCjERaWZynRJltIr84843\nHaptWY4e4ya5QekPgUq/jASliEmpK8K3HqmO0Qn/3zM2r6dmiVJoizRi83HOMcVp1ylZTmuY\niJ7aywnLSDn4HNs59RcelFyVQiZ96a8ID+3XlbM1ivIeCrf1yjGZd1CgFilM+CdG8v/SjKCd\nubFGbLUpMlHsTIVLs3PyL4mgFN76rtjWKOoWDd2ea6ehgZ1biq8VKG8ExvbcEk80B3idua9Y\n0eRQZ2pcmp2dr7lJf4ya9GXKJpLqoJTRnqGuGGZOXStFXyTJOnu6nbxOiTJaRWGRulPl0vxj\n569/+XM4ffdV6PFsblD6mGtURKTVYLiqpT6ppTAUSXcW0Jm7qrhI3alzaf7x7V//+udwUPpq\nq1Lo5ArVfl38I7IWCMg/500l7GQpIJIeGiJ1p9Ll+fZYEJT8dazb1XfRoPRp3CT+8xlN6XXF\nqlGPDERyGH8YudJ8LNuZe8rReYCO5F3AP4799WsvKHkmhR7PRoNSLCrxn85qR6+Rx2mZsfrQ\nF2nCJiLZoJev78wdJbN2hX+PdKbe5Tn696/doPRHviQ8EpS8DR28hQ7xpIP40cxWDMYIzYr0\nFwXK8qwdUVzNB0mduaGm4jfIvHD9O1NxAv7+dzco/UmqtA1KMZOiSQf5gy1oRH2R3GjksIHu\n6oYWNEUxCq1sCNOZmhPw3zwo/WkblH7tm/RFys7Gh9vkkYlIZteh/bgGGeg+j+5O1Qn4uztT\n+o9tUOIqbdcMxXc29n6mFQ0IkXRZi9XfOj+BlEOYv3399TYo/cZ/OvvlF8k9wr0faEfrQaQa\ngElh/iuk0q9/HV7oEApKR4Jvb0nbQaTqYf2ufpK//e3rP7sq8R0dvCVD/nFKwdbG229uSdNB\npOphm37XPw1uUkIlf81Q+Bvb0nDszwogEhUs9F/g8/VfVEEp8m2taTaIVDks8gcIEQpK8t3Z\n+De0p9EgUtUENUfKQZ/2NBlEqhqW+iUoQosaDCJVDFP+BeTRpuaCSBXDMv4GMmlVY7H/VACR\nSIjXu6/tYEC7mgoiVUui3kg5FKVdDQWRKiWt2j1tCl1a1kwQqX7QFgVoWyNBpAZAY+TSuhEw\nRGoCtEYO7Vvny/5DAUSqEjRHNhBJeR3aj2s9rRu61AoL/tMaIFIVFDnNtF8tokUb18tDpAoo\ndpppr5pEBxb7sxVAJHqKnmbapzbRASJlXYf246ym8GmmfWqU4rCUr+yH/UkBRCpLkQMretgs\nebT0tROIVBXFTjPtX7vk0NbXTiBSVRQ8zbR/DZNJa986gUgVUfg00961TCYs868WA5GqQeM0\n0741TRbtbQuIVA06p5n2rW3UaLbEnjMaTQufZlAt7I8KIFIJNE8zRfJOotsMy+Vs7DA2WVZS\nGj0gUgXon2baq+ZRkdYIM///FEcXpK0VWYy0D+uqAohEj8lppn1qHxUpbbD0g/VQrLpKHy8v\nB2zQ3HHmHhCJHqPTTPvUQOmkeeR4jZhyvNtyuN74+kyY07RJEIkes9NM+9RCaaTUf8aGXiPK\nI4v32HT7j0vmzIf+I4a5IljVB0Syhn6nHFK3iZn4jSKPwF5GjsCeu7+qgknTXtPzJPYHBRCp\nfvrcSGl1X262R5aH//CYsZBYY9Zs7g4iWUSPY5Kq5lkiDSdjPnXyGBRcSVIREMke2rdRARnK\nemeJtBFBac/7cs4azTdAJHtgm762k7rWGSIt+QRp6bDxZjbiXw6miZ+uEYhkDW3cqYCGjDp7\n6jgJkeZ+Zpw/YRLP7eb6T+8IgUjW4DVRDydK+SLJrN1qm1yYs9HMe01l5q+zb3Zo93sFEKlm\n2vmGNQVZ9fVEmornSPMgx72WG2JMRxYsDpJAJFto6SvW5cmsrWJlg1iCx9c9NP4g1gciWUJb\nX7EuTXZd/YHuQCwVGfIXJnmabspExm66mTBbXqOASHbQ2nesS5JTU1+ktVj97X6xcPigbs6G\nQ+Ys+GKHQi/0Vw9EsoN4+/Qm5aBdz5Ubi1ZuSGIi5z1nOdtw1gVEsoNk+/SjxTRrKdYx8OWq\nboziX66cvF0464L9TgFEqpPUJZu1l6J+NOu4kPnvhSPSd7PJpPjOGFUDkSpjVTY12/02067h\nSL54tBqy4Zo/im12fV0YiFQZTumEUucbTb+C/uK6CU81WDI9EkCkqhgGyynN6XirmVRPLK7b\niLeRGl1bFwciVcSY5E2zTifvTOq24A+UxBZNq0HucR91ApGqYULVy91tOJOazdl4uZyKrJ37\nu6rpfRrCsN8qgEhlKL4h1yKvZbrackb1ktnu1bDpF8uTQKQqmDOn4HeundyW6WjTGU2Q/HUM\nA561swqIVAErRyRp59NZbt5uVOQUJYoy2YZRpZZ+gmFuU+ZbAJHoWYvE90qss8zp7r1Cm3Z1\nMOWgW6ORHCo7XqRfNrzVSRKIRM+QD0BWDpuuN/PsR++rYOO2HLrWfLr1mXmToj2ZsXMjEnWJ\nygKRyBmJ8cdQDuezVycP2apgtOlW++nWZhHkbibMmfH3zO1LNvxGAUQyZcE7ee6nv7PS4FO2\nV3jY1qkG1KzM2nG2O0E6zN+kwSogUjWM/eX9GbMksXFo4flPh1pQtypDudhqNRB/7I0nlryD\nFAYiVcPIq/A8YyHLgP+eLZ5I6EwT6lZk4rXh0LoMQwiIVA1T5r0v48oyH4/TfoWOxfRJIyPX\nkeSdbi3mXlCfsBl9YciASNWwFs/gVw6byzR4yqCe6Z9a0YlW1KyE24YiEO15s82VVWtVAyBS\nRcydwWjEXI8c/ot0mZJmMhCpC81o8g4Sf5zg7xdk6QCP/VoBRCoJ365juPDT4DN/Z+r4uxV9\nO0XJoAIzxibrgdeAtg7wIFK1LLwByZLJ/UAn8UGe7sSn5Q2pXXxvg29/s/w925YG+UCkavGS\nDnxx2FL84bDogefaGYRWpxx0y84nmLy9hszLgBdeDVw3EKlaxl7FB96eu85qXvq80xa3peZv\nAXeCOXTEr6CpfCF20OzZLRlApCqZu0MRMTWWj0JWYjXrwim7qWFrG5PpFX0tVtHPRJrBbbXh\nekzw+n5FQKQKmbq/P4d8kw753vnaM0gm8srQ0tZkG72ieysaZJ5uzc9vsenl8ijsVwogUnnE\nuG4UPEYaBsfLlX7Ds5XNyUL/LYK/omHqJbwn1uyYnwJEqpC5/FXqZepGbBwINC676rKFKQcW\n+SMff0XDZuAnGOa2TpA2EKlahvysYC+7IHQakWVv22cSi/2Zg7+iwZ0j2fnkKApEqpQRGw6k\nRzOZuA09Ryp1e7DWNSlL+SoTuaJhs7TwnYkUIFK1zEfyULkg6b3nfzEudYPoztsbh6V+mYlI\necvMnf1ApHpYOI6X8/be7pwwViILrjtvbxym/EsGPOU9tOUApBwgUk24Q34vZSd+we6xoVPi\nIb3uxL1xWMbf0tgT+qyt2ic/E/aVAohEzDqc83ZHensl5tBBa7Yl5cAy/5pkybzGcgN3G1IN\nEKlORsHzRDc8rSbmZ80xxdfWkihkXqln/NmbaJ+5046YBJFqxE/ZiSUOJZ7SG004GsSgiENn\nJM6IFfsTtyHdAJHqZI+J7XCG7nBlLzg9SXv5mO44qWlMCrhi05l/cMvY5hUNPhCpVuZ85C8m\nSwPv5ljqb2Mdb0vb29aofDO2XDpeBN9DRNpeh/bj2syED/qXcg69dgcwTPNkv2RT2p1yMCzc\ncMB/5ThWvleeAvulAohUETPxa3bC5NeDPe2XKtKa0uLmVRWNv4rvTNTBeMV/1UzbkrSDSLUz\nH/Cbh4/u5g6brYdiIqBxt6S3pLXtqyrYSuyYmpJHCNQS21wsWpK0g0jNsOfOAEZsvPZOyEzs\n5KCPpQ2sLJZf8Xjucs6Ge55LQ94o62ErltpBpGYYDFx3lr5Bs8RODgbY2cLKUnnzuvj0Tgaq\nochkrtoyrONApCZYumMafq/sCY9odnKwsonVZfJOKoxvZuIOdQczd/bE+Oa0M2t3aEgCkRph\nIp6QSHuWYnePZemdHCxM3mUUaOoN7RL7pk74e8QL6dKgHcM6DvtSAUSqHL5QSG5rvP1bOSxr\n5czizPggzokM3uSxfHNHOCZcsnezkzgQqTG8vVAG/nx7RZCfsquZM0szFVm7cEDyj+VbDb0Z\no+tSdYUjxkSknAcA6dcpV8wuMhJzab43jvdrOXNothy7Y538kGVTO2cHJG7NehzKJ2yP5duM\nmdOOt5C2GIg0FL9KNJc/2dTBlrDi9xBP23nvV6zFxFsxlpnLpy75v77saejskgzE4vf19j4K\nH8vHD6mepP2UveiLtODLNpZO6XUtYMPHN/y38JiN1vwX1FT9RMlxG309KnJ32ZJyyClGIv0d\nPZaP77Fq/JpJE+iLNBEj+72Mk+hSr1O2oJ3ET3q784Wh2PwuuTe4ZE/uMFls52sr2jqvEDL9\nva1R4lg+ug2XaoF9oUDZECORXFpqVtOKqcxv1AAACiBJREFUzrWOhf/waDlifCsH5ROlsdah\nQDY0dl4ZJoxPsyd+jE05lm/WnodIGxORFI+k865Trpj9QL03+IBtpg5fUlSM5ls7vwRyqu0N\nZFtyLF8GapHCRH4CIlVExt7gjImdjwtng5tu7iLXF8lf/y/tOJYvA0Qke8jYG5zxDM96XHxi\n2mx7G1y9FcfyZQCRrCFrb3B5TNlK46FDk8k73UuL6NOGY/ky0BfJgUiVkLk3uMlvr+aaXPfK\nYxl/7D+WLwP2uYKcrJ3uehaIlENyb/AwI5PfXk21ufZ1516gtf5Yvgz0RZp6hzjqPXmGSNkk\n9waPIBt9pfn+XzONbnBVf25o+7F8GeiLhJUNVZDYGzyKOztab/RvsSZa3eSaE391kOXH8mWg\nL5IbeUMPAApfp2Q5O09sb/A4U5NGbyTlYHLF9XaiYPWxfBkYiLSOPAAoep1yxewBkb3BN3uj\ncfSp7Hyo3+icuhve7Hqzbd1tPpYvAwORzK5D+3GdZLs3uBufnCFRDrjelje9WulTdZuG/UIB\nRKqfUMqOv4Lu0LxoXWfTm11rOOUmte/ZURiIZBPe3uDzmZguLeVv6VXZ39X1tb3hlcb8lYmh\n3A+mrUAkqxB7g/NldeIkhoFotYFmgjRJbY1vdKE9sXnDki8SGuy16h2kMBDJOpbu7+fliI3W\nckXQkGDdWU3JO6OrzNl4uZzxdbrrqavUcDpv23pVAUSyjrkwZzFg4tWCCc0svI72N7uGI+ZG\nazlHWs7Go1ErR3gQyTrWXvJOvFQxpZqDV98BZldY+gHXacV5YkrYZwogUmPM+cujcnd9secJ\nTUiqugcMPz8QyR3dtW7roBAQyUKWA8+fJXNmyzlJGpxV3QWmH+8f7j5nC6fALkm2ApGsZC1O\nUVo5jtwfo/ysgbd/pUHJ+LNn3nZB46Fb0da9YR4AkexE7B/veLMGsi1Yq+uFEp88ccPuei02\np2rxQ1mIZCmLUOK7/P3FYn9SY/a5i7Ezmom3zL2ZYPveMA+ASNYyZt4OILPyQzuW+IIWo491\nQ9FIPIrd7M1mS/F/tHiO9HMFEKlpFhMp0kpMxydlHlOy1C/pMHwSKw79ZN7mY8tlC7c82QKR\nLEac+ijfoUyeEakDU3xNhNlHDuSAde6tL4wdTdE2IJLFrJzBaCh+Y89LHTIbbXzy5J3Z5639\n+LMnR67zdu2sGgci2cxq7Dj8LJd5uX114o1P2xmGn7YKAlA73y2PAZFawMrPg5s9+U+2PWlv\n6H7YaiCrETx+bfWQzgcitQB/p5m5WR48pe0Ju0P7oxbyaMvgSey8ddsTp8GOKIBI1jDx0t9B\nYNIjtenJ+sPgg/jRllyhiThCdu609ylsCIhkP97etmt5YoN2Hjy96YlSDmafMpEvLs7Mtkay\nEohkP2PZeEPxwGVKtksIRZeYfsbcEROjdWKzpNYCkeyHvzLrvVbBH7c4RttypUDQJ8ZxbTVo\n8bq6NCBSC1g4/mI08V7FjGh7ofKdUubdjLFYHNQZIFIrWIrXKvh2rPK9CjtiEiv1EXuszUuC\n4rBPFUAkq5iIIOQfikl27kmpbin7akbKyYTtBSK1BJ4vHnp5cN2TsDMok7xjkT9MGLV6VVAE\niNQexv6IbpD/CFNu0F7krQTjnqn6Had2AZHaw8JbkyYC03zsJY5Td49cifREsX15DLuGpXzV\nYyBS6+CBaTX0H2WOU6OTDF4F370w6puK38xoHRCpbUzcCdJKPM9cOlOVK3pnzhp0Dsv4Wy9h\nhxVAJDsRbybJRQ6b2UD1npJ/YnbB7J5+ygEixYBILWPiiO2yxddLpjrebuoN7Qq/oKDZP9W+\n4dRGIFLbWG83CUk/uFkwE0c8aDym0eqgit9waiMQqYWMvNZ01GlweeaszhtzGj2EzkwCkVrI\nVLbmmClXToszWddjrZUDhbsIfZkCRGoha/4unKuJOuAMxOBvrXdCeNE+Ql+mwA4pgEgWM3eY\nk3lKhV76O/ZTed+l9Zl9ASK1k8Uk881Smf5eay9uLdBN6MlUIFJLmWS+kzThRyyZnPaX209Z\n37AcMzbuzjpULSBSW8lekDo03Q4hr6My/n0u1/e1d//uMkCkjiJWf5v8YHZPZf2r4yw36xHZ\nnhLtAiKBGFkph6xu3BMK6c/LugH7RAFE6i/KzsrsxfR16H0BIoEkit7K7sQB20wdNu7nFAki\ngTTSuytn+sRGItlQRXnsByKBNNL6K6cPxeF7mestugxEAqnoL/CWJ3Wu9JYldQaIBNKJJ+/y\nH9UaLUvqChAJqGDKv6Qy6rdIHyuASEBvg5OpeKtj1ZHTJXSBSECN1pZb7uxozZMNexUWyF4g\nEshAaxPIaYeOO9IGIoEs5IynYO/Nh4br+zoARAIZsE3JIyd6A0QCGUiL0Hn5sI8UQCRQ+uCW\nHgGRgBr0WmEgElCCTisORAJK0GnFgUhABfpMA4gEVKDPNGA/UwCR+g66TAeIBBSgy3SASCAd\n9JgWEAmkgx7TAiKBVNBhekAkkAo6TA/2UwUQCYDiQCQACIBIABAAkQAgACIBQABEAoAA9hMF\nEAmA4kAk4DPzO0mc9tfT41lMgUjAY+lvNizPn+3nXvjGQCQgWTqeSAt+PIv7t0XDBWoXEAkI\nZmzoiTQRe3jv9fScI1MgEhCwiX+OxIitNnygN2q2QC2DKSG+Du3HAWqW8QOOeno8i+2gV+wH\nIrUA9Ir9QKQWgF6xH4jUAtAr9uOp40Aki0Gv2E8ka7dC1s5KIJL9eCLJs2DnrK9HhtkNRLIf\nrGxoARDJfvxZ0aDPZ8HaDkSyH1+ktVj93WxZgAKIBAABEAkAAiASAARAJAAIgEgAEACRACAA\nIgFAAEQCgACIBAABEAkAAiASAARAJAAIgEgAEACRACAAIgFAAEQCgACIBAABEAkAAiASAARA\nJAAIgEgAEACRACAAIgFAAEQCgACIBAABEAkAAiASAARAJAAIgEgAEACRACAAIgFAAEQCgACI\nBAABEAkAAiASAARAJAAIgEgAEACRACAAIgFAAEQCgACIBAABEAkAAiASAARAJAAIgEgAEACR\nACAAIgFAAEQCgACIBAABEAkAAiASAARAJAAIgEgAEACRACAAIgFAAEQCgACIBAABEAkAAiAS\nAARAJAAIgEgAEACRACAAIgFAAEQCgACIBAABEAkAAiASAARAJAAIgEgAEACRACAAIgFAAEQC\ngACIBAABEAkAAiASAARAJAAIgEgAEACRACAAIgFAAEQCgACIBAABEAkAAiASAARAJAAIgEgA\nEACRACAAIgFAAEQCgACIBAABEAkAAiASAARAJAAIgEgAEACRACAAIgFAAEQCgACIBAABEAkA\nAiASAARAJAAIgEgAEACRACAAIgFAAEQCgACIBAABEAkAAiASAARAJAAIgEgAEACRACAAIgFA\nAEQCgACIBAABEAkAAiASAARAJAAIgEgAEACRACDg/wMG8a0x2/W+YQAAAABJRU5ErkJggg==",
      "text/plain": [
       "Plot with title \"\""
      ]
     },
     "metadata": {},
     "output_type": "display_data"
    }
   ],
   "source": [
    "newdata<-getNewData(varDesc=varDesc,pdvars=c(\"logempedist\",\"logEMPEabund\"),useMedian=FALSE)\n",
    "pddata<-getpdData(reslst=reslst,newdata=newdata,pdvars=c(\"logempedist\",\"logEMPEabund\"),type=\"glm\")\n",
    "zm<-matrix(pddata$predicted,ncol=100,byrow=F)\n",
    "persp3D(x=unique(pddata$logEMPEabund),y=unique(pddata$logempedist),z=zm,box=T,axes=T,ticktype=\"detailed\",\n",
    "        xlab=\"logEMPEabund\",ylab=\"log(EMPEdist)\",zlab=\"logit(seal_presence)\")"
   ]
  },
  {
   "cell_type": "code",
   "execution_count": null,
   "metadata": {},
   "outputs": [],
   "source": []
  }
 ],
 "metadata": {
  "kernelspec": {
   "display_name": "R",
   "language": "R",
   "name": "ir"
  },
  "language_info": {
   "codemirror_mode": "r",
   "file_extension": ".r",
   "mimetype": "text/x-r-source",
   "name": "R",
   "pygments_lexer": "r",
   "version": "3.6.1"
=======
   "execution_count": 1,
   "metadata": {},
   "outputs": [
    {
     "name": "stderr",
     "output_type": "stream",
     "text": [
      "Loading required package: ggplot2\n",
      "\n",
      "Loading required package: plyr\n",
      "\n",
      "Loading required package: dplyr\n",
      "\n",
      "\n",
      "Attaching package: ‘dplyr’\n",
      "\n",
      "\n",
      "The following objects are masked from ‘package:plyr’:\n",
      "\n",
      "    arrange, count, desc, failwith, id, mutate, rename, summarise,\n",
      "    summarize\n",
      "\n",
      "\n",
      "The following objects are masked from ‘package:stats’:\n",
      "\n",
      "    filter, lag\n",
      "\n",
      "\n",
      "The following objects are masked from ‘package:base’:\n",
      "\n",
      "    intersect, setdiff, setequal, union\n",
      "\n",
      "\n",
      "Loading required package: jsonlite\n",
      "\n",
      "Loading required package: plot3D\n",
      "\n",
      "Loading required package: caret\n",
      "\n",
      "Loading required package: lattice\n",
      "\n",
      "Loading required package: plotROC\n",
      "\n",
      "Loading required package: lmtest\n",
      "\n",
      "Loading required package: zoo\n",
      "\n",
      "\n",
      "Attaching package: ‘zoo’\n",
      "\n",
      "\n",
      "The following objects are masked from ‘package:base’:\n",
      "\n",
      "    as.Date, as.Date.numeric\n",
      "\n",
      "\n"
     ]
    },
    {
     "data": {
      "text/html": [
       "<ol>\n",
       "\t<li>TRUE</li>\n",
       "\t<li>TRUE</li>\n",
       "\t<li>TRUE</li>\n",
       "\t<li>TRUE</li>\n",
       "\t<li>TRUE</li>\n",
       "\t<li>TRUE</li>\n",
       "\t<li>TRUE</li>\n",
       "\t<li>TRUE</li>\n",
       "</ol>\n"
      ],
      "text/latex": [
       "\\begin{enumerate}\n",
       "\\item TRUE\n",
       "\\item TRUE\n",
       "\\item TRUE\n",
       "\\item TRUE\n",
       "\\item TRUE\n",
       "\\item TRUE\n",
       "\\item TRUE\n",
       "\\item TRUE\n",
       "\\end{enumerate}\n"
      ],
      "text/markdown": [
       "1. TRUE\n",
       "2. TRUE\n",
       "3. TRUE\n",
       "4. TRUE\n",
       "5. TRUE\n",
       "6. TRUE\n",
       "7. TRUE\n",
       "8. TRUE\n",
       "\n",
       "\n"
      ],
      "text/plain": [
       "[[1]]\n",
       "[1] TRUE\n",
       "\n",
       "[[2]]\n",
       "[1] TRUE\n",
       "\n",
       "[[3]]\n",
       "[1] TRUE\n",
       "\n",
       "[[4]]\n",
       "[1] TRUE\n",
       "\n",
       "[[5]]\n",
       "[1] TRUE\n",
       "\n",
       "[[6]]\n",
       "[1] TRUE\n",
       "\n",
       "[[7]]\n",
       "[1] TRUE\n",
       "\n",
       "[[8]]\n",
       "[1] TRUE\n"
      ]
     },
     "metadata": {},
     "output_type": "display_data"
    }
   ],
   "source": [
    "## Load libraries\n",
    "libs<-c(\"ggplot2\",\"plyr\",\"dplyr\",\"jsonlite\",\"plot3D\",\"caret\",\"plotROC\",\"lmtest\")\n",
    "lapply(libs, require, character.only = TRUE)\n",
    "pathToLocalGit<-\"~/Workspace/ContinentalWESEestimates/\"\n",
    "\n",
    "## Load the source utility functions file\n",
    "source(file=paste0(pathToLocalGit,\"scripts/fitRegressionModels_functions.R\"))\n",
    "\n",
    "#load the data\n",
    "load(file=\"~/Workspace/ContinentalWESEestimates/data/WESEdata_forContinentalAnalyses.RData\")"
   ]
  },
  {
   "cell_type": "markdown",
   "metadata": {},
   "source": [
    "### Here are the covariates to use in the models.\n",
    "Use linear and quadratic forms for the numerics, and combinations between numerics and factors. Quadratics must be added to the equation as so: I(distToShore^2). Combining numerics and factors means a slope of the numeric for each level of the factor.   \n",
    "   \n",
    "Numeric:   \n",
    "  * scaledmeanslope   \n",
    "  * logmeanbathy  \n",
    "  * logglacierdist  \n",
    "  * logdistToShore  \n",
    "  * logcont300dist  \n",
    "  * logcont800dist  \n",
    "  * logdistNearestIceEdge  \n",
    "  * logfastIceWidth  \n",
    "  * logempedist  \n",
    "  * logadpedist  \n",
    "  * logADPEabund  \n",
    "  * logEMPEabund  \n",
    "  * fastIceRatio  \n",
    "  * Persistence2Years (3 levels: 0, 1, 2)  \n",
    "  * PredictabilityDec5Years (6 levels: 0, 1,...,5)\n",
    "  * Persistence3Years (4 levels: 0, 1, 2, 3)  \n",
    "  * PredictabilityOct5Years (6 levels: 0, 1,...,5)\n",
    "  \n",
    "Factors:  \n",
    "  * DecemberIcePresence (0/1)    \n",
    "  * InCanyon (0/1)  \n",
    "  * InTrough (0/1)  \n",
    "  * Region - reference: Ross Sea\n",
    "  * adpepresent (0/1)"
   ]
  },
  {
   "cell_type": "code",
   "execution_count": 2,
   "metadata": {},
   "outputs": [],
   "source": [
    "#THIS IS THE \"FULL\" MODEL as per convo July 6 US-time\n",
    "fml<-paste0(\"presence~scaledmeanslope+I(scaledmeanslope^2)+logmeanbathy+adpepresent*logadpedist+empepresent*logempedist+\",\n",
    "            \"I(logempedist^2)+I(logadpedist^2)+logEMPEabund+logADPEabund*Region+Region*PredictabilityOct5Years+\",\n",
    "            \"logdistToShore+I(logdistToShore^2)+Region*logcont300dist+InCanyon+\",\n",
    "            \"Region*fastIceRatio+Region*logglacierdist\")\n",
    "reslst<-fitModelToBootstrap(fml=fml,datalist=bootsamp,fam=\"binomial\")\n",
    "## Note: not indicating the family so it defaults to \"gaussian\" and fits a simple regression"
   ]
  },
  {
   "cell_type": "code",
   "execution_count": 3,
   "metadata": {},
   "outputs": [
    {
     "name": "stdout",
     "output_type": "stream",
     "text": [
      "                  Parameter     Value Nboot\n",
      "Df                       Df  2885.000   100\n",
      "AIC                     AIC  2956.328   100\n",
      "LogLik               LogLik -1439.164   100\n",
      "ResidDeviance ResidDeviance  2878.328   100\n"
     ]
    }
   ],
   "source": [
    "gofres<-summarizeResults(fitobj=reslst,what=\"gof\")\n",
    "print(gofres)"
   ]
  },
  {
   "cell_type": "markdown",
   "metadata": {},
   "source": [
    "Let's examine the results, starting with a summary of the coefficients. For this we use the function \"summarizeResults\". The function has two arguments: the fitobj is the object resulting from using the fitModelToBootstrap function above (in our example, fitobj is reslst), and the \"what\" parameter. This parameter has three possible values: \"coefs\", \"gof\", or \"resids\". The latter is the vector of average residuals. Let's look at the coefficients and the goodness-of-fit results."
   ]
  },
  {
   "cell_type": "code",
   "execution_count": 4,
   "metadata": {},
   "outputs": [
    {
     "name": "stdout",
     "output_type": "stream",
     "text": [
      "                                Parameter Coefficient StError z_value Prob_t\n",
      "1                             (Intercept)      91.625  14.321   6.386  0.000\n",
      "2                         scaledmeanslope       0.337   0.154   2.199  0.071\n",
      "3                    I(scaledmeanslope^2)      -0.079   0.035  -2.278  0.068\n",
      "4                            logmeanbathy       0.261   0.083   3.119  0.013\n",
      "5                           adpepresentno     -17.469   4.071  -4.291  0.001\n",
      "6                             logadpedist       2.721   0.973   2.806  0.020\n",
      "7                           empepresentno      11.751   3.637   3.174  0.016\n",
      "8                             logempedist     -12.317   1.571  -7.804  0.000\n",
      "9                        I(logempedist^2)       0.559   0.075   7.463  0.000\n",
      "10                       I(logadpedist^2)      -0.166   0.053  -3.156  0.009\n",
      "11                           logEMPEabund      -0.140   0.047  -2.956  0.013\n",
      "12                           logADPEabund      -0.024   0.047  -0.503  0.522\n",
      "13                          RegionA-B-WAP     -44.960  10.770  -4.176  0.000\n",
      "14                             RegionEAnt     -38.456  10.593  -3.629  0.001\n",
      "15                         RegionWedd_Sea     -44.122  10.695  -4.130  0.000\n",
      "16                PredictabilityOct5Years      -0.289   0.081  -3.562  0.003\n",
      "17                         logdistToShore       3.447   0.510   6.773  0.000\n",
      "18                    I(logdistToShore^2)      -0.257   0.032  -7.909  0.000\n",
      "19                         logcont300dist      -2.338   0.726  -3.218  0.002\n",
      "20                               InCanyon      -2.068   0.674  -3.069  0.006\n",
      "21                           fastIceRatio       0.890   0.635   1.397  0.229\n",
      "22                         logglacierdist      -1.145   0.245  -4.645  0.000\n",
      "23              adpepresentno:logadpedist       1.654   0.371   4.453  0.000\n",
      "24              empepresentno:logempedist      -1.071   0.305  -3.453  0.008\n",
      "25             logADPEabund:RegionA-B-WAP      -0.162   0.089  -1.817  0.106\n",
      "26                logADPEabund:RegionEAnt       0.095   0.040   2.416  0.052\n",
      "27            logADPEabund:RegionWedd_Sea      -0.021   0.068  -0.328  0.541\n",
      "28  RegionA-B-WAP:PredictabilityOct5Years      -0.208   0.132  -1.581  0.180\n",
      "29     RegionEAnt:PredictabilityOct5Years       0.206   0.086   2.404  0.045\n",
      "30 RegionWedd_Sea:PredictabilityOct5Years      -0.105   0.111  -0.952  0.394\n",
      "31           RegionA-B-WAP:logcont300dist       2.256   0.728   3.094  0.002\n",
      "32              RegionEAnt:logcont300dist       2.176   0.728   2.987  0.003\n",
      "33          RegionWedd_Sea:logcont300dist       2.326   0.731   3.181  0.002\n",
      "34             RegionA-B-WAP:fastIceRatio      -2.029   0.787  -2.581  0.040\n",
      "35                RegionEAnt:fastIceRatio      -0.526   0.688  -0.758  0.440\n",
      "36            RegionWedd_Sea:fastIceRatio      -1.442   0.738  -1.951  0.107\n",
      "37           RegionA-B-WAP:logglacierdist       1.492   0.317   4.696  0.000\n",
      "38              RegionEAnt:logglacierdist       0.854   0.254   3.342  0.013\n",
      "39          RegionWedd_Sea:logglacierdist       1.244   0.286   4.340  0.001\n",
      "   Nboot\n",
      "1    100\n",
      "2    100\n",
      "3    100\n",
      "4    100\n",
      "5    100\n",
      "6    100\n",
      "7    100\n",
      "8    100\n",
      "9    100\n",
      "10   100\n",
      "11   100\n",
      "12   100\n",
      "13   100\n",
      "14   100\n",
      "15   100\n",
      "16   100\n",
      "17   100\n",
      "18   100\n",
      "19   100\n",
      "20   100\n",
      "21   100\n",
      "22   100\n",
      "23   100\n",
      "24   100\n",
      "25   100\n",
      "26   100\n",
      "27   100\n",
      "28   100\n",
      "29   100\n",
      "30   100\n",
      "31   100\n",
      "32   100\n",
      "33   100\n",
      "34   100\n",
      "35   100\n",
      "36   100\n",
      "37   100\n",
      "38   100\n",
      "39   100\n"
     ]
    }
   ],
   "source": [
    "coefres<-summarizeResults(fitobj=reslst,what=\"coefs\")\n",
    "row.names(coefres)<-NULL\n",
    "print(coefres)"
   ]
  },
  {
   "cell_type": "markdown",
   "metadata": {},
   "source": [
    "## Evaluating goodness of fit\n",
    "Here we calculate the confusion matrix statistics from all the bootstrap results combined, and plot the ROC curve with all the bootstrap results combined"
   ]
  },
  {
   "cell_type": "code",
   "execution_count": 5,
   "metadata": {},
   "outputs": [
    {
     "data": {
      "text/html": [
       "<table>\n",
       "<caption>A data.frame: 6 × 4</caption>\n",
       "<thead>\n",
       "\t<tr><th></th><th scope=col>bootstrap</th><th scope=col>predicted</th><th scope=col>residual</th><th scope=col>observed</th></tr>\n",
       "\t<tr><th></th><th scope=col>&lt;int&gt;</th><th scope=col>&lt;dbl&gt;</th><th scope=col>&lt;dbl&gt;</th><th scope=col>&lt;dbl&gt;</th></tr>\n",
       "</thead>\n",
       "<tbody>\n",
       "\t<tr><th scope=row>1</th><td>1</td><td>0.1213897</td><td>-1.138161</td><td>0</td></tr>\n",
       "\t<tr><th scope=row>2</th><td>1</td><td>0.2304915</td><td>-1.299531</td><td>0</td></tr>\n",
       "\t<tr><th scope=row>3</th><td>1</td><td>0.2461203</td><td>-1.326472</td><td>0</td></tr>\n",
       "\t<tr><th scope=row>4</th><td>1</td><td>0.4522252</td><td>-1.825568</td><td>0</td></tr>\n",
       "\t<tr><th scope=row>5</th><td>1</td><td>0.2934868</td><td>-1.415402</td><td>0</td></tr>\n",
       "\t<tr><th scope=row>6</th><td>1</td><td>0.1025082</td><td>-1.114216</td><td>0</td></tr>\n",
       "</tbody>\n",
       "</table>\n"
      ],
      "text/latex": [
       "A data.frame: 6 × 4\n",
       "\\begin{tabular}{r|llll}\n",
       "  & bootstrap & predicted & residual & observed\\\\\n",
       "  & <int> & <dbl> & <dbl> & <dbl>\\\\\n",
       "\\hline\n",
       "\t1 & 1 & 0.1213897 & -1.138161 & 0\\\\\n",
       "\t2 & 1 & 0.2304915 & -1.299531 & 0\\\\\n",
       "\t3 & 1 & 0.2461203 & -1.326472 & 0\\\\\n",
       "\t4 & 1 & 0.4522252 & -1.825568 & 0\\\\\n",
       "\t5 & 1 & 0.2934868 & -1.415402 & 0\\\\\n",
       "\t6 & 1 & 0.1025082 & -1.114216 & 0\\\\\n",
       "\\end{tabular}\n"
      ],
      "text/markdown": [
       "\n",
       "A data.frame: 6 × 4\n",
       "\n",
       "| <!--/--> | bootstrap &lt;int&gt; | predicted &lt;dbl&gt; | residual &lt;dbl&gt; | observed &lt;dbl&gt; |\n",
       "|---|---|---|---|---|\n",
       "| 1 | 1 | 0.1213897 | -1.138161 | 0 |\n",
       "| 2 | 1 | 0.2304915 | -1.299531 | 0 |\n",
       "| 3 | 1 | 0.2461203 | -1.326472 | 0 |\n",
       "| 4 | 1 | 0.4522252 | -1.825568 | 0 |\n",
       "| 5 | 1 | 0.2934868 | -1.415402 | 0 |\n",
       "| 6 | 1 | 0.1025082 | -1.114216 | 0 |\n",
       "\n"
      ],
      "text/plain": [
       "  bootstrap predicted residual  observed\n",
       "1 1         0.1213897 -1.138161 0       \n",
       "2 1         0.2304915 -1.299531 0       \n",
       "3 1         0.2461203 -1.326472 0       \n",
       "4 1         0.4522252 -1.825568 0       \n",
       "5 1         0.2934868 -1.415402 0       \n",
       "6 1         0.1025082 -1.114216 0       "
      ]
     },
     "metadata": {},
     "output_type": "display_data"
    },
    {
     "data": {
      "text/plain": [
       "Confusion Matrix and Statistics\n",
       "\n",
       "          Reference\n",
       "Prediction      A      P\n",
       "         A 111745  36666\n",
       "         P  34455 109534\n",
       "                                          \n",
       "               Accuracy : 0.7568          \n",
       "                 95% CI : (0.7552, 0.7583)\n",
       "    No Information Rate : 0.5             \n",
       "    P-Value [Acc > NIR] : < 2.2e-16       \n",
       "                                          \n",
       "                  Kappa : 0.5135          \n",
       "                                          \n",
       " Mcnemar's Test P-Value : < 2.2e-16       \n",
       "                                          \n",
       "            Sensitivity : 0.7492          \n",
       "            Specificity : 0.7643          \n",
       "         Pos Pred Value : 0.7607          \n",
       "         Neg Pred Value : 0.7529          \n",
       "             Prevalence : 0.5000          \n",
       "         Detection Rate : 0.3746          \n",
       "   Detection Prevalence : 0.4924          \n",
       "      Balanced Accuracy : 0.7568          \n",
       "                                          \n",
       "       'Positive' Class : P               \n",
       "                                          "
      ]
     },
     "metadata": {},
     "output_type": "display_data"
    },
    {
     "data": {
      "image/png": "iVBORw0KGgoAAAANSUhEUgAAA0gAAANICAMAAADKOT/pAAADAFBMVEUAAAABAQECAgIDAwME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\nRQAAAABJRU5ErkJggg==",
      "text/plain": [
       "plot without title"
      ]
     },
     "metadata": {
      "image/png": {
       "height": 420,
       "width": 420
      },
      "text/plain": {
       "height": 420,
       "width": 420
      }
     },
     "output_type": "display_data"
    }
   ],
   "source": [
    "rdf<-summarizeResults(fitobj=reslst,what=\"residplot\")\n",
    "head(rdf)\n",
    "cmdf<-rdf[,c(\"predicted\",\"observed\")]\n",
    "cmdf$Predicted<-ifelse(cmdf$predicted>=0.5,\"P\",\"A\")\n",
    "cmdf$Observed<-ifelse(cmdf$observed==1,\"P\",\"A\")\n",
    "confusionMatrix(data=as.factor(cmdf$Predicted),reference=as.factor(cmdf$Observed),positive=\"P\")\n",
    "ggplot(rdf, aes(m = predicted, d = observed)) + geom_roc() + geom_rocci()"
   ]
  },
  {
   "cell_type": "markdown",
   "metadata": {},
   "source": [
    "The curve looks good, and accuracy is 76%."
   ]
  },
  {
   "cell_type": "code",
   "execution_count": 6,
   "metadata": {},
   "outputs": [],
   "source": [
    "#THIS IS THE SECOND MODEL reslst2 WITH NO OCT5YRS AT ALL\n",
    "fml<-paste0(\"presence~scaledmeanslope+I(scaledmeanslope^2)+logmeanbathy+adpepresent*logadpedist+empepresent*logempedist+\",\n",
    "            \"I(logempedist^2)+I(logadpedist^2)+logEMPEabund+logADPEabund*Region+\",\n",
    "            \"logdistToShore+I(logdistToShore^2)+Region*logcont300dist+InCanyon+\",\n",
    "            \"Region*fastIceRatio+Region*logglacierdist\")\n",
    "reslst2<-fitModelToBootstrap(fml=fml,datalist=bootsamp,fam=\"binomial\")\n",
    "gofres2<-summarizeResults(fitobj=reslst2,what=\"gof\")"
   ]
  },
  {
   "cell_type": "code",
   "execution_count": 7,
   "metadata": {
    "scrolled": true
   },
   "outputs": [
    {
     "name": "stdout",
     "output_type": "stream",
     "text": [
      "                       Parameter Coefficient StError z_value Prob_t Nboot\n",
      "1                    (Intercept)      89.842  13.179   6.802  0.000   100\n",
      "2                scaledmeanslope       0.469   0.149   3.157  0.010   100\n",
      "3           I(scaledmeanslope^2)      -0.092   0.034  -2.719  0.028   100\n",
      "4                   logmeanbathy       0.306   0.081   3.767  0.002   100\n",
      "5                  adpepresentno     -14.616   3.959  -3.693  0.004   100\n",
      "6                    logadpedist       2.256   0.953   2.377  0.049   100\n",
      "7                  empepresentno      12.411   3.540   3.454  0.009   100\n",
      "8                    logempedist     -12.471   1.535  -8.089  0.000   100\n",
      "9               I(logempedist^2)       0.570   0.073   7.796  0.000   100\n",
      "10              I(logadpedist^2)      -0.140   0.052  -2.715  0.026   100\n",
      "11                  logEMPEabund      -0.097   0.045  -2.130  0.075   100\n",
      "12                  logADPEabund       0.001   0.046   0.021  0.562   100\n",
      "13                 RegionA-B-WAP     -41.942   9.473  -4.426  0.000   100\n",
      "14                    RegionEAnt     -35.072   9.302  -3.765  0.000   100\n",
      "15                RegionWedd_Sea     -42.921   9.409  -4.563  0.000   100\n",
      "16                logdistToShore       3.629   0.498   7.295  0.000   100\n",
      "17           I(logdistToShore^2)      -0.271   0.032  -8.572  0.000   100\n",
      "18                logcont300dist      -2.086   0.627  -3.321  0.001   100\n",
      "19                      InCanyon      -2.128   0.678  -3.141  0.005   100\n",
      "20                  fastIceRatio       0.193   0.604   0.317  0.570   100\n",
      "21                logglacierdist      -1.136   0.242  -4.680  0.001   100\n",
      "22     adpepresentno:logadpedist       1.400   0.361   3.875  0.002   100\n",
      "23     empepresentno:logempedist      -1.107   0.297  -3.672  0.005   100\n",
      "24    logADPEabund:RegionA-B-WAP      -0.113   0.086  -1.325  0.243   100\n",
      "25       logADPEabund:RegionEAnt       0.085   0.038   2.230  0.075   100\n",
      "26   logADPEabund:RegionWedd_Sea      -0.015   0.066  -0.246  0.530   100\n",
      "27  RegionA-B-WAP:logcont300dist       1.914   0.630   3.035  0.003   100\n",
      "28     RegionEAnt:logcont300dist       1.918   0.629   3.044  0.003   100\n",
      "29 RegionWedd_Sea:logcont300dist       2.193   0.632   3.466  0.001   100\n",
      "30    RegionA-B-WAP:fastIceRatio      -2.157   0.736  -2.930  0.018   100\n",
      "31       RegionEAnt:fastIceRatio      -0.345   0.647  -0.529  0.530   100\n",
      "32   RegionWedd_Sea:fastIceRatio      -1.128   0.707  -1.595  0.190   100\n",
      "33  RegionA-B-WAP:logglacierdist       1.606   0.305   5.258  0.000   100\n",
      "34     RegionEAnt:logglacierdist       0.870   0.251   3.448  0.014   100\n",
      "35 RegionWedd_Sea:logglacierdist       1.313   0.280   4.669  0.000   100\n"
     ]
    }
   ],
   "source": [
    "#Example printing coefficients - do where needed\n",
    "coefres<-summarizeResults(fitobj=reslst2,what=\"coefs\")\n",
    "row.names(coefres)<-NULL\n",
    "print(coefres)"
   ]
  },
  {
   "cell_type": "code",
   "execution_count": 8,
   "metadata": {},
   "outputs": [],
   "source": [
    "#THIS IS THE THIRD MODEL restlst3 WITH NO REGION-OCTOBER5YRS INTERACTION\n",
    "fml<-paste0(\"presence~scaledmeanslope+I(scaledmeanslope^2)+logmeanbathy+adpepresent*logadpedist+empepresent*logempedist+\",\n",
    "            \"I(logempedist^2)+I(logadpedist^2)+logEMPEabund+logADPEabund*Region+PredictabilityOct5Years+\",\n",
    "            \"logdistToShore+I(logdistToShore^2)+Region*logcont300dist+InCanyon+\",\n",
    "            \"Region*fastIceRatio+Region*logglacierdist\")\n",
    "reslst3<-fitModelToBootstrap(fml=fml,datalist=bootsamp,fam=\"binomial\")\n",
    "gofres3<-summarizeResults(fitobj=reslst3,what=\"gof\")"
   ]
  },
  {
   "cell_type": "code",
   "execution_count": null,
   "metadata": {},
   "outputs": [],
   "source": [
    "#THIS IS THE FOURTH MODEL restlst4 NO 300CONTDIST AT ALL\n",
    "fml<-paste0(\"presence~scaledmeanslope+I(scaledmeanslope^2)+logmeanbathy+adpepresent*logadpedist+empepresent*logempedist+\",\n",
    "            \"I(logempedist^2)+I(logadpedist^2)+logEMPEabund+logADPEabund*Region+Region*PredictabilityOct5Years+\",\n",
    "            \"logdistToShore+I(logdistToShore^2)+InCanyon+\",\n",
    "            \"Region*fastIceRatio+Region*logglacierdist\")\n",
    "reslst4<-fitModelToBootstrap(fml=fml,datalist=bootsamp,fam=\"binomial\")\n",
    "gofres4<-summarizeResults(fitobj=reslst4,what=\"gof\")"
   ]
  },
  {
   "cell_type": "code",
   "execution_count": null,
   "metadata": {},
   "outputs": [],
   "source": [
    "#THIS IS THE FIFTH MODEL restlst5 NO 300CONTDIST-REGION INTERACTION\n",
    "fml<-paste0(\"presence~scaledmeanslope+I(scaledmeanslope^2)+logmeanbathy+adpepresent*logadpedist+empepresent*logempedist+\",\n",
    "            \"I(logempedist^2)+I(logadpedist^2)+logEMPEabund+logADPEabund*Region+Region*PredictabilityOct5Years+\",\n",
    "            \"logdistToShore+I(logdistToShore^2)+logcont300dist+InCanyon+\",\n",
    "            \"Region*fastIceRatio+Region*logglacierdist\")\n",
    "reslst5<-fitModelToBootstrap(fml=fml,datalist=bootsamp,fam=\"binomial\")\n",
    "gofres5<-summarizeResults(fitobj=reslst5,what=\"gof\")\n",
    "## Note: not indicating the family so it defaults to \"gaussian\" and fits a simple regression"
   ]
  },
  {
   "cell_type": "code",
   "execution_count": null,
   "metadata": {},
   "outputs": [],
   "source": [
    "#THIS IS THE SIXTH MODEL restlst6 FAST ICE RATIO AT ALL\n",
    "fml<-paste0(\"presence~scaledmeanslope+I(scaledmeanslope^2)+logmeanbathy+adpepresent*logadpedist+empepresent*logempedist+\",\n",
    "            \"I(logempedist^2)+I(logadpedist^2)+logEMPEabund+logADPEabund*Region+Region*PredictabilityOct5Years+\",\n",
    "            \"logdistToShore+I(logdistToShore^2)+Region*logcont300dist+InCanyon+\",\n",
    "            \"Region*logglacierdist\")\n",
    "reslst6<-fitModelToBootstrap(fml=fml,datalist=bootsamp,fam=\"binomial\")\n",
    "gofres6<-summarizeResults(fitobj=reslst6,what=\"gof\")"
   ]
  },
  {
   "cell_type": "code",
   "execution_count": null,
   "metadata": {},
   "outputs": [],
   "source": [
    "#THIS IS SIXTH MODEL\n",
    "gofres<-summarizeResults(fitobj=reslst6,what=\"gof\")\n",
    "print(gofres)"
   ]
  },
  {
   "cell_type": "code",
   "execution_count": null,
   "metadata": {
    "scrolled": true
   },
   "outputs": [],
   "source": [
    "#NO FAST ICE RATIO AT ALL\n",
    "coefres<-summarizeResults(fitobj=reslst6,what=\"coefs\")\n",
    "row.names(coefres)<-NULL\n",
    "print(coefres)"
   ]
  },
  {
   "cell_type": "code",
   "execution_count": null,
   "metadata": {},
   "outputs": [],
   "source": [
    "#THIS IS THE SEVENTH MODEL restlst7 NO REGION-FAST ICE RATIO INTERACTION\n",
    "fml<-paste0(\"presence~scaledmeanslope+I(scaledmeanslope^2)+logmeanbathy+adpepresent*logadpedist+empepresent*logempedist+\",\n",
    "            \"I(logempedist^2)+I(logadpedist^2)+logEMPEabund+logADPEabund*Region+Region*PredictabilityOct5Years+\",\n",
    "            \"logdistToShore+I(logdistToShore^2)+Region*logcont300dist+InCanyon+\",\n",
    "            \"fastIceRatio+Region*logglacierdist\")\n",
    "reslst7<-fitModelToBootstrap(fml=fml,datalist=bootsamp,fam=\"binomial\")\n",
    "gofres7<-summarizeResults(fitobj=reslst7,what=\"gof\")"
   ]
  },
  {
   "cell_type": "code",
   "execution_count": null,
   "metadata": {},
   "outputs": [],
   "source": [
    "#THIS IS THE EIGHTH MODEL restlst8 NO GLACIERDIST AT ALL\n",
    "fml<-paste0(\"presence~scaledmeanslope+I(scaledmeanslope^2)+logmeanbathy+adpepresent*logadpedist+empepresent*logempedist+\",\n",
    "            \"I(logempedist^2)+I(logadpedist^2)+logEMPEabund+logADPEabund*Region+Region*PredictabilityOct5Years+\",\n",
    "            \"logdistToShore+I(logdistToShore^2)+Region*logcont300dist+InCanyon+\",\n",
    "            \"Region*fastIceRatio\")\n",
    "reslst8<-fitModelToBootstrap(fml=fml,datalist=bootsamp,fam=\"binomial\")\n",
    "gofres8<-summarizeResults(fitobj=reslst8,what=\"gof\")"
   ]
  },
  {
   "cell_type": "code",
   "execution_count": null,
   "metadata": {},
   "outputs": [],
   "source": [
    "#THIS IS THE NINTH MODEL restlst9, NO GLACIERDIST-REGION INTERACTION\n",
    "fml<-paste0(\"presence~scaledmeanslope+I(scaledmeanslope^2)+logmeanbathy+adpepresent*logadpedist+empepresent*logempedist+\",\n",
    "            \"I(logempedist^2)+I(logadpedist^2)+logEMPEabund+logADPEabund*Region+Region*PredictabilityOct5Years+\",\n",
    "            \"logdistToShore+I(logdistToShore^2)+Region*logcont300dist+InCanyon+\",\n",
    "            \"Region*fastIceRatio+logglacierdist\")\n",
    "reslst9<-fitModelToBootstrap(fml=fml,datalist=bootsamp,fam=\"binomial\")\n",
    "gofres9<-summarizeResults(fitobj=reslst9,what=\"gof\")"
   ]
  },
  {
   "cell_type": "code",
   "execution_count": null,
   "metadata": {},
   "outputs": [],
   "source": [
    "#THIS IS THE TENTH MODEL restlst10, NO ADPEABUNDANCE AT ALL\n",
    "fml<-paste0(\"presence~scaledmeanslope+I(scaledmeanslope^2)+logmeanbathy+adpepresent*logadpedist+empepresent*logempedist+\",\n",
    "            \"I(logempedist^2)+I(logadpedist^2)+logEMPEabund+Region*PredictabilityOct5Years+\",\n",
    "            \"logdistToShore+I(logdistToShore^2)+Region*logcont300dist+InCanyon+\",\n",
    "            \"Region*fastIceRatio+Region*logglacierdist\")\n",
    "reslst10<-fitModelToBootstrap(fml=fml,datalist=bootsamp,fam=\"binomial\")\n",
    "gofres10<-summarizeResults(fitobj=reslst10,what=\"gof\")"
   ]
  },
  {
   "cell_type": "code",
   "execution_count": null,
   "metadata": {},
   "outputs": [],
   "source": [
    "#THIS IS THE ELEVENTH MODEL restlst11, NO ADPEABUNDANCE-REGION\n",
    "fml<-paste0(\"presence~scaledmeanslope+I(scaledmeanslope^2)+logmeanbathy+adpepresent*logadpedist+empepresent*logempedist+\",\n",
    "            \"I(logempedist^2)+I(logadpedist^2)+logEMPEabund+logADPEabund+Region*PredictabilityOct5Years+\",\n",
    "            \"logdistToShore+I(logdistToShore^2)+Region*logcont300dist+InCanyon+\",\n",
    "            \"Region*fastIceRatio+Region*logglacierdist\")\n",
    "reslst11<-fitModelToBootstrap(fml=fml,datalist=bootsamp,fam=\"binomial\")\n",
    "gofres11<-summarizeResults(fitobj=reslst11,what=\"gof\")"
   ]
  },
  {
   "cell_type": "code",
   "execution_count": null,
   "metadata": {},
   "outputs": [],
   "source": [
    "#View the GOF results\n",
    "goflst<-list(Full=gofres,No_Oct5Yrs=gofres2,Region_Oct5Yrs=gofres3,No_Dist300m=gofres4,\n",
    "             Region_Dist300=gofres5,No_FastIceRatio=gofres6,Region_FastIceRatio=gofres7,No_GlacierDist=gofres8,\n",
    "             Region_GlacierDist=gofres9,NoADPEabund=gofres10,Region_ADPEabund=gofres11)\n",
    "modnames<-names(goflst)\n",
    "ldply(1:NROW(goflst),function(gg,goflst,modnames){\n",
    "    gofv<-goflst[[gg]]\n",
    "    mnm<-modnames[gg]\n",
    "    tdf<-as.data.frame(t(gofv));tdf<-tdf[2,]\n",
    "    tdf$model<-paste(\"Model\",gg)\n",
    "    tdf$modelName<-mnm\n",
    "    return(tdf)\n",
    "},goflst=goflst,modnames=modnames)"
   ]
  },
  {
   "cell_type": "code",
   "execution_count": null,
   "metadata": {},
   "outputs": [],
   "source": [
    "#Using the above example models 2-6 for now - but Michelle will change/add more to these...\n",
    "lrtdf_12<-getLRtest(reslst=reslst,contr=reslst2)\n",
    "lrtdf_13<-getLRtest(reslst=reslst,contr=reslst3)\n",
    "lrtdf_14<-getLRtest(reslst=reslst,contr=reslst4)\n",
    "lrtdf_15<-getLRtest(reslst=reslst,contr=reslst5)\n",
    "lrtdf_16<-getLRtest(reslst=reslst,contr=reslst6)\n",
    "lrtdf_17<-getLRtest(reslst=reslst,contr=reslst7)\n",
    "lrtdf_18<-getLRtest(reslst=reslst,contr=reslst8)\n",
    "lrtdf_19<-getLRtest(reslst=reslst,contr=reslst9)\n",
    "lrtdf_20<-getLRtest(reslst=reslst,contr=reslst10)\n",
    "lrtdf_21<-getLRtest(reslst=reslst,contr=reslst11)\n",
    "#... add the rest of the model contrasts above - should total 10 models (+ full), so 10 lrtdf_1#\n",
    "#then...\n",
    "lrtlst<-list(No_Oct5Yrs=lrtdf_12,Region_Oct5Yrs=lrtdf_13,No_Dist300m=lrtdf_14,\n",
    "             Region_Dist300=lrtdf_15,No_FastIceRatio=lrtdf_16,Region_FastIceRatio=lrtdf_17,No_GlacierDist=lrtdf_18,\n",
    "             Region_GlacierDist=lrtdf_19,NoADPEabund=lrtdf_20,Region_ADPEabund=lrtdf_21)\n",
    "nlrtm<-names(lrtlst)\n",
    "\n",
    "ldply(1:NROW(lrtlst),function(tt,lrtlst,nlrtm){\n",
    "    lrtm<-lrtlst[[tt]];lrtn<-nlrtm[tt]\n",
    "    lrtt<-round(as.numeric(summary(lrtm$PrChisq)),4)\n",
    "    pctsig<-sum(lrtm$PrChisq<0.05)\n",
    "    tdf<-data.frame(Model=lrtn,Mean_prChisq=lrtt[4],Median_prChisq=lrtt[3],Max_prChisq=lrtt[6],PctSig=pctsig)\n",
    "    return(tdf)\n",
    "},lrtlst=lrtlst,nlrtm=nlrtm)\n"
   ]
  },
  {
   "cell_type": "markdown",
   "metadata": {},
   "source": [
    "Above we report the mean and maximum value of the prb. Chisq of the effect. The probabilities are indeed a distribution of values, as shown below."
   ]
  },
  {
   "cell_type": "code",
   "execution_count": null,
   "metadata": {},
   "outputs": [],
   "source": [
    "## Example to show the distribution of values\n",
    "ggplot(data=lrtdf_16,aes(x=PrChisq)) + geom_histogram() "
   ]
  },
  {
   "cell_type": "code",
   "execution_count": null,
   "metadata": {},
   "outputs": [],
   "source": [
    "sum(lrtdf_17$PrChisq<0.05)"
   ]
  },
  {
   "cell_type": "markdown",
   "metadata": {},
   "source": [
    "## Partial dependence plots"
   ]
  },
  {
   "cell_type": "code",
   "execution_count": 14,
   "metadata": {},
   "outputs": [
    {
     "data": {
      "text/html": [
       "<table>\n",
       "<caption>A data.frame: 6 × 6</caption>\n",
       "<thead>\n",
       "\t<tr><th></th><th scope=col>var</th><th scope=col>minv</th><th scope=col>maxv</th><th scope=col>meanv</th><th scope=col>medv</th><th scope=col>modv</th></tr>\n",
       "\t<tr><th></th><th scope=col>&lt;fct&gt;</th><th scope=col>&lt;dbl&gt;</th><th scope=col>&lt;dbl&gt;</th><th scope=col>&lt;dbl&gt;</th><th scope=col>&lt;dbl&gt;</th><th scope=col>&lt;fct&gt;</th></tr>\n",
       "</thead>\n",
       "<tbody>\n",
       "\t<tr><th scope=row>1</th><td>scaledmeanslope</td><td> 8.312824e-07</td><td>10.67303</td><td> 0.6429639</td><td> 0.3885376</td><td>NA          </td></tr>\n",
       "\t<tr><th scope=row>2</th><td>logmeanbathy   </td><td>-7.938042e+00</td><td>-2.06480</td><td>-5.6711849</td><td>-5.7729198</td><td>NA          </td></tr>\n",
       "\t<tr><th scope=row>3</th><td>adpepresent    </td><td>           NA</td><td>      NA</td><td>        NA</td><td>        NA</td><td>[\"no\",\"yes\"]</td></tr>\n",
       "\t<tr><th scope=row>4</th><td>logadpedist    </td><td> 5.316402e+00</td><td>14.30962</td><td>11.5453116</td><td>11.6770628</td><td>NA          </td></tr>\n",
       "\t<tr><th scope=row>5</th><td>empepresent    </td><td>           NA</td><td>      NA</td><td>        NA</td><td>        NA</td><td>[\"yes\",\"no\"]</td></tr>\n",
       "\t<tr><th scope=row>6</th><td>logempedist    </td><td> 4.984499e+00</td><td>13.24255</td><td>11.3936267</td><td>11.5049717</td><td>NA          </td></tr>\n",
       "</tbody>\n",
       "</table>\n"
      ],
      "text/latex": [
       "A data.frame: 6 × 6\n",
       "\\begin{tabular}{r|llllll}\n",
       "  & var & minv & maxv & meanv & medv & modv\\\\\n",
       "  & <fct> & <dbl> & <dbl> & <dbl> & <dbl> & <fct>\\\\\n",
       "\\hline\n",
       "\t1 & scaledmeanslope &  8.312824e-07 & 10.67303 &  0.6429639 &  0.3885376 & NA          \\\\\n",
       "\t2 & logmeanbathy    & -7.938042e+00 & -2.06480 & -5.6711849 & -5.7729198 & NA          \\\\\n",
       "\t3 & adpepresent     &            NA &       NA &         NA &         NA & {[}\"no\",\"yes\"{]}\\\\\n",
       "\t4 & logadpedist     &  5.316402e+00 & 14.30962 & 11.5453116 & 11.6770628 & NA          \\\\\n",
       "\t5 & empepresent     &            NA &       NA &         NA &         NA & {[}\"yes\",\"no\"{]}\\\\\n",
       "\t6 & logempedist     &  4.984499e+00 & 13.24255 & 11.3936267 & 11.5049717 & NA          \\\\\n",
       "\\end{tabular}\n"
      ],
      "text/markdown": [
       "\n",
       "A data.frame: 6 × 6\n",
       "\n",
       "| <!--/--> | var &lt;fct&gt; | minv &lt;dbl&gt; | maxv &lt;dbl&gt; | meanv &lt;dbl&gt; | medv &lt;dbl&gt; | modv &lt;fct&gt; |\n",
       "|---|---|---|---|---|---|---|\n",
       "| 1 | scaledmeanslope |  8.312824e-07 | 10.67303 |  0.6429639 |  0.3885376 | NA           |\n",
       "| 2 | logmeanbathy    | -7.938042e+00 | -2.06480 | -5.6711849 | -5.7729198 | NA           |\n",
       "| 3 | adpepresent     |            NA |       NA |         NA |         NA | [\"no\",\"yes\"] |\n",
       "| 4 | logadpedist     |  5.316402e+00 | 14.30962 | 11.5453116 | 11.6770628 | NA           |\n",
       "| 5 | empepresent     |            NA |       NA |         NA |         NA | [\"yes\",\"no\"] |\n",
       "| 6 | logempedist     |  4.984499e+00 | 13.24255 | 11.3936267 | 11.5049717 | NA           |\n",
       "\n"
      ],
      "text/plain": [
       "  var             minv          maxv     meanv      medv       modv        \n",
       "1 scaledmeanslope  8.312824e-07 10.67303  0.6429639  0.3885376 NA          \n",
       "2 logmeanbathy    -7.938042e+00 -2.06480 -5.6711849 -5.7729198 NA          \n",
       "3 adpepresent                NA       NA         NA         NA [\"no\",\"yes\"]\n",
       "4 logadpedist      5.316402e+00 14.30962 11.5453116 11.6770628 NA          \n",
       "5 empepresent                NA       NA         NA         NA [\"yes\",\"no\"]\n",
       "6 logempedist      4.984499e+00 13.24255 11.3936267 11.5049717 NA          "
      ]
     },
     "metadata": {},
     "output_type": "display_data"
    }
   ],
   "source": [
    "#This is the full model, with all interactions\n",
    "fml<-paste0(\"presence~scaledmeanslope+I(scaledmeanslope^2)+logmeanbathy+adpepresent*logadpedist+empepresent*logempedist+\",\n",
    "            \"I(logempedist^2)+I(logadpedist^2)+logEMPEabund+logADPEabund*Region+Region*PredictabilityOct5Years+\",\n",
    "            \"logdistToShore+I(logdistToShore^2)+Region*logcont300dist+InCanyon+\",\n",
    "            \"Region*fastIceRatio+Region*logglacierdist\")\n",
    "#Need this description of the data\n",
    "varDesc<-getVarDesc(data=wesedf2,fml=fml)\n",
    "head(varDesc)"
   ]
  },
  {
   "cell_type": "code",
   "execution_count": 15,
   "metadata": {},
   "outputs": [
    {
     "data": {
      "text/html": [
       "<table>\n",
       "<caption>A data.frame: 6 × 6</caption>\n",
       "<thead>\n",
       "\t<tr><th></th><th scope=col>logadpedist</th><th scope=col>predicted</th><th scope=col>lcl</th><th scope=col>ucl</th><th scope=col>adpedist</th><th scope=col>probWESEpresent</th></tr>\n",
       "\t<tr><th></th><th scope=col>&lt;dbl&gt;</th><th scope=col>&lt;dbl&gt;</th><th scope=col>&lt;dbl&gt;</th><th scope=col>&lt;dbl&gt;</th><th scope=col>&lt;dbl&gt;</th><th scope=col>&lt;dbl&gt;</th></tr>\n",
       "</thead>\n",
       "<tbody>\n",
       "\t<tr><th scope=row>1</th><td>5.316402</td><td>-2.146679</td><td>-5.860038</td><td>1.266759</td><td>0.2036498</td><td>0.1046420</td></tr>\n",
       "\t<tr><th scope=row>2</th><td>5.407243</td><td>-2.061511</td><td>-5.652547</td><td>1.215523</td><td>0.2230158</td><td>0.1128944</td></tr>\n",
       "\t<tr><th scope=row>3</th><td>5.498083</td><td>-1.979088</td><td>-5.451183</td><td>1.164852</td><td>0.2442233</td><td>0.1214161</td></tr>\n",
       "\t<tr><th scope=row>4</th><td>5.588924</td><td>-1.899409</td><td>-5.255953</td><td>1.114750</td><td>0.2674476</td><td>0.1301754</td></tr>\n",
       "\t<tr><th scope=row>5</th><td>5.679764</td><td>-1.822474</td><td>-5.066862</td><td>1.065222</td><td>0.2928804</td><td>0.1391373</td></tr>\n",
       "\t<tr><th scope=row>6</th><td>5.770605</td><td>-1.748284</td><td>-4.883915</td><td>1.016271</td><td>0.3207317</td><td>0.1482638</td></tr>\n",
       "</tbody>\n",
       "</table>\n"
      ],
      "text/latex": [
       "A data.frame: 6 × 6\n",
       "\\begin{tabular}{r|llllll}\n",
       "  & logadpedist & predicted & lcl & ucl & adpedist & probWESEpresent\\\\\n",
       "  & <dbl> & <dbl> & <dbl> & <dbl> & <dbl> & <dbl>\\\\\n",
       "\\hline\n",
       "\t1 & 5.316402 & -2.146679 & -5.860038 & 1.266759 & 0.2036498 & 0.1046420\\\\\n",
       "\t2 & 5.407243 & -2.061511 & -5.652547 & 1.215523 & 0.2230158 & 0.1128944\\\\\n",
       "\t3 & 5.498083 & -1.979088 & -5.451183 & 1.164852 & 0.2442233 & 0.1214161\\\\\n",
       "\t4 & 5.588924 & -1.899409 & -5.255953 & 1.114750 & 0.2674476 & 0.1301754\\\\\n",
       "\t5 & 5.679764 & -1.822474 & -5.066862 & 1.065222 & 0.2928804 & 0.1391373\\\\\n",
       "\t6 & 5.770605 & -1.748284 & -4.883915 & 1.016271 & 0.3207317 & 0.1482638\\\\\n",
       "\\end{tabular}\n"
      ],
      "text/markdown": [
       "\n",
       "A data.frame: 6 × 6\n",
       "\n",
       "| <!--/--> | logadpedist &lt;dbl&gt; | predicted &lt;dbl&gt; | lcl &lt;dbl&gt; | ucl &lt;dbl&gt; | adpedist &lt;dbl&gt; | probWESEpresent &lt;dbl&gt; |\n",
       "|---|---|---|---|---|---|---|\n",
       "| 1 | 5.316402 | -2.146679 | -5.860038 | 1.266759 | 0.2036498 | 0.1046420 |\n",
       "| 2 | 5.407243 | -2.061511 | -5.652547 | 1.215523 | 0.2230158 | 0.1128944 |\n",
       "| 3 | 5.498083 | -1.979088 | -5.451183 | 1.164852 | 0.2442233 | 0.1214161 |\n",
       "| 4 | 5.588924 | -1.899409 | -5.255953 | 1.114750 | 0.2674476 | 0.1301754 |\n",
       "| 5 | 5.679764 | -1.822474 | -5.066862 | 1.065222 | 0.2928804 | 0.1391373 |\n",
       "| 6 | 5.770605 | -1.748284 | -4.883915 | 1.016271 | 0.3207317 | 0.1482638 |\n",
       "\n"
      ],
      "text/plain": [
       "  logadpedist predicted lcl       ucl      adpedist  probWESEpresent\n",
       "1 5.316402    -2.146679 -5.860038 1.266759 0.2036498 0.1046420      \n",
       "2 5.407243    -2.061511 -5.652547 1.215523 0.2230158 0.1128944      \n",
       "3 5.498083    -1.979088 -5.451183 1.164852 0.2442233 0.1214161      \n",
       "4 5.588924    -1.899409 -5.255953 1.114750 0.2674476 0.1301754      \n",
       "5 5.679764    -1.822474 -5.066862 1.065222 0.2928804 0.1391373      \n",
       "6 5.770605    -1.748284 -4.883915 1.016271 0.3207317 0.1482638      "
      ]
     },
     "metadata": {},
     "output_type": "display_data"
    },
    {
     "data": {
      "image/png": "iVBORw0KGgoAAAANSUhEUgAAA0gAAANICAMAAADKOT/pAAADAFBMVEUAAAABAQECAgIDAwME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\nrkJggg==",
      "text/plain": [
       "plot without title"
      ]
     },
     "metadata": {
      "image/png": {
       "height": 420,
       "width": 420
      },
      "text/plain": {
       "height": 420,
       "width": 420
      }
     },
     "output_type": "display_data"
    }
   ],
   "source": [
    "#1D partial dependence plot\n",
    "newdata<-getNewData(varDesc=varDesc,pdvars=\"logadpedist\",useMedian=FALSE)\n",
    "pddata<-getpdData(reslst=reslst,newdata=newdata,pdvars=\"logadpedist\",type=\"glm\")\n",
    "pddata$adpedist<-exp(pddata$logadpedist)/1000\n",
    "pddata$probWESEpresent<-exp(pddata$predicted)/(1+exp(pddata$predicted))\n",
    "head(pddata)\n",
    "ggplot(subset(pddata,adpedist<50),aes(x=adpedist,y=probWESEpresent)) + \n",
    "    #geom_bar(stat=\"freq\")\n",
    "    #geom_ribbon(aes(ymin=lcl,ymax=ucl),fill=\"light gray\",alpha=0.5) + \n",
    "    geom_point(size=1,color=\"black\") + labs(x=\"Dist. to ADPE colony (Km)\",y=\"Prob. WESE present\") +\n",
    "    theme_bw() + theme(axis.text=element_text(size=12), axis.title=element_text(size=14))"
   ]
  },
  {
   "cell_type": "markdown",
   "metadata": {},
   "source": [
    "### 2D plot\n",
    "Need to generate the data first..."
   ]
  },
  {
   "cell_type": "code",
   "execution_count": null,
   "metadata": {},
   "outputs": [],
   "source": [
    "newdata<-getNewData(varDesc=varDesc,pdvars=c(\"logempedist\",\"logEMPEabund\"),useMedian=FALSE)\n",
    "pddata<-getpdData(reslst=reslst,newdata=newdata,pdvars=c(\"logempedist\",\"logEMPEabund\"),type=\"glm\")\n",
    "zm<-matrix(pddata$predicted,ncol=100,byrow=F)\n",
    "persp3D(x=unique(pddata$logEMPEabund),y=unique(pddata$logempedist),z=zm,box=T,axes=T,ticktype=\"detailed\",\n",
    "        xlab=\"logEMPEabund\",ylab=\"log(EMPEdist)\",zlab=\"logit(seal_presence)\")"
   ]
  },
  {
   "cell_type": "code",
   "execution_count": null,
   "metadata": {},
   "outputs": [],
   "source": []
  }
 ],
 "metadata": {
  "kernelspec": {
   "display_name": "R",
   "language": "R",
   "name": "ir"
  },
  "language_info": {
   "codemirror_mode": "r",
   "file_extension": ".r",
   "mimetype": "text/x-r-source",
   "name": "R",
   "pygments_lexer": "r",
   "version": "3.4.4"
>>>>>>> refs/remotes/origin/Leo
  }
 },
 "nbformat": 4,
 "nbformat_minor": 2
}
