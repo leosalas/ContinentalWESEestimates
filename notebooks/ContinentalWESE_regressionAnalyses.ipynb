{
 "cells": [
  {
   "cell_type": "markdown",
   "metadata": {},
   "source": [
    "# This notebook contains the final regression analysis code"
   ]
  },
  {
   "cell_type": "markdown",
   "metadata": {},
   "source": [
    "It follows from the data generated in the notebook called \"Prepare_WESE_analysisData\""
   ]
  },
  {
   "cell_type": "code",
   "execution_count": 1,
   "metadata": {},
   "outputs": [
    {
     "name": "stderr",
     "output_type": "stream",
     "text": [
      "Loading required package: ggplot2\n",
      "\n",
      "Loading required package: plyr\n",
      "\n",
      "Loading required package: dplyr\n",
      "\n",
      "\n",
      "Attaching package: ‘dplyr’\n",
      "\n",
      "\n",
      "The following objects are masked from ‘package:plyr’:\n",
      "\n",
      "    arrange, count, desc, failwith, id, mutate, rename, summarise,\n",
      "    summarize\n",
      "\n",
      "\n",
      "The following objects are masked from ‘package:stats’:\n",
      "\n",
      "    filter, lag\n",
      "\n",
      "\n",
      "The following objects are masked from ‘package:base’:\n",
      "\n",
      "    intersect, setdiff, setequal, union\n",
      "\n",
      "\n",
      "Loading required package: jsonlite\n",
      "\n",
      "Loading required package: plot3D\n",
      "\n",
      "Loading required package: caret\n",
      "\n",
      "Loading required package: lattice\n",
      "\n",
      "Loading required package: plotROC\n",
      "\n",
      "Loading required package: lmtest\n",
      "\n",
      "Loading required package: zoo\n",
      "\n",
      "\n",
      "Attaching package: ‘zoo’\n",
      "\n",
      "\n",
      "The following objects are masked from ‘package:base’:\n",
      "\n",
      "    as.Date, as.Date.numeric\n",
      "\n",
      "\n"
     ]
    },
    {
     "data": {
      "text/html": [
       "<ol>\n",
       "\t<li>TRUE</li>\n",
       "\t<li>TRUE</li>\n",
       "\t<li>TRUE</li>\n",
       "\t<li>TRUE</li>\n",
       "\t<li>TRUE</li>\n",
       "\t<li>TRUE</li>\n",
       "\t<li>TRUE</li>\n",
       "\t<li>TRUE</li>\n",
       "</ol>\n"
      ],
      "text/latex": [
       "\\begin{enumerate}\n",
       "\\item TRUE\n",
       "\\item TRUE\n",
       "\\item TRUE\n",
       "\\item TRUE\n",
       "\\item TRUE\n",
       "\\item TRUE\n",
       "\\item TRUE\n",
       "\\item TRUE\n",
       "\\end{enumerate}\n"
      ],
      "text/markdown": [
       "1. TRUE\n",
       "2. TRUE\n",
       "3. TRUE\n",
       "4. TRUE\n",
       "5. TRUE\n",
       "6. TRUE\n",
       "7. TRUE\n",
       "8. TRUE\n",
       "\n",
       "\n"
      ],
      "text/plain": [
       "[[1]]\n",
       "[1] TRUE\n",
       "\n",
       "[[2]]\n",
       "[1] TRUE\n",
       "\n",
       "[[3]]\n",
       "[1] TRUE\n",
       "\n",
       "[[4]]\n",
       "[1] TRUE\n",
       "\n",
       "[[5]]\n",
       "[1] TRUE\n",
       "\n",
       "[[6]]\n",
       "[1] TRUE\n",
       "\n",
       "[[7]]\n",
       "[1] TRUE\n",
       "\n",
       "[[8]]\n",
       "[1] TRUE\n"
      ]
     },
     "metadata": {},
     "output_type": "display_data"
    }
   ],
   "source": [
    "## Load libraries\n",
    "libs<-c(\"ggplot2\",\"plyr\",\"dplyr\",\"jsonlite\",\"plot3D\",\"caret\",\"plotROC\",\"lmtest\")\n",
    "lapply(libs, require, character.only = TRUE)\n",
    "pathToLocalGit<-\"~/Workspace/ContinentalWESEestimates/\"\n",
    "\n",
    "## Load the source utility functions file\n",
    "source(file=paste0(pathToLocalGit,\"scripts/fitRegressionModels_functions.R\"))\n",
    "\n",
    "#load the data\n",
    "load(file=\"~/Workspace/ContinentalWESEestimates/data/WESEdata_forContinentalAnalyses.RData\")"
   ]
  },
  {
   "cell_type": "markdown",
   "metadata": {},
   "source": [
    "### Here are the covariates to use in the models.\n",
    "Use linear and quadratic forms for the numerics, and combinations between numerics and factors. Quadratics must be added to the equation as so: I(distToShore^2). Combining numerics and factors means a slope of the numeric for each level of the factor.   \n",
    "   \n",
    "Numeric:   \n",
    "  * scaledmeanslope   \n",
    "  * logmeanbathy  \n",
    "  * logglacierdist  \n",
    "  * logdistToShore  \n",
    "  * logcont300dist  \n",
    "  * logcont800dist  \n",
    "  * logdistNearestIceEdge  \n",
    "  * logfastIceWidth  \n",
    "  * logempedist  \n",
    "  * logadpedist  \n",
    "  * logADPEabund  \n",
    "  * logEMPEabund  \n",
    "  * fastIceRatio  \n",
    "  * Persistence2Years (3 levels: 0, 1, 2)  \n",
    "  * PredictabilityDec5Years (6 levels: 0, 1,...,5)\n",
    "  * Persistence3Years (4 levels: 0, 1, 2, 3)  \n",
    "  * PredictabilityOct5Years (6 levels: 0, 1,...,5)\n",
    "  \n",
    "Factors:  \n",
    "  * DecemberIcePresence (0/1)    \n",
    "  * InCanyon (0/1)  \n",
    "  * InTrough (0/1)  \n",
    "  * Region - reference: Ross Sea\n",
    "  * adpepresent (0/1)"
   ]
  },
  {
   "cell_type": "code",
   "execution_count": 2,
   "metadata": {},
   "outputs": [],
   "source": [
    "#THIS IS THE \"FULL\" MODEL as per convo July 6 US-time\n",
    "fml<-paste0(\"presence~scaledmeanslope+I(scaledmeanslope^2)+logmeanbathy+adpepresent*logadpedist+empepresent*logempedist+\",\n",
    "            \"I(logempedist^2)+I(logadpedist^2)+logEMPEabund+logADPEabund*Region+Region*PredictabilityOct5Years+\",\n",
    "            \"logdistToShore+I(logdistToShore^2)+Region*logcont300dist+InCanyon+\",\n",
    "            \"Region*fastIceRatio+Region*logglacierdist\")\n",
    "reslst<-fitModelToBootstrap(fml=fml,datalist=bootsamp,fam=\"binomial\")\n",
    "## Note: not indicating the family so it defaults to \"gaussian\" and fits a simple regression"
   ]
  },
  {
   "cell_type": "code",
   "execution_count": 3,
   "metadata": {},
   "outputs": [
    {
     "name": "stdout",
     "output_type": "stream",
     "text": [
      "                  Parameter     Value Nboot\n",
      "Df                       Df  2885.000   100\n",
      "AIC                     AIC  2956.328   100\n",
      "LogLik               LogLik -1439.164   100\n",
      "ResidDeviance ResidDeviance  2878.328   100\n"
     ]
    }
   ],
   "source": [
    "gofres<-summarizeResults(fitobj=reslst,what=\"gof\")\n",
    "print(gofres)"
   ]
  },
  {
   "cell_type": "markdown",
   "metadata": {},
   "source": [
    "Let's examine the results, starting with a summary of the coefficients. For this we use the function \"summarizeResults\". The function has two arguments: the fitobj is the object resulting from using the fitModelToBootstrap function above (in our example, fitobj is reslst), and the \"what\" parameter. This parameter has three possible values: \"coefs\", \"gof\", or \"resids\". The latter is the vector of average residuals. Let's look at the coefficients and the goodness-of-fit results."
   ]
  },
  {
   "cell_type": "code",
   "execution_count": 4,
   "metadata": {},
   "outputs": [
    {
     "name": "stdout",
     "output_type": "stream",
     "text": [
      "                                Parameter Coefficient StError z_value Prob_t\n",
      "1                             (Intercept)      91.625  14.321   6.386  0.000\n",
      "2                         scaledmeanslope       0.337   0.154   2.199  0.071\n",
      "3                    I(scaledmeanslope^2)      -0.079   0.035  -2.278  0.068\n",
      "4                            logmeanbathy       0.261   0.083   3.119  0.013\n",
      "5                           adpepresentno     -17.469   4.071  -4.291  0.001\n",
      "6                             logadpedist       2.721   0.973   2.806  0.020\n",
      "7                           empepresentno      11.751   3.637   3.174  0.016\n",
      "8                             logempedist     -12.317   1.571  -7.804  0.000\n",
      "9                        I(logempedist^2)       0.559   0.075   7.463  0.000\n",
      "10                       I(logadpedist^2)      -0.166   0.053  -3.156  0.009\n",
      "11                           logEMPEabund      -0.140   0.047  -2.956  0.013\n",
      "12                           logADPEabund      -0.024   0.047  -0.503  0.522\n",
      "13                          RegionA-B-WAP     -44.960  10.770  -4.176  0.000\n",
      "14                             RegionEAnt     -38.456  10.593  -3.629  0.001\n",
      "15                         RegionWedd_Sea     -44.122  10.695  -4.130  0.000\n",
      "16                PredictabilityOct5Years      -0.289   0.081  -3.562  0.003\n",
      "17                         logdistToShore       3.447   0.510   6.773  0.000\n",
      "18                    I(logdistToShore^2)      -0.257   0.032  -7.909  0.000\n",
      "19                         logcont300dist      -2.338   0.726  -3.218  0.002\n",
      "20                               InCanyon      -2.068   0.674  -3.069  0.006\n",
      "21                           fastIceRatio       0.890   0.635   1.397  0.229\n",
      "22                         logglacierdist      -1.145   0.245  -4.645  0.000\n",
      "23              adpepresentno:logadpedist       1.654   0.371   4.453  0.000\n",
      "24              empepresentno:logempedist      -1.071   0.305  -3.453  0.008\n",
      "25             logADPEabund:RegionA-B-WAP      -0.162   0.089  -1.817  0.106\n",
      "26                logADPEabund:RegionEAnt       0.095   0.040   2.416  0.052\n",
      "27            logADPEabund:RegionWedd_Sea      -0.021   0.068  -0.328  0.541\n",
      "28  RegionA-B-WAP:PredictabilityOct5Years      -0.208   0.132  -1.581  0.180\n",
      "29     RegionEAnt:PredictabilityOct5Years       0.206   0.086   2.404  0.045\n",
      "30 RegionWedd_Sea:PredictabilityOct5Years      -0.105   0.111  -0.952  0.394\n",
      "31           RegionA-B-WAP:logcont300dist       2.256   0.728   3.094  0.002\n",
      "32              RegionEAnt:logcont300dist       2.176   0.728   2.987  0.003\n",
      "33          RegionWedd_Sea:logcont300dist       2.326   0.731   3.181  0.002\n",
      "34             RegionA-B-WAP:fastIceRatio      -2.029   0.787  -2.581  0.040\n",
      "35                RegionEAnt:fastIceRatio      -0.526   0.688  -0.758  0.440\n",
      "36            RegionWedd_Sea:fastIceRatio      -1.442   0.738  -1.951  0.107\n",
      "37           RegionA-B-WAP:logglacierdist       1.492   0.317   4.696  0.000\n",
      "38              RegionEAnt:logglacierdist       0.854   0.254   3.342  0.013\n",
      "39          RegionWedd_Sea:logglacierdist       1.244   0.286   4.340  0.001\n",
      "   Nboot\n",
      "1    100\n",
      "2    100\n",
      "3    100\n",
      "4    100\n",
      "5    100\n",
      "6    100\n",
      "7    100\n",
      "8    100\n",
      "9    100\n",
      "10   100\n",
      "11   100\n",
      "12   100\n",
      "13   100\n",
      "14   100\n",
      "15   100\n",
      "16   100\n",
      "17   100\n",
      "18   100\n",
      "19   100\n",
      "20   100\n",
      "21   100\n",
      "22   100\n",
      "23   100\n",
      "24   100\n",
      "25   100\n",
      "26   100\n",
      "27   100\n",
      "28   100\n",
      "29   100\n",
      "30   100\n",
      "31   100\n",
      "32   100\n",
      "33   100\n",
      "34   100\n",
      "35   100\n",
      "36   100\n",
      "37   100\n",
      "38   100\n",
      "39   100\n"
     ]
    }
   ],
   "source": [
    "coefres<-summarizeResults(fitobj=reslst,what=\"coefs\")\n",
    "row.names(coefres)<-NULL\n",
    "print(coefres)"
   ]
  },
  {
   "cell_type": "markdown",
   "metadata": {},
   "source": [
    "## Evaluating goodness of fit\n",
    "Here we calculate the confusion matrix statistics from all the bootstrap results combined, and plot the ROC curve with all the bootstrap results combined"
   ]
  },
  {
   "cell_type": "code",
   "execution_count": 5,
   "metadata": {},
   "outputs": [
    {
     "data": {
      "text/html": [
       "<table>\n",
       "<caption>A data.frame: 6 × 4</caption>\n",
       "<thead>\n",
       "\t<tr><th></th><th scope=col>bootstrap</th><th scope=col>predicted</th><th scope=col>residual</th><th scope=col>observed</th></tr>\n",
       "\t<tr><th></th><th scope=col>&lt;int&gt;</th><th scope=col>&lt;dbl&gt;</th><th scope=col>&lt;dbl&gt;</th><th scope=col>&lt;dbl&gt;</th></tr>\n",
       "</thead>\n",
       "<tbody>\n",
       "\t<tr><th scope=row>1</th><td>1</td><td>0.1213897</td><td>-1.138161</td><td>0</td></tr>\n",
       "\t<tr><th scope=row>2</th><td>1</td><td>0.2304915</td><td>-1.299531</td><td>0</td></tr>\n",
       "\t<tr><th scope=row>3</th><td>1</td><td>0.2461203</td><td>-1.326472</td><td>0</td></tr>\n",
       "\t<tr><th scope=row>4</th><td>1</td><td>0.4522252</td><td>-1.825568</td><td>0</td></tr>\n",
       "\t<tr><th scope=row>5</th><td>1</td><td>0.2934868</td><td>-1.415402</td><td>0</td></tr>\n",
       "\t<tr><th scope=row>6</th><td>1</td><td>0.1025082</td><td>-1.114216</td><td>0</td></tr>\n",
       "</tbody>\n",
       "</table>\n"
      ],
      "text/latex": [
       "A data.frame: 6 × 4\n",
       "\\begin{tabular}{r|llll}\n",
       "  & bootstrap & predicted & residual & observed\\\\\n",
       "  & <int> & <dbl> & <dbl> & <dbl>\\\\\n",
       "\\hline\n",
       "\t1 & 1 & 0.1213897 & -1.138161 & 0\\\\\n",
       "\t2 & 1 & 0.2304915 & -1.299531 & 0\\\\\n",
       "\t3 & 1 & 0.2461203 & -1.326472 & 0\\\\\n",
       "\t4 & 1 & 0.4522252 & -1.825568 & 0\\\\\n",
       "\t5 & 1 & 0.2934868 & -1.415402 & 0\\\\\n",
       "\t6 & 1 & 0.1025082 & -1.114216 & 0\\\\\n",
       "\\end{tabular}\n"
      ],
      "text/markdown": [
       "\n",
       "A data.frame: 6 × 4\n",
       "\n",
       "| <!--/--> | bootstrap &lt;int&gt; | predicted &lt;dbl&gt; | residual &lt;dbl&gt; | observed &lt;dbl&gt; |\n",
       "|---|---|---|---|---|\n",
       "| 1 | 1 | 0.1213897 | -1.138161 | 0 |\n",
       "| 2 | 1 | 0.2304915 | -1.299531 | 0 |\n",
       "| 3 | 1 | 0.2461203 | -1.326472 | 0 |\n",
       "| 4 | 1 | 0.4522252 | -1.825568 | 0 |\n",
       "| 5 | 1 | 0.2934868 | -1.415402 | 0 |\n",
       "| 6 | 1 | 0.1025082 | -1.114216 | 0 |\n",
       "\n"
      ],
      "text/plain": [
       "  bootstrap predicted residual  observed\n",
       "1 1         0.1213897 -1.138161 0       \n",
       "2 1         0.2304915 -1.299531 0       \n",
       "3 1         0.2461203 -1.326472 0       \n",
       "4 1         0.4522252 -1.825568 0       \n",
       "5 1         0.2934868 -1.415402 0       \n",
       "6 1         0.1025082 -1.114216 0       "
      ]
     },
     "metadata": {},
     "output_type": "display_data"
    },
    {
     "data": {
      "text/plain": [
       "Confusion Matrix and Statistics\n",
       "\n",
       "          Reference\n",
       "Prediction      A      P\n",
       "         A 111745  36666\n",
       "         P  34455 109534\n",
       "                                          \n",
       "               Accuracy : 0.7568          \n",
       "                 95% CI : (0.7552, 0.7583)\n",
       "    No Information Rate : 0.5             \n",
       "    P-Value [Acc > NIR] : < 2.2e-16       \n",
       "                                          \n",
       "                  Kappa : 0.5135          \n",
       "                                          \n",
       " Mcnemar's Test P-Value : < 2.2e-16       \n",
       "                                          \n",
       "            Sensitivity : 0.7492          \n",
       "            Specificity : 0.7643          \n",
       "         Pos Pred Value : 0.7607          \n",
       "         Neg Pred Value : 0.7529          \n",
       "             Prevalence : 0.5000          \n",
       "         Detection Rate : 0.3746          \n",
       "   Detection Prevalence : 0.4924          \n",
       "      Balanced Accuracy : 0.7568          \n",
       "                                          \n",
       "       'Positive' Class : P               \n",
       "                                          "
      ]
     },
     "metadata": {},
     "output_type": "display_data"
    },
    {
     "data": {
      "image/png": "[encoded data removed]",
      "text/plain": [
       "plot without title"
      ]
     },
     "metadata": {
      "image/png": {
       "height": 420,
       "width": 420
      },
      "text/plain": {
       "height": 420,
       "width": 420
      }
     },
     "output_type": "display_data"
    }
   ],
   "source": [
    "rdf<-summarizeResults(fitobj=reslst,what=\"residplot\")\n",
    "head(rdf)\n",
    "cmdf<-rdf[,c(\"predicted\",\"observed\")]\n",
    "cmdf$Predicted<-ifelse(cmdf$predicted>=0.5,\"P\",\"A\")\n",
    "cmdf$Observed<-ifelse(cmdf$observed==1,\"P\",\"A\")\n",
    "confusionMatrix(data=as.factor(cmdf$Predicted),reference=as.factor(cmdf$Observed),positive=\"P\")\n",
    "ggplot(rdf, aes(m = predicted, d = observed)) + geom_roc() + geom_rocci()"
   ]
  },
  {
   "cell_type": "markdown",
   "metadata": {},
   "source": [
    "The curve looks good, and accuracy is 76%."
   ]
  },
  {
   "cell_type": "code",
   "execution_count": 6,
   "metadata": {},
   "outputs": [],
   "source": [
    "#THIS IS THE SECOND MODEL reslst2 WITH NO OCT5YRS AT ALL\n",
    "fml<-paste0(\"presence~scaledmeanslope+I(scaledmeanslope^2)+logmeanbathy+adpepresent*logadpedist+empepresent*logempedist+\",\n",
    "            \"I(logempedist^2)+I(logadpedist^2)+logEMPEabund+logADPEabund*Region+\",\n",
    "            \"logdistToShore+I(logdistToShore^2)+Region*logcont300dist+InCanyon+\",\n",
    "            \"Region*fastIceRatio+Region*logglacierdist\")\n",
    "reslst2<-fitModelToBootstrap(fml=fml,datalist=bootsamp,fam=\"binomial\")\n",
    "gofres2<-summarizeResults(fitobj=reslst2,what=\"gof\")"
   ]
  },
  {
   "cell_type": "code",
   "execution_count": 7,
   "metadata": {
    "scrolled": true
   },
   "outputs": [
    {
     "name": "stdout",
     "output_type": "stream",
     "text": [
      "                       Parameter Coefficient StError z_value Prob_t Nboot\n",
      "1                    (Intercept)      89.842  13.179   6.802  0.000   100\n",
      "2                scaledmeanslope       0.469   0.149   3.157  0.010   100\n",
      "3           I(scaledmeanslope^2)      -0.092   0.034  -2.719  0.028   100\n",
      "4                   logmeanbathy       0.306   0.081   3.767  0.002   100\n",
      "5                  adpepresentno     -14.616   3.959  -3.693  0.004   100\n",
      "6                    logadpedist       2.256   0.953   2.377  0.049   100\n",
      "7                  empepresentno      12.411   3.540   3.454  0.009   100\n",
      "8                    logempedist     -12.471   1.535  -8.089  0.000   100\n",
      "9               I(logempedist^2)       0.570   0.073   7.796  0.000   100\n",
      "10              I(logadpedist^2)      -0.140   0.052  -2.715  0.026   100\n",
      "11                  logEMPEabund      -0.097   0.045  -2.130  0.075   100\n",
      "12                  logADPEabund       0.001   0.046   0.021  0.562   100\n",
      "13                 RegionA-B-WAP     -41.942   9.473  -4.426  0.000   100\n",
      "14                    RegionEAnt     -35.072   9.302  -3.765  0.000   100\n",
      "15                RegionWedd_Sea     -42.921   9.409  -4.563  0.000   100\n",
      "16                logdistToShore       3.629   0.498   7.295  0.000   100\n",
      "17           I(logdistToShore^2)      -0.271   0.032  -8.572  0.000   100\n",
      "18                logcont300dist      -2.086   0.627  -3.321  0.001   100\n",
      "19                      InCanyon      -2.128   0.678  -3.141  0.005   100\n",
      "20                  fastIceRatio       0.193   0.604   0.317  0.570   100\n",
      "21                logglacierdist      -1.136   0.242  -4.680  0.001   100\n",
      "22     adpepresentno:logadpedist       1.400   0.361   3.875  0.002   100\n",
      "23     empepresentno:logempedist      -1.107   0.297  -3.672  0.005   100\n",
      "24    logADPEabund:RegionA-B-WAP      -0.113   0.086  -1.325  0.243   100\n",
      "25       logADPEabund:RegionEAnt       0.085   0.038   2.230  0.075   100\n",
      "26   logADPEabund:RegionWedd_Sea      -0.015   0.066  -0.246  0.530   100\n",
      "27  RegionA-B-WAP:logcont300dist       1.914   0.630   3.035  0.003   100\n",
      "28     RegionEAnt:logcont300dist       1.918   0.629   3.044  0.003   100\n",
      "29 RegionWedd_Sea:logcont300dist       2.193   0.632   3.466  0.001   100\n",
      "30    RegionA-B-WAP:fastIceRatio      -2.157   0.736  -2.930  0.018   100\n",
      "31       RegionEAnt:fastIceRatio      -0.345   0.647  -0.529  0.530   100\n",
      "32   RegionWedd_Sea:fastIceRatio      -1.128   0.707  -1.595  0.190   100\n",
      "33  RegionA-B-WAP:logglacierdist       1.606   0.305   5.258  0.000   100\n",
      "34     RegionEAnt:logglacierdist       0.870   0.251   3.448  0.014   100\n",
      "35 RegionWedd_Sea:logglacierdist       1.313   0.280   4.669  0.000   100\n"
     ]
    }
   ],
   "source": [
    "#Example printing coefficients - do where needed\n",
    "coefres<-summarizeResults(fitobj=reslst2,what=\"coefs\")\n",
    "row.names(coefres)<-NULL\n",
    "print(coefres)"
   ]
  },
  {
   "cell_type": "code",
   "execution_count": 8,
   "metadata": {},
   "outputs": [],
   "source": [
    "#THIS IS THE THIRD MODEL restlst3 WITH NO REGION-OCTOBER5YRS INTERACTION\n",
    "fml<-paste0(\"presence~scaledmeanslope+I(scaledmeanslope^2)+logmeanbathy+adpepresent*logadpedist+empepresent*logempedist+\",\n",
    "            \"I(logempedist^2)+I(logadpedist^2)+logEMPEabund+logADPEabund*Region+PredictabilityOct5Years+\",\n",
    "            \"logdistToShore+I(logdistToShore^2)+Region*logcont300dist+InCanyon+\",\n",
    "            \"Region*fastIceRatio+Region*logglacierdist\")\n",
    "reslst3<-fitModelToBootstrap(fml=fml,datalist=bootsamp,fam=\"binomial\")\n",
    "gofres3<-summarizeResults(fitobj=reslst3,what=\"gof\")"
   ]
  },
  {
   "cell_type": "code",
   "execution_count": null,
   "metadata": {},
   "outputs": [],
   "source": [
    "#THIS IS THE FOURTH MODEL restlst4 NO 300CONTDIST AT ALL\n",
    "fml<-paste0(\"presence~scaledmeanslope+I(scaledmeanslope^2)+logmeanbathy+adpepresent*logadpedist+empepresent*logempedist+\",\n",
    "            \"I(logempedist^2)+I(logadpedist^2)+logEMPEabund+logADPEabund*Region+Region*PredictabilityOct5Years+\",\n",
    "            \"logdistToShore+I(logdistToShore^2)+InCanyon+\",\n",
    "            \"Region*fastIceRatio+Region*logglacierdist\")\n",
    "reslst4<-fitModelToBootstrap(fml=fml,datalist=bootsamp,fam=\"binomial\")\n",
    "gofres4<-summarizeResults(fitobj=reslst4,what=\"gof\")"
   ]
  },
  {
   "cell_type": "code",
   "execution_count": null,
   "metadata": {},
   "outputs": [],
   "source": [
    "#THIS IS THE FIFTH MODEL restlst5 NO 300CONTDIST-REGION INTERACTION\n",
    "fml<-paste0(\"presence~scaledmeanslope+I(scaledmeanslope^2)+logmeanbathy+adpepresent*logadpedist+empepresent*logempedist+\",\n",
    "            \"I(logempedist^2)+I(logadpedist^2)+logEMPEabund+logADPEabund*Region+Region*PredictabilityOct5Years+\",\n",
    "            \"logdistToShore+I(logdistToShore^2)+logcont300dist+InCanyon+\",\n",
    "            \"Region*fastIceRatio+Region*logglacierdist\")\n",
    "reslst5<-fitModelToBootstrap(fml=fml,datalist=bootsamp,fam=\"binomial\")\n",
    "gofres5<-summarizeResults(fitobj=reslst5,what=\"gof\")\n",
    "## Note: not indicating the family so it defaults to \"gaussian\" and fits a simple regression"
   ]
  },
  {
   "cell_type": "code",
   "execution_count": null,
   "metadata": {},
   "outputs": [],
   "source": [
    "#THIS IS THE SIXTH MODEL restlst6 FAST ICE RATIO AT ALL\n",
    "fml<-paste0(\"presence~scaledmeanslope+I(scaledmeanslope^2)+logmeanbathy+adpepresent*logadpedist+empepresent*logempedist+\",\n",
    "            \"I(logempedist^2)+I(logadpedist^2)+logEMPEabund+logADPEabund*Region+Region*PredictabilityOct5Years+\",\n",
    "            \"logdistToShore+I(logdistToShore^2)+Region*logcont300dist+InCanyon+\",\n",
    "            \"Region*logglacierdist\")\n",
    "reslst6<-fitModelToBootstrap(fml=fml,datalist=bootsamp,fam=\"binomial\")\n",
    "gofres6<-summarizeResults(fitobj=reslst6,what=\"gof\")"
   ]
  },
  {
   "cell_type": "code",
   "execution_count": null,
   "metadata": {},
   "outputs": [],
   "source": [
    "#THIS IS SIXTH MODEL\n",
    "gofres<-summarizeResults(fitobj=reslst6,what=\"gof\")\n",
    "print(gofres)"
   ]
  },
  {
   "cell_type": "code",
   "execution_count": null,
   "metadata": {
    "scrolled": true
   },
   "outputs": [],
   "source": [
    "#NO FAST ICE RATIO AT ALL\n",
    "coefres<-summarizeResults(fitobj=reslst6,what=\"coefs\")\n",
    "row.names(coefres)<-NULL\n",
    "print(coefres)"
   ]
  },
  {
   "cell_type": "code",
   "execution_count": null,
   "metadata": {},
   "outputs": [],
   "source": [
    "#THIS IS THE SEVENTH MODEL restlst7 NO REGION-FAST ICE RATIO INTERACTION\n",
    "fml<-paste0(\"presence~scaledmeanslope+I(scaledmeanslope^2)+logmeanbathy+adpepresent*logadpedist+empepresent*logempedist+\",\n",
    "            \"I(logempedist^2)+I(logadpedist^2)+logEMPEabund+logADPEabund*Region+Region*PredictabilityOct5Years+\",\n",
    "            \"logdistToShore+I(logdistToShore^2)+Region*logcont300dist+InCanyon+\",\n",
    "            \"fastIceRatio+Region*logglacierdist\")\n",
    "reslst7<-fitModelToBootstrap(fml=fml,datalist=bootsamp,fam=\"binomial\")\n",
    "gofres7<-summarizeResults(fitobj=reslst7,what=\"gof\")"
   ]
  },
  {
   "cell_type": "code",
   "execution_count": null,
   "metadata": {},
   "outputs": [],
   "source": [
    "#THIS IS THE EIGHTH MODEL restlst8 NO GLACIERDIST AT ALL\n",
    "fml<-paste0(\"presence~scaledmeanslope+I(scaledmeanslope^2)+logmeanbathy+adpepresent*logadpedist+empepresent*logempedist+\",\n",
    "            \"I(logempedist^2)+I(logadpedist^2)+logEMPEabund+logADPEabund*Region+Region*PredictabilityOct5Years+\",\n",
    "            \"logdistToShore+I(logdistToShore^2)+Region*logcont300dist+InCanyon+\",\n",
    "            \"Region*fastIceRatio\")\n",
    "reslst8<-fitModelToBootstrap(fml=fml,datalist=bootsamp,fam=\"binomial\")\n",
    "gofres8<-summarizeResults(fitobj=reslst8,what=\"gof\")"
   ]
  },
  {
   "cell_type": "code",
   "execution_count": null,
   "metadata": {},
   "outputs": [],
   "source": [
    "#THIS IS THE NINTH MODEL restlst9, NO GLACIERDIST-REGION INTERACTION\n",
    "fml<-paste0(\"presence~scaledmeanslope+I(scaledmeanslope^2)+logmeanbathy+adpepresent*logadpedist+empepresent*logempedist+\",\n",
    "            \"I(logempedist^2)+I(logadpedist^2)+logEMPEabund+logADPEabund*Region+Region*PredictabilityOct5Years+\",\n",
    "            \"logdistToShore+I(logdistToShore^2)+Region*logcont300dist+InCanyon+\",\n",
    "            \"Region*fastIceRatio+logglacierdist\")\n",
    "reslst9<-fitModelToBootstrap(fml=fml,datalist=bootsamp,fam=\"binomial\")\n",
    "gofres9<-summarizeResults(fitobj=reslst9,what=\"gof\")"
   ]
  },
  {
   "cell_type": "code",
   "execution_count": null,
   "metadata": {},
   "outputs": [],
   "source": [
    "#THIS IS THE TENTH MODEL restlst10, NO ADPEABUNDANCE AT ALL\n",
    "fml<-paste0(\"presence~scaledmeanslope+I(scaledmeanslope^2)+logmeanbathy+adpepresent*logadpedist+empepresent*logempedist+\",\n",
    "            \"I(logempedist^2)+I(logadpedist^2)+logEMPEabund+Region*PredictabilityOct5Years+\",\n",
    "            \"logdistToShore+I(logdistToShore^2)+Region*logcont300dist+InCanyon+\",\n",
    "            \"Region*fastIceRatio+Region*logglacierdist\")\n",
    "reslst10<-fitModelToBootstrap(fml=fml,datalist=bootsamp,fam=\"binomial\")\n",
    "gofres10<-summarizeResults(fitobj=reslst10,what=\"gof\")"
   ]
  },
  {
   "cell_type": "code",
   "execution_count": null,
   "metadata": {},
   "outputs": [],
   "source": [
    "#THIS IS THE ELEVENTH MODEL restlst11, NO ADPEABUNDANCE-REGION\n",
    "fml<-paste0(\"presence~scaledmeanslope+I(scaledmeanslope^2)+logmeanbathy+adpepresent*logadpedist+empepresent*logempedist+\",\n",
    "            \"I(logempedist^2)+I(logadpedist^2)+logEMPEabund+logADPEabund+Region*PredictabilityOct5Years+\",\n",
    "            \"logdistToShore+I(logdistToShore^2)+Region*logcont300dist+InCanyon+\",\n",
    "            \"Region*fastIceRatio+Region*logglacierdist\")\n",
    "reslst11<-fitModelToBootstrap(fml=fml,datalist=bootsamp,fam=\"binomial\")\n",
    "gofres11<-summarizeResults(fitobj=reslst11,what=\"gof\")"
   ]
  },
  {
   "cell_type": "code",
   "execution_count": null,
   "metadata": {},
   "outputs": [],
   "source": [
    "#View the GOF results\n",
    "goflst<-list(Full=gofres,No_Oct5Yrs=gofres2,Region_Oct5Yrs=gofres3,No_Dist300m=gofres4,\n",
    "             Region_Dist300=gofres5,No_FastIceRatio=gofres6,Region_FastIceRatio=gofres7,No_GlacierDist=gofres8,\n",
    "             Region_GlacierDist=gofres9,NoADPEabund=gofres10,Region_ADPEabund=gofres11)\n",
    "modnames<-names(goflst)\n",
    "ldply(1:NROW(goflst),function(gg,goflst,modnames){\n",
    "    gofv<-goflst[[gg]]\n",
    "    mnm<-modnames[gg]\n",
    "    tdf<-as.data.frame(t(gofv));tdf<-tdf[2,]\n",
    "    tdf$model<-paste(\"Model\",gg)\n",
    "    tdf$modelName<-mnm\n",
    "    return(tdf)\n",
    "},goflst=goflst,modnames=modnames)"
   ]
  },
  {
   "cell_type": "code",
   "execution_count": null,
   "metadata": {},
   "outputs": [],
   "source": [
    "#Using the above example models 2-6 for now - but Michelle will change/add more to these...\n",
    "lrtdf_12<-getLRtest(reslst=reslst,contr=reslst2)\n",
    "lrtdf_13<-getLRtest(reslst=reslst,contr=reslst3)\n",
    "lrtdf_14<-getLRtest(reslst=reslst,contr=reslst4)\n",
    "lrtdf_15<-getLRtest(reslst=reslst,contr=reslst5)\n",
    "lrtdf_16<-getLRtest(reslst=reslst,contr=reslst6)\n",
    "lrtdf_17<-getLRtest(reslst=reslst,contr=reslst7)\n",
    "lrtdf_18<-getLRtest(reslst=reslst,contr=reslst8)\n",
    "lrtdf_19<-getLRtest(reslst=reslst,contr=reslst9)\n",
    "lrtdf_20<-getLRtest(reslst=reslst,contr=reslst10)\n",
    "lrtdf_21<-getLRtest(reslst=reslst,contr=reslst11)\n",
    "#... add the rest of the model contrasts above - should total 10 models (+ full), so 10 lrtdf_1#\n",
    "#then...\n",
    "lrtlst<-list(No_Oct5Yrs=lrtdf_12,Region_Oct5Yrs=lrtdf_13,No_Dist300m=lrtdf_14,\n",
    "             Region_Dist300=lrtdf_15,No_FastIceRatio=lrtdf_16,Region_FastIceRatio=lrtdf_17,No_GlacierDist=lrtdf_18,\n",
    "             Region_GlacierDist=lrtdf_19,NoADPEabund=lrtdf_20,Region_ADPEabund=lrtdf_21)\n",
    "nlrtm<-names(lrtlst)\n",
    "\n",
    "ldply(1:NROW(lrtlst),function(tt,lrtlst,nlrtm){\n",
    "    lrtm<-lrtlst[[tt]];lrtn<-nlrtm[tt]\n",
    "    lrtt<-round(as.numeric(summary(lrtm$PrChisq)),4)\n",
    "    pctsig<-sum(lrtm$PrChisq<0.05)\n",
    "    tdf<-data.frame(Model=lrtn,Mean_prChisq=lrtt[4],Median_prChisq=lrtt[3],Max_prChisq=lrtt[6],PctSig=pctsig)\n",
    "    return(tdf)\n",
    "},lrtlst=lrtlst,nlrtm=nlrtm)\n"
   ]
  },
  {
   "cell_type": "markdown",
   "metadata": {},
   "source": [
    "Above we report the mean and maximum value of the prb. Chisq of the effect. The probabilities are indeed a distribution of values, as shown below."
   ]
  },
  {
   "cell_type": "code",
   "execution_count": null,
   "metadata": {},
   "outputs": [],
   "source": [
    "## Example to show the distribution of values\n",
    "ggplot(data=lrtdf_16,aes(x=PrChisq)) + geom_histogram() "
   ]
  },
  {
   "cell_type": "code",
   "execution_count": null,
   "metadata": {},
   "outputs": [],
   "source": [
    "sum(lrtdf_17$PrChisq<0.05)"
   ]
  },
  {
   "cell_type": "markdown",
   "metadata": {},
   "source": [
    "## Partial dependence plots"
   ]
  },
  {
   "cell_type": "code",
   "execution_count": 14,
   "metadata": {},
   "outputs": [
    {
     "data": {
      "text/html": [
       "<table>\n",
       "<caption>A data.frame: 6 × 6</caption>\n",
       "<thead>\n",
       "\t<tr><th></th><th scope=col>var</th><th scope=col>minv</th><th scope=col>maxv</th><th scope=col>meanv</th><th scope=col>medv</th><th scope=col>modv</th></tr>\n",
       "\t<tr><th></th><th scope=col>&lt;fct&gt;</th><th scope=col>&lt;dbl&gt;</th><th scope=col>&lt;dbl&gt;</th><th scope=col>&lt;dbl&gt;</th><th scope=col>&lt;dbl&gt;</th><th scope=col>&lt;fct&gt;</th></tr>\n",
       "</thead>\n",
       "<tbody>\n",
       "\t<tr><th scope=row>1</th><td>scaledmeanslope</td><td> 8.312824e-07</td><td>10.67303</td><td> 0.6429639</td><td> 0.3885376</td><td>NA          </td></tr>\n",
       "\t<tr><th scope=row>2</th><td>logmeanbathy   </td><td>-7.938042e+00</td><td>-2.06480</td><td>-5.6711849</td><td>-5.7729198</td><td>NA          </td></tr>\n",
       "\t<tr><th scope=row>3</th><td>adpepresent    </td><td>           NA</td><td>      NA</td><td>        NA</td><td>        NA</td><td>[\"no\",\"yes\"]</td></tr>\n",
       "\t<tr><th scope=row>4</th><td>logadpedist    </td><td> 5.316402e+00</td><td>14.30962</td><td>11.5453116</td><td>11.6770628</td><td>NA          </td></tr>\n",
       "\t<tr><th scope=row>5</th><td>empepresent    </td><td>           NA</td><td>      NA</td><td>        NA</td><td>        NA</td><td>[\"yes\",\"no\"]</td></tr>\n",
       "\t<tr><th scope=row>6</th><td>logempedist    </td><td> 4.984499e+00</td><td>13.24255</td><td>11.3936267</td><td>11.5049717</td><td>NA          </td></tr>\n",
       "</tbody>\n",
       "</table>\n"
      ],
      "text/latex": [
       "A data.frame: 6 × 6\n",
       "\\begin{tabular}{r|llllll}\n",
       "  & var & minv & maxv & meanv & medv & modv\\\\\n",
       "  & <fct> & <dbl> & <dbl> & <dbl> & <dbl> & <fct>\\\\\n",
       "\\hline\n",
       "\t1 & scaledmeanslope &  8.312824e-07 & 10.67303 &  0.6429639 &  0.3885376 & NA          \\\\\n",
       "\t2 & logmeanbathy    & -7.938042e+00 & -2.06480 & -5.6711849 & -5.7729198 & NA          \\\\\n",
       "\t3 & adpepresent     &            NA &       NA &         NA &         NA & {[}\"no\",\"yes\"{]}\\\\\n",
       "\t4 & logadpedist     &  5.316402e+00 & 14.30962 & 11.5453116 & 11.6770628 & NA          \\\\\n",
       "\t5 & empepresent     &            NA &       NA &         NA &         NA & {[}\"yes\",\"no\"{]}\\\\\n",
       "\t6 & logempedist     &  4.984499e+00 & 13.24255 & 11.3936267 & 11.5049717 & NA          \\\\\n",
       "\\end{tabular}\n"
      ],
      "text/markdown": [
       "\n",
       "A data.frame: 6 × 6\n",
       "\n",
       "| <!--/--> | var &lt;fct&gt; | minv &lt;dbl&gt; | maxv &lt;dbl&gt; | meanv &lt;dbl&gt; | medv &lt;dbl&gt; | modv &lt;fct&gt; |\n",
       "|---|---|---|---|---|---|---|\n",
       "| 1 | scaledmeanslope |  8.312824e-07 | 10.67303 |  0.6429639 |  0.3885376 | NA           |\n",
       "| 2 | logmeanbathy    | -7.938042e+00 | -2.06480 | -5.6711849 | -5.7729198 | NA           |\n",
       "| 3 | adpepresent     |            NA |       NA |         NA |         NA | [\"no\",\"yes\"] |\n",
       "| 4 | logadpedist     |  5.316402e+00 | 14.30962 | 11.5453116 | 11.6770628 | NA           |\n",
       "| 5 | empepresent     |            NA |       NA |         NA |         NA | [\"yes\",\"no\"] |\n",
       "| 6 | logempedist     |  4.984499e+00 | 13.24255 | 11.3936267 | 11.5049717 | NA           |\n",
       "\n"
      ],
      "text/plain": [
       "  var             minv          maxv     meanv      medv       modv        \n",
       "1 scaledmeanslope  8.312824e-07 10.67303  0.6429639  0.3885376 NA          \n",
       "2 logmeanbathy    -7.938042e+00 -2.06480 -5.6711849 -5.7729198 NA          \n",
       "3 adpepresent                NA       NA         NA         NA [\"no\",\"yes\"]\n",
       "4 logadpedist      5.316402e+00 14.30962 11.5453116 11.6770628 NA          \n",
       "5 empepresent                NA       NA         NA         NA [\"yes\",\"no\"]\n",
       "6 logempedist      4.984499e+00 13.24255 11.3936267 11.5049717 NA          "
      ]
     },
     "metadata": {},
     "output_type": "display_data"
    }
   ],
   "source": [
    "#This is the full model, with all interactions\n",
    "fml<-paste0(\"presence~scaledmeanslope+I(scaledmeanslope^2)+logmeanbathy+adpepresent*logadpedist+empepresent*logempedist+\",\n",
    "            \"I(logempedist^2)+I(logadpedist^2)+logEMPEabund+logADPEabund*Region+Region*PredictabilityOct5Years+\",\n",
    "            \"logdistToShore+I(logdistToShore^2)+Region*logcont300dist+InCanyon+\",\n",
    "            \"Region*fastIceRatio+Region*logglacierdist\")\n",
    "#Need this description of the data\n",
    "varDesc<-getVarDesc(data=wesedf2,fml=fml)\n",
    "head(varDesc)"
   ]
  },
  {
   "cell_type": "code",
   "execution_count": 15,
   "metadata": {},
   "outputs": [
    {
     "data": {
      "text/html": [
       "<table>\n",
       "<caption>A data.frame: 6 × 6</caption>\n",
       "<thead>\n",
       "\t<tr><th></th><th scope=col>logadpedist</th><th scope=col>predicted</th><th scope=col>lcl</th><th scope=col>ucl</th><th scope=col>adpedist</th><th scope=col>probWESEpresent</th></tr>\n",
       "\t<tr><th></th><th scope=col>&lt;dbl&gt;</th><th scope=col>&lt;dbl&gt;</th><th scope=col>&lt;dbl&gt;</th><th scope=col>&lt;dbl&gt;</th><th scope=col>&lt;dbl&gt;</th><th scope=col>&lt;dbl&gt;</th></tr>\n",
       "</thead>\n",
       "<tbody>\n",
       "\t<tr><th scope=row>1</th><td>5.316402</td><td>-2.146679</td><td>-5.860038</td><td>1.266759</td><td>0.2036498</td><td>0.1046420</td></tr>\n",
       "\t<tr><th scope=row>2</th><td>5.407243</td><td>-2.061511</td><td>-5.652547</td><td>1.215523</td><td>0.2230158</td><td>0.1128944</td></tr>\n",
       "\t<tr><th scope=row>3</th><td>5.498083</td><td>-1.979088</td><td>-5.451183</td><td>1.164852</td><td>0.2442233</td><td>0.1214161</td></tr>\n",
       "\t<tr><th scope=row>4</th><td>5.588924</td><td>-1.899409</td><td>-5.255953</td><td>1.114750</td><td>0.2674476</td><td>0.1301754</td></tr>\n",
       "\t<tr><th scope=row>5</th><td>5.679764</td><td>-1.822474</td><td>-5.066862</td><td>1.065222</td><td>0.2928804</td><td>0.1391373</td></tr>\n",
       "\t<tr><th scope=row>6</th><td>5.770605</td><td>-1.748284</td><td>-4.883915</td><td>1.016271</td><td>0.3207317</td><td>0.1482638</td></tr>\n",
       "</tbody>\n",
       "</table>\n"
      ],
      "text/latex": [
       "A data.frame: 6 × 6\n",
       "\\begin{tabular}{r|llllll}\n",
       "  & logadpedist & predicted & lcl & ucl & adpedist & probWESEpresent\\\\\n",
       "  & <dbl> & <dbl> & <dbl> & <dbl> & <dbl> & <dbl>\\\\\n",
       "\\hline\n",
       "\t1 & 5.316402 & -2.146679 & -5.860038 & 1.266759 & 0.2036498 & 0.1046420\\\\\n",
       "\t2 & 5.407243 & -2.061511 & -5.652547 & 1.215523 & 0.2230158 & 0.1128944\\\\\n",
       "\t3 & 5.498083 & -1.979088 & -5.451183 & 1.164852 & 0.2442233 & 0.1214161\\\\\n",
       "\t4 & 5.588924 & -1.899409 & -5.255953 & 1.114750 & 0.2674476 & 0.1301754\\\\\n",
       "\t5 & 5.679764 & -1.822474 & -5.066862 & 1.065222 & 0.2928804 & 0.1391373\\\\\n",
       "\t6 & 5.770605 & -1.748284 & -4.883915 & 1.016271 & 0.3207317 & 0.1482638\\\\\n",
       "\\end{tabular}\n"
      ],
      "text/markdown": [
       "\n",
       "A data.frame: 6 × 6\n",
       "\n",
       "| <!--/--> | logadpedist &lt;dbl&gt; | predicted &lt;dbl&gt; | lcl &lt;dbl&gt; | ucl &lt;dbl&gt; | adpedist &lt;dbl&gt; | probWESEpresent &lt;dbl&gt; |\n",
       "|---|---|---|---|---|---|---|\n",
       "| 1 | 5.316402 | -2.146679 | -5.860038 | 1.266759 | 0.2036498 | 0.1046420 |\n",
       "| 2 | 5.407243 | -2.061511 | -5.652547 | 1.215523 | 0.2230158 | 0.1128944 |\n",
       "| 3 | 5.498083 | -1.979088 | -5.451183 | 1.164852 | 0.2442233 | 0.1214161 |\n",
       "| 4 | 5.588924 | -1.899409 | -5.255953 | 1.114750 | 0.2674476 | 0.1301754 |\n",
       "| 5 | 5.679764 | -1.822474 | -5.066862 | 1.065222 | 0.2928804 | 0.1391373 |\n",
       "| 6 | 5.770605 | -1.748284 | -4.883915 | 1.016271 | 0.3207317 | 0.1482638 |\n",
       "\n"
      ],
      "text/plain": [
       "  logadpedist predicted lcl       ucl      adpedist  probWESEpresent\n",
       "1 5.316402    -2.146679 -5.860038 1.266759 0.2036498 0.1046420      \n",
       "2 5.407243    -2.061511 -5.652547 1.215523 0.2230158 0.1128944      \n",
       "3 5.498083    -1.979088 -5.451183 1.164852 0.2442233 0.1214161      \n",
       "4 5.588924    -1.899409 -5.255953 1.114750 0.2674476 0.1301754      \n",
       "5 5.679764    -1.822474 -5.066862 1.065222 0.2928804 0.1391373      \n",
       "6 5.770605    -1.748284 -4.883915 1.016271 0.3207317 0.1482638      "
      ]
     },
     "metadata": {},
     "output_type": "display_data"
    },
    {
     "data": {
      "image/png": "[encoded data removed]",
      "text/plain": [
       "plot without title"
      ]
     },
     "metadata": {
      "image/png": {
       "height": 420,
       "width": 420
      },
      "text/plain": {
       "height": 420,
       "width": 420
      }
     },
     "output_type": "display_data"
    }
   ],
   "source": [
    "#1D partial dependence plot\n",
    "newdata<-getNewData(varDesc=varDesc,pdvars=\"logadpedist\",useMedian=FALSE)\n",
    "pddata<-getpdData(reslst=reslst,newdata=newdata,pdvars=\"logadpedist\",type=\"glm\")\n",
    "pddata$adpedist<-exp(pddata$logadpedist)/1000\n",
    "pddata$probWESEpresent<-exp(pddata$predicted)/(1+exp(pddata$predicted))\n",
    "head(pddata)\n",
    "ggplot(subset(pddata,adpedist<50),aes(x=adpedist,y=probWESEpresent)) + \n",
    "    #geom_bar(stat=\"freq\")\n",
    "    #geom_ribbon(aes(ymin=lcl,ymax=ucl),fill=\"light gray\",alpha=0.5) + \n",
    "    geom_point(size=1,color=\"black\") + labs(x=\"Dist. to ADPE colony (Km)\",y=\"Prob. WESE present\") +\n",
    "    theme_bw() + theme(axis.text=element_text(size=12), axis.title=element_text(size=14))"
   ]
  },
  {
   "cell_type": "markdown",
   "metadata": {},
   "source": [
    "### 2D plot\n",
    "Need to generate the data first..."
   ]
  },
  {
   "cell_type": "code",
   "execution_count": null,
   "metadata": {},
   "outputs": [],
   "source": [
    "newdata<-getNewData(varDesc=varDesc,pdvars=c(\"logempedist\",\"logEMPEabund\"),useMedian=FALSE)\n",
    "pddata<-getpdData(reslst=reslst,newdata=newdata,pdvars=c(\"logempedist\",\"logEMPEabund\"),type=\"glm\")\n",
    "zm<-matrix(pddata$predicted,ncol=100,byrow=F)\n",
    "persp3D(x=unique(pddata$logEMPEabund),y=unique(pddata$logempedist),z=zm,box=T,axes=T,ticktype=\"detailed\",\n",
    "        xlab=\"logEMPEabund\",ylab=\"log(EMPEdist)\",zlab=\"logit(seal_presence)\")"
   ]
  },
  {
   "cell_type": "code",
   "execution_count": null,
   "metadata": {},
   "outputs": [],
   "source": []
  }
 ],
 "metadata": {
  "kernelspec": {
   "display_name": "R",
   "language": "R",
   "name": "ir"
  },
  "language_info": {
   "codemirror_mode": "r",
   "file_extension": ".r",
   "mimetype": "text/x-r-source",
   "name": "R",
   "pygments_lexer": "r",
   "version": "3.4.4"
  }
 },
 "nbformat": 4,
 "nbformat_minor": 2
}
